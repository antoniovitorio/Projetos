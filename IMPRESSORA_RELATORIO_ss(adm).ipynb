{
  "nbformat": 4,
  "nbformat_minor": 0,
  "metadata": {
    "colab": {
      "name": "IMPRESSORA_RELATORIO_ss(adm)",
      "provenance": [],
      "collapsed_sections": [
        "TcZUgeM6fSOY",
        "suntqerijXwa",
        "9r5wDReKvFr1"
      ],
      "toc_visible": true,
      "authorship_tag": "ABX9TyMM4XSPkPEYmgBgAnyQQw4P",
      "include_colab_link": true
    },
    "kernelspec": {
      "name": "python3",
      "display_name": "Python 3"
    }
  },
  "cells": [
    {
      "cell_type": "markdown",
      "metadata": {
        "id": "view-in-github",
        "colab_type": "text"
      },
      "source": [
        "<a href=\"https://colab.research.google.com/github/antoniovitorio/Projetos/blob/master/IMPRESSORA_RELATORIO_ss(adm).ipynb\" target=\"_parent\"><img src=\"https://colab.research.google.com/assets/colab-badge.svg\" alt=\"Open In Colab\"/></a>"
      ]
    },
    {
      "cell_type": "code",
      "metadata": {
        "id": "irA7OToNeBry",
        "colab_type": "code",
        "colab": {}
      },
      "source": [
        "%matplotlib inline"
      ],
      "execution_count": null,
      "outputs": []
    },
    {
      "cell_type": "code",
      "metadata": {
        "id": "IyvSULRmeK5X",
        "colab_type": "code",
        "colab": {}
      },
      "source": [
        "import pandas as pd"
      ],
      "execution_count": null,
      "outputs": []
    },
    {
      "cell_type": "code",
      "metadata": {
        "id": "X9iZlYlheLuE",
        "colab_type": "code",
        "colab": {}
      },
      "source": [
        "import numpy as np"
      ],
      "execution_count": null,
      "outputs": []
    },
    {
      "cell_type": "code",
      "metadata": {
        "id": "IPibz2gjeOUY",
        "colab_type": "code",
        "colab": {}
      },
      "source": [
        "import io"
      ],
      "execution_count": null,
      "outputs": []
    },
    {
      "cell_type": "code",
      "metadata": {
        "id": "eCktNodeeP8p",
        "colab_type": "code",
        "colab": {}
      },
      "source": [
        "import matplotlib.pyplot as plt"
      ],
      "execution_count": null,
      "outputs": []
    },
    {
      "cell_type": "code",
      "metadata": {
        "id": "6iK8xbaCeRy9",
        "colab_type": "code",
        "colab": {}
      },
      "source": [
        "import csv"
      ],
      "execution_count": null,
      "outputs": []
    },
    {
      "cell_type": "code",
      "metadata": {
        "id": "ZB4Rluipedx0",
        "colab_type": "code",
        "colab": {}
      },
      "source": [
        "pd.read_excel(\"/content/sample_data/ADM_IMPRESSOARA.xlsx\")"
      ],
      "execution_count": null,
      "outputs": []
    },
    {
      "cell_type": "code",
      "metadata": {
        "id": "3ZRVVJ96ejvb",
        "colab_type": "code",
        "colab": {}
      },
      "source": [
        "DF = pd.read_excel(\"/content/sample_data/ADM_IMPRESSOARA.xlsx\")\n",
        "DF.head()"
      ],
      "execution_count": null,
      "outputs": []
    },
    {
      "cell_type": "code",
      "metadata": {
        "id": "6RPOdRjlerFu",
        "colab_type": "code",
        "colab": {}
      },
      "source": [
        "DF.rename (columns= {\"User Name\": \"Usuario\",\n",
        "                        \"Type\": \"Processo\",\n",
        "                       \"Print Pages\": \"Total de Paginas\",\n",
        "                       \"Time\": \"Hora\",\n",
        "                       \"Date\": \"Data\",\n",
        "                       \"Job Name\": \"Nome do Arquivo\"\t},inplace = True)"
      ],
      "execution_count": null,
      "outputs": []
    },
    {
      "cell_type": "code",
      "metadata": {
        "id": "aPS0uQ4jeyNE",
        "colab_type": "code",
        "colab": {}
      },
      "source": [
        "DF.head()"
      ],
      "execution_count": null,
      "outputs": []
    },
    {
      "cell_type": "markdown",
      "metadata": {
        "id": "TcZUgeM6fSOY",
        "colab_type": "text"
      },
      "source": [
        "## ***AQUI COMEÇA TOTAL DE PAGINAS POR USUARIO***"
      ]
    },
    {
      "cell_type": "code",
      "metadata": {
        "id": "LoCBx6JPe7wj",
        "colab_type": "code",
        "colab": {
          "base_uri": "https://localhost:8080/",
          "height": 419
        },
        "outputId": "8d21d478-3f23-4aff-b764-9e5995757025"
      },
      "source": [
        "# DADOS USUARIOS \n",
        "DF [[\"Usuario\",\"Processo\",\"Total de Paginas\",\"Data\",\"Hora\"]]"
      ],
      "execution_count": 178,
      "outputs": [
        {
          "output_type": "execute_result",
          "data": {
            "text/html": [
              "<div>\n",
              "<style scoped>\n",
              "    .dataframe tbody tr th:only-of-type {\n",
              "        vertical-align: middle;\n",
              "    }\n",
              "\n",
              "    .dataframe tbody tr th {\n",
              "        vertical-align: top;\n",
              "    }\n",
              "\n",
              "    .dataframe thead th {\n",
              "        text-align: right;\n",
              "    }\n",
              "</style>\n",
              "<table border=\"1\" class=\"dataframe\">\n",
              "  <thead>\n",
              "    <tr style=\"text-align: right;\">\n",
              "      <th></th>\n",
              "      <th>Usuario</th>\n",
              "      <th>Processo</th>\n",
              "      <th>Total de Paginas</th>\n",
              "      <th>Data</th>\n",
              "      <th>Hora</th>\n",
              "    </tr>\n",
              "  </thead>\n",
              "  <tbody>\n",
              "    <tr>\n",
              "      <th>0</th>\n",
              "      <td>brendo.mendonca</td>\n",
              "      <td>Print(Network)</td>\n",
              "      <td>1</td>\n",
              "      <td>2020-08-19</td>\n",
              "      <td>09:01:50</td>\n",
              "    </tr>\n",
              "    <tr>\n",
              "      <th>1</th>\n",
              "      <td>brendo.mendonca</td>\n",
              "      <td>Print(Network)</td>\n",
              "      <td>1</td>\n",
              "      <td>2020-08-19</td>\n",
              "      <td>09:02:10</td>\n",
              "    </tr>\n",
              "    <tr>\n",
              "      <th>2</th>\n",
              "      <td>brendo.mendonca</td>\n",
              "      <td>Print(Network)</td>\n",
              "      <td>1</td>\n",
              "      <td>2020-08-19</td>\n",
              "      <td>09:02:13</td>\n",
              "    </tr>\n",
              "    <tr>\n",
              "      <th>3</th>\n",
              "      <td>brendo.mendonca</td>\n",
              "      <td>Print(Network)</td>\n",
              "      <td>1</td>\n",
              "      <td>2020-08-19</td>\n",
              "      <td>09:02:17</td>\n",
              "    </tr>\n",
              "    <tr>\n",
              "      <th>4</th>\n",
              "      <td>damiao.silva</td>\n",
              "      <td>Print(Network)</td>\n",
              "      <td>25</td>\n",
              "      <td>2020-08-19</td>\n",
              "      <td>11:20:02</td>\n",
              "    </tr>\n",
              "    <tr>\n",
              "      <th>...</th>\n",
              "      <td>...</td>\n",
              "      <td>...</td>\n",
              "      <td>...</td>\n",
              "      <td>...</td>\n",
              "      <td>...</td>\n",
              "    </tr>\n",
              "    <tr>\n",
              "      <th>206</th>\n",
              "      <td>damiao.silva</td>\n",
              "      <td>Print(Network)</td>\n",
              "      <td>1</td>\n",
              "      <td>2020-08-24</td>\n",
              "      <td>10:14:52</td>\n",
              "    </tr>\n",
              "    <tr>\n",
              "      <th>207</th>\n",
              "      <td>damiao.silva</td>\n",
              "      <td>Print(Network)</td>\n",
              "      <td>1</td>\n",
              "      <td>2020-08-24</td>\n",
              "      <td>10:15:11</td>\n",
              "    </tr>\n",
              "    <tr>\n",
              "      <th>208</th>\n",
              "      <td>damiao.silva</td>\n",
              "      <td>Print(Network)</td>\n",
              "      <td>22</td>\n",
              "      <td>2020-08-24</td>\n",
              "      <td>10:30:21</td>\n",
              "    </tr>\n",
              "    <tr>\n",
              "      <th>209</th>\n",
              "      <td>damiao.silva</td>\n",
              "      <td>Print(Network)</td>\n",
              "      <td>22</td>\n",
              "      <td>2020-08-24</td>\n",
              "      <td>10:31:22</td>\n",
              "    </tr>\n",
              "    <tr>\n",
              "      <th>210</th>\n",
              "      <td>damiao.silva</td>\n",
              "      <td>Print(Network)</td>\n",
              "      <td>22</td>\n",
              "      <td>2020-08-24</td>\n",
              "      <td>10:31:22</td>\n",
              "    </tr>\n",
              "  </tbody>\n",
              "</table>\n",
              "<p>211 rows × 5 columns</p>\n",
              "</div>"
            ],
            "text/plain": [
              "             Usuario        Processo  Total de Paginas       Data      Hora\n",
              "0    brendo.mendonca  Print(Network)                 1 2020-08-19  09:01:50\n",
              "1    brendo.mendonca  Print(Network)                 1 2020-08-19  09:02:10\n",
              "2    brendo.mendonca  Print(Network)                 1 2020-08-19  09:02:13\n",
              "3    brendo.mendonca  Print(Network)                 1 2020-08-19  09:02:17\n",
              "4       damiao.silva  Print(Network)                25 2020-08-19  11:20:02\n",
              "..               ...             ...               ...        ...       ...\n",
              "206     damiao.silva  Print(Network)                 1 2020-08-24  10:14:52\n",
              "207     damiao.silva  Print(Network)                 1 2020-08-24  10:15:11\n",
              "208     damiao.silva  Print(Network)                22 2020-08-24  10:30:21\n",
              "209     damiao.silva  Print(Network)                22 2020-08-24  10:31:22\n",
              "210     damiao.silva  Print(Network)                22 2020-08-24  10:31:22\n",
              "\n",
              "[211 rows x 5 columns]"
            ]
          },
          "metadata": {
            "tags": []
          },
          "execution_count": 178
        }
      ]
    },
    {
      "cell_type": "code",
      "metadata": {
        "id": "NiWGm5FYfjYt",
        "colab_type": "code",
        "colab": {
          "base_uri": "https://localhost:8080/",
          "height": 419
        },
        "outputId": "6de94b42-cfa8-4f4c-ca16-f4546ae2d991"
      },
      "source": [
        "DF [[\"Usuario\",\"Processo\",\"Total de Paginas\"]]"
      ],
      "execution_count": 179,
      "outputs": [
        {
          "output_type": "execute_result",
          "data": {
            "text/html": [
              "<div>\n",
              "<style scoped>\n",
              "    .dataframe tbody tr th:only-of-type {\n",
              "        vertical-align: middle;\n",
              "    }\n",
              "\n",
              "    .dataframe tbody tr th {\n",
              "        vertical-align: top;\n",
              "    }\n",
              "\n",
              "    .dataframe thead th {\n",
              "        text-align: right;\n",
              "    }\n",
              "</style>\n",
              "<table border=\"1\" class=\"dataframe\">\n",
              "  <thead>\n",
              "    <tr style=\"text-align: right;\">\n",
              "      <th></th>\n",
              "      <th>Usuario</th>\n",
              "      <th>Processo</th>\n",
              "      <th>Total de Paginas</th>\n",
              "    </tr>\n",
              "  </thead>\n",
              "  <tbody>\n",
              "    <tr>\n",
              "      <th>0</th>\n",
              "      <td>brendo.mendonca</td>\n",
              "      <td>Print(Network)</td>\n",
              "      <td>1</td>\n",
              "    </tr>\n",
              "    <tr>\n",
              "      <th>1</th>\n",
              "      <td>brendo.mendonca</td>\n",
              "      <td>Print(Network)</td>\n",
              "      <td>1</td>\n",
              "    </tr>\n",
              "    <tr>\n",
              "      <th>2</th>\n",
              "      <td>brendo.mendonca</td>\n",
              "      <td>Print(Network)</td>\n",
              "      <td>1</td>\n",
              "    </tr>\n",
              "    <tr>\n",
              "      <th>3</th>\n",
              "      <td>brendo.mendonca</td>\n",
              "      <td>Print(Network)</td>\n",
              "      <td>1</td>\n",
              "    </tr>\n",
              "    <tr>\n",
              "      <th>4</th>\n",
              "      <td>damiao.silva</td>\n",
              "      <td>Print(Network)</td>\n",
              "      <td>25</td>\n",
              "    </tr>\n",
              "    <tr>\n",
              "      <th>...</th>\n",
              "      <td>...</td>\n",
              "      <td>...</td>\n",
              "      <td>...</td>\n",
              "    </tr>\n",
              "    <tr>\n",
              "      <th>206</th>\n",
              "      <td>damiao.silva</td>\n",
              "      <td>Print(Network)</td>\n",
              "      <td>1</td>\n",
              "    </tr>\n",
              "    <tr>\n",
              "      <th>207</th>\n",
              "      <td>damiao.silva</td>\n",
              "      <td>Print(Network)</td>\n",
              "      <td>1</td>\n",
              "    </tr>\n",
              "    <tr>\n",
              "      <th>208</th>\n",
              "      <td>damiao.silva</td>\n",
              "      <td>Print(Network)</td>\n",
              "      <td>22</td>\n",
              "    </tr>\n",
              "    <tr>\n",
              "      <th>209</th>\n",
              "      <td>damiao.silva</td>\n",
              "      <td>Print(Network)</td>\n",
              "      <td>22</td>\n",
              "    </tr>\n",
              "    <tr>\n",
              "      <th>210</th>\n",
              "      <td>damiao.silva</td>\n",
              "      <td>Print(Network)</td>\n",
              "      <td>22</td>\n",
              "    </tr>\n",
              "  </tbody>\n",
              "</table>\n",
              "<p>211 rows × 3 columns</p>\n",
              "</div>"
            ],
            "text/plain": [
              "             Usuario        Processo  Total de Paginas\n",
              "0    brendo.mendonca  Print(Network)                 1\n",
              "1    brendo.mendonca  Print(Network)                 1\n",
              "2    brendo.mendonca  Print(Network)                 1\n",
              "3    brendo.mendonca  Print(Network)                 1\n",
              "4       damiao.silva  Print(Network)                25\n",
              "..               ...             ...               ...\n",
              "206     damiao.silva  Print(Network)                 1\n",
              "207     damiao.silva  Print(Network)                 1\n",
              "208     damiao.silva  Print(Network)                22\n",
              "209     damiao.silva  Print(Network)                22\n",
              "210     damiao.silva  Print(Network)                22\n",
              "\n",
              "[211 rows x 3 columns]"
            ]
          },
          "metadata": {
            "tags": []
          },
          "execution_count": 179
        }
      ]
    },
    {
      "cell_type": "code",
      "metadata": {
        "id": "lN4DaatffvT4",
        "colab_type": "code",
        "colab": {
          "base_uri": "https://localhost:8080/",
          "height": 419
        },
        "outputId": "7330e9cd-0a27-4307-b41a-63d8cff9cb97"
      },
      "source": [
        "dados_grupos = DF [[\"Usuario\",\"Processo\",\"Total de Paginas\"]]\n",
        "dados_grupos"
      ],
      "execution_count": 180,
      "outputs": [
        {
          "output_type": "execute_result",
          "data": {
            "text/html": [
              "<div>\n",
              "<style scoped>\n",
              "    .dataframe tbody tr th:only-of-type {\n",
              "        vertical-align: middle;\n",
              "    }\n",
              "\n",
              "    .dataframe tbody tr th {\n",
              "        vertical-align: top;\n",
              "    }\n",
              "\n",
              "    .dataframe thead th {\n",
              "        text-align: right;\n",
              "    }\n",
              "</style>\n",
              "<table border=\"1\" class=\"dataframe\">\n",
              "  <thead>\n",
              "    <tr style=\"text-align: right;\">\n",
              "      <th></th>\n",
              "      <th>Usuario</th>\n",
              "      <th>Processo</th>\n",
              "      <th>Total de Paginas</th>\n",
              "    </tr>\n",
              "  </thead>\n",
              "  <tbody>\n",
              "    <tr>\n",
              "      <th>0</th>\n",
              "      <td>brendo.mendonca</td>\n",
              "      <td>Print(Network)</td>\n",
              "      <td>1</td>\n",
              "    </tr>\n",
              "    <tr>\n",
              "      <th>1</th>\n",
              "      <td>brendo.mendonca</td>\n",
              "      <td>Print(Network)</td>\n",
              "      <td>1</td>\n",
              "    </tr>\n",
              "    <tr>\n",
              "      <th>2</th>\n",
              "      <td>brendo.mendonca</td>\n",
              "      <td>Print(Network)</td>\n",
              "      <td>1</td>\n",
              "    </tr>\n",
              "    <tr>\n",
              "      <th>3</th>\n",
              "      <td>brendo.mendonca</td>\n",
              "      <td>Print(Network)</td>\n",
              "      <td>1</td>\n",
              "    </tr>\n",
              "    <tr>\n",
              "      <th>4</th>\n",
              "      <td>damiao.silva</td>\n",
              "      <td>Print(Network)</td>\n",
              "      <td>25</td>\n",
              "    </tr>\n",
              "    <tr>\n",
              "      <th>...</th>\n",
              "      <td>...</td>\n",
              "      <td>...</td>\n",
              "      <td>...</td>\n",
              "    </tr>\n",
              "    <tr>\n",
              "      <th>206</th>\n",
              "      <td>damiao.silva</td>\n",
              "      <td>Print(Network)</td>\n",
              "      <td>1</td>\n",
              "    </tr>\n",
              "    <tr>\n",
              "      <th>207</th>\n",
              "      <td>damiao.silva</td>\n",
              "      <td>Print(Network)</td>\n",
              "      <td>1</td>\n",
              "    </tr>\n",
              "    <tr>\n",
              "      <th>208</th>\n",
              "      <td>damiao.silva</td>\n",
              "      <td>Print(Network)</td>\n",
              "      <td>22</td>\n",
              "    </tr>\n",
              "    <tr>\n",
              "      <th>209</th>\n",
              "      <td>damiao.silva</td>\n",
              "      <td>Print(Network)</td>\n",
              "      <td>22</td>\n",
              "    </tr>\n",
              "    <tr>\n",
              "      <th>210</th>\n",
              "      <td>damiao.silva</td>\n",
              "      <td>Print(Network)</td>\n",
              "      <td>22</td>\n",
              "    </tr>\n",
              "  </tbody>\n",
              "</table>\n",
              "<p>211 rows × 3 columns</p>\n",
              "</div>"
            ],
            "text/plain": [
              "             Usuario        Processo  Total de Paginas\n",
              "0    brendo.mendonca  Print(Network)                 1\n",
              "1    brendo.mendonca  Print(Network)                 1\n",
              "2    brendo.mendonca  Print(Network)                 1\n",
              "3    brendo.mendonca  Print(Network)                 1\n",
              "4       damiao.silva  Print(Network)                25\n",
              "..               ...             ...               ...\n",
              "206     damiao.silva  Print(Network)                 1\n",
              "207     damiao.silva  Print(Network)                 1\n",
              "208     damiao.silva  Print(Network)                22\n",
              "209     damiao.silva  Print(Network)                22\n",
              "210     damiao.silva  Print(Network)                22\n",
              "\n",
              "[211 rows x 3 columns]"
            ]
          },
          "metadata": {
            "tags": []
          },
          "execution_count": 180
        }
      ]
    },
    {
      "cell_type": "code",
      "metadata": {
        "id": "DGP9zAdGf34n",
        "colab_type": "code",
        "colab": {
          "base_uri": "https://localhost:8080/",
          "height": 266
        },
        "outputId": "3bf4fc83-2a88-42fb-94f1-bc70e0d9237e"
      },
      "source": [
        "plan_agrupada=dados_grupos.groupby([\"Usuario\",\"Processo\"]).sum()\n",
        "plan_agrupada"
      ],
      "execution_count": 181,
      "outputs": [
        {
          "output_type": "execute_result",
          "data": {
            "text/html": [
              "<div>\n",
              "<style scoped>\n",
              "    .dataframe tbody tr th:only-of-type {\n",
              "        vertical-align: middle;\n",
              "    }\n",
              "\n",
              "    .dataframe tbody tr th {\n",
              "        vertical-align: top;\n",
              "    }\n",
              "\n",
              "    .dataframe thead th {\n",
              "        text-align: right;\n",
              "    }\n",
              "</style>\n",
              "<table border=\"1\" class=\"dataframe\">\n",
              "  <thead>\n",
              "    <tr style=\"text-align: right;\">\n",
              "      <th></th>\n",
              "      <th></th>\n",
              "      <th>Total de Paginas</th>\n",
              "    </tr>\n",
              "    <tr>\n",
              "      <th>Usuario</th>\n",
              "      <th>Processo</th>\n",
              "      <th></th>\n",
              "    </tr>\n",
              "  </thead>\n",
              "  <tbody>\n",
              "    <tr>\n",
              "      <th>Cópias</th>\n",
              "      <th>Copy</th>\n",
              "      <td>32</td>\n",
              "    </tr>\n",
              "    <tr>\n",
              "      <th>TREINAMENTO</th>\n",
              "      <th>Copy</th>\n",
              "      <td>24</td>\n",
              "    </tr>\n",
              "    <tr>\n",
              "      <th>ascencao.ferreira</th>\n",
              "      <th>Print(Network)</th>\n",
              "      <td>14</td>\n",
              "    </tr>\n",
              "    <tr>\n",
              "      <th>brendo.mendonca</th>\n",
              "      <th>Print(Network)</th>\n",
              "      <td>147</td>\n",
              "    </tr>\n",
              "    <tr>\n",
              "      <th>damiao.silva</th>\n",
              "      <th>Print(Network)</th>\n",
              "      <td>418</td>\n",
              "    </tr>\n",
              "    <tr>\n",
              "      <th>jadna.pinheiro</th>\n",
              "      <th>Print(Network)</th>\n",
              "      <td>239</td>\n",
              "    </tr>\n",
              "  </tbody>\n",
              "</table>\n",
              "</div>"
            ],
            "text/plain": [
              "                                  Total de Paginas\n",
              "Usuario           Processo                        \n",
              "Cópias            Copy                          32\n",
              "TREINAMENTO       Copy                          24\n",
              "ascencao.ferreira Print(Network)                14\n",
              "brendo.mendonca   Print(Network)               147\n",
              "damiao.silva      Print(Network)               418\n",
              "jadna.pinheiro    Print(Network)               239"
            ]
          },
          "metadata": {
            "tags": []
          },
          "execution_count": 181
        }
      ]
    },
    {
      "cell_type": "code",
      "metadata": {
        "id": "FVsoofp-gdXk",
        "colab_type": "code",
        "colab": {
          "base_uri": "https://localhost:8080/",
          "height": 266
        },
        "outputId": "17fd0582-903a-45e2-9dd2-92f009873745"
      },
      "source": [
        "\n",
        "dados_user=dados_grupos.groupby([\"Usuario\"]).sum()\n",
        "dados_user"
      ],
      "execution_count": 182,
      "outputs": [
        {
          "output_type": "execute_result",
          "data": {
            "text/html": [
              "<div>\n",
              "<style scoped>\n",
              "    .dataframe tbody tr th:only-of-type {\n",
              "        vertical-align: middle;\n",
              "    }\n",
              "\n",
              "    .dataframe tbody tr th {\n",
              "        vertical-align: top;\n",
              "    }\n",
              "\n",
              "    .dataframe thead th {\n",
              "        text-align: right;\n",
              "    }\n",
              "</style>\n",
              "<table border=\"1\" class=\"dataframe\">\n",
              "  <thead>\n",
              "    <tr style=\"text-align: right;\">\n",
              "      <th></th>\n",
              "      <th>Total de Paginas</th>\n",
              "    </tr>\n",
              "    <tr>\n",
              "      <th>Usuario</th>\n",
              "      <th></th>\n",
              "    </tr>\n",
              "  </thead>\n",
              "  <tbody>\n",
              "    <tr>\n",
              "      <th>Cópias</th>\n",
              "      <td>32</td>\n",
              "    </tr>\n",
              "    <tr>\n",
              "      <th>TREINAMENTO</th>\n",
              "      <td>24</td>\n",
              "    </tr>\n",
              "    <tr>\n",
              "      <th>ascencao.ferreira</th>\n",
              "      <td>14</td>\n",
              "    </tr>\n",
              "    <tr>\n",
              "      <th>brendo.mendonca</th>\n",
              "      <td>147</td>\n",
              "    </tr>\n",
              "    <tr>\n",
              "      <th>damiao.silva</th>\n",
              "      <td>418</td>\n",
              "    </tr>\n",
              "    <tr>\n",
              "      <th>jadna.pinheiro</th>\n",
              "      <td>239</td>\n",
              "    </tr>\n",
              "  </tbody>\n",
              "</table>\n",
              "</div>"
            ],
            "text/plain": [
              "                   Total de Paginas\n",
              "Usuario                            \n",
              "Cópias                           32\n",
              "TREINAMENTO                      24\n",
              "ascencao.ferreira                14\n",
              "brendo.mendonca                 147\n",
              "damiao.silva                    418\n",
              "jadna.pinheiro                  239"
            ]
          },
          "metadata": {
            "tags": []
          },
          "execution_count": 182
        }
      ]
    },
    {
      "cell_type": "code",
      "metadata": {
        "id": "g_e_wfP4g1Vh",
        "colab_type": "code",
        "colab": {
          "base_uri": "https://localhost:8080/",
          "height": 266
        },
        "outputId": "10da0ad6-aa14-4265-9ecd-dcddc6104ad2"
      },
      "source": [
        "#DADOS DOS USUARIOS (TOTAL DE PAGINAS)\n",
        "Total_por_User = dados_user.sort_values(by='Total de Paginas')\n",
        "Total_por_User"
      ],
      "execution_count": 183,
      "outputs": [
        {
          "output_type": "execute_result",
          "data": {
            "text/html": [
              "<div>\n",
              "<style scoped>\n",
              "    .dataframe tbody tr th:only-of-type {\n",
              "        vertical-align: middle;\n",
              "    }\n",
              "\n",
              "    .dataframe tbody tr th {\n",
              "        vertical-align: top;\n",
              "    }\n",
              "\n",
              "    .dataframe thead th {\n",
              "        text-align: right;\n",
              "    }\n",
              "</style>\n",
              "<table border=\"1\" class=\"dataframe\">\n",
              "  <thead>\n",
              "    <tr style=\"text-align: right;\">\n",
              "      <th></th>\n",
              "      <th>Total de Paginas</th>\n",
              "    </tr>\n",
              "    <tr>\n",
              "      <th>Usuario</th>\n",
              "      <th></th>\n",
              "    </tr>\n",
              "  </thead>\n",
              "  <tbody>\n",
              "    <tr>\n",
              "      <th>ascencao.ferreira</th>\n",
              "      <td>14</td>\n",
              "    </tr>\n",
              "    <tr>\n",
              "      <th>TREINAMENTO</th>\n",
              "      <td>24</td>\n",
              "    </tr>\n",
              "    <tr>\n",
              "      <th>Cópias</th>\n",
              "      <td>32</td>\n",
              "    </tr>\n",
              "    <tr>\n",
              "      <th>brendo.mendonca</th>\n",
              "      <td>147</td>\n",
              "    </tr>\n",
              "    <tr>\n",
              "      <th>jadna.pinheiro</th>\n",
              "      <td>239</td>\n",
              "    </tr>\n",
              "    <tr>\n",
              "      <th>damiao.silva</th>\n",
              "      <td>418</td>\n",
              "    </tr>\n",
              "  </tbody>\n",
              "</table>\n",
              "</div>"
            ],
            "text/plain": [
              "                   Total de Paginas\n",
              "Usuario                            \n",
              "ascencao.ferreira                14\n",
              "TREINAMENTO                      24\n",
              "Cópias                           32\n",
              "brendo.mendonca                 147\n",
              "jadna.pinheiro                  239\n",
              "damiao.silva                    418"
            ]
          },
          "metadata": {
            "tags": []
          },
          "execution_count": 183
        }
      ]
    },
    {
      "cell_type": "code",
      "metadata": {
        "id": "IBHL1tb2hRg6",
        "colab_type": "code",
        "colab": {}
      },
      "source": [
        "# GRAFICO DADOS USUARIOS(TOTAL DE PAGINAS POR USUARIO)\n",
        "Total_por_User[[\"Total de Paginas\"]].plot(figsize=(15,8), kind = 'bar')\n",
        "plt.title(\"IMPRESSORA SS\", y=1.08, fontsize='20')\n",
        "plt.xticks(rotation=45)\n",
        "plt.draw()"
      ],
      "execution_count": null,
      "outputs": []
    },
    {
      "cell_type": "code",
      "metadata": {
        "id": "oOx4wCNTiRNy",
        "colab_type": "code",
        "colab": {}
      },
      "source": [
        "# GRAFICO DADOS USUARIOS\n",
        "dados= dados_org.plot(kind='pie',\n",
        "                      wedgeprops = {\"ec\": \"k\"},\n",
        "                      figsize=(17,8),\n",
        "                      labeldistance = 1.04,\n",
        "                      subplots=True,\n",
        "                      autopct='%1.1f%%',\n",
        "                      textprops = {\"fontsize\": 13})\n",
        "plt.axis('equal')\n",
        "plt.legend(title='Usuarios',loc=3)\n",
        "plt.tight_layout()\n",
        "plt.title(\"GRÁFICO 02\", y=5.08, fontsize='20')\n",
        "plt.draw()"
      ],
      "execution_count": null,
      "outputs": []
    },
    {
      "cell_type": "markdown",
      "metadata": {
        "id": "suntqerijXwa",
        "colab_type": "text"
      },
      "source": [
        "## ***AQUI COMEÇA ARQUIVO MAIS IMPRESSO***"
      ]
    },
    {
      "cell_type": "code",
      "metadata": {
        "id": "NVrNt_CXjnMT",
        "colab_type": "code",
        "colab": {
          "base_uri": "https://localhost:8080/",
          "height": 204
        },
        "outputId": "30521e94-96e5-436d-a599-8986c319a2df"
      },
      "source": [
        "DF.head()"
      ],
      "execution_count": 187,
      "outputs": [
        {
          "output_type": "execute_result",
          "data": {
            "text/html": [
              "<div>\n",
              "<style scoped>\n",
              "    .dataframe tbody tr th:only-of-type {\n",
              "        vertical-align: middle;\n",
              "    }\n",
              "\n",
              "    .dataframe tbody tr th {\n",
              "        vertical-align: top;\n",
              "    }\n",
              "\n",
              "    .dataframe thead th {\n",
              "        text-align: right;\n",
              "    }\n",
              "</style>\n",
              "<table border=\"1\" class=\"dataframe\">\n",
              "  <thead>\n",
              "    <tr style=\"text-align: right;\">\n",
              "      <th></th>\n",
              "      <th>Id</th>\n",
              "      <th>Processo</th>\n",
              "      <th>Nome do Arquivo</th>\n",
              "      <th>Usuario</th>\n",
              "      <th>Data</th>\n",
              "      <th>Hora</th>\n",
              "      <th>Total de Paginas</th>\n",
              "    </tr>\n",
              "  </thead>\n",
              "  <tbody>\n",
              "    <tr>\n",
              "      <th>0</th>\n",
              "      <td>1</td>\n",
              "      <td>Print(Network)</td>\n",
              "      <td>CHAVE JESSICA.pdf</td>\n",
              "      <td>brendo.mendonca</td>\n",
              "      <td>2020-08-19</td>\n",
              "      <td>09:01:50</td>\n",
              "      <td>1</td>\n",
              "    </tr>\n",
              "    <tr>\n",
              "      <th>1</th>\n",
              "      <td>2</td>\n",
              "      <td>Print(Network)</td>\n",
              "      <td>CHAVE JESSICA.pdf</td>\n",
              "      <td>brendo.mendonca</td>\n",
              "      <td>2020-08-19</td>\n",
              "      <td>09:02:10</td>\n",
              "      <td>1</td>\n",
              "    </tr>\n",
              "    <tr>\n",
              "      <th>2</th>\n",
              "      <td>3</td>\n",
              "      <td>Print(Network)</td>\n",
              "      <td>EXTRATO JESSICA.pdf</td>\n",
              "      <td>brendo.mendonca</td>\n",
              "      <td>2020-08-19</td>\n",
              "      <td>09:02:13</td>\n",
              "      <td>1</td>\n",
              "    </tr>\n",
              "    <tr>\n",
              "      <th>3</th>\n",
              "      <td>4</td>\n",
              "      <td>Print(Network)</td>\n",
              "      <td>EXTRATO JESSICA.pdf</td>\n",
              "      <td>brendo.mendonca</td>\n",
              "      <td>2020-08-19</td>\n",
              "      <td>09:02:17</td>\n",
              "      <td>1</td>\n",
              "    </tr>\n",
              "    <tr>\n",
              "      <th>4</th>\n",
              "      <td>5</td>\n",
              "      <td>Print(Network)</td>\n",
              "      <td>GABARITO OFICIAL.xlsx</td>\n",
              "      <td>damiao.silva</td>\n",
              "      <td>2020-08-19</td>\n",
              "      <td>11:20:02</td>\n",
              "      <td>25</td>\n",
              "    </tr>\n",
              "  </tbody>\n",
              "</table>\n",
              "</div>"
            ],
            "text/plain": [
              "   Id        Processo  ...      Hora Total de Paginas\n",
              "0   1  Print(Network)  ...  09:01:50                1\n",
              "1   2  Print(Network)  ...  09:02:10                1\n",
              "2   3  Print(Network)  ...  09:02:13                1\n",
              "3   4  Print(Network)  ...  09:02:17                1\n",
              "4   5  Print(Network)  ...  11:20:02               25\n",
              "\n",
              "[5 rows x 7 columns]"
            ]
          },
          "metadata": {
            "tags": []
          },
          "execution_count": 187
        }
      ]
    },
    {
      "cell_type": "code",
      "metadata": {
        "id": "nlVBzSehkCg3",
        "colab_type": "code",
        "colab": {
          "base_uri": "https://localhost:8080/",
          "height": 419
        },
        "outputId": "7227d067-f31b-410e-80a8-e3e34e73fa81"
      },
      "source": [
        "DT_PG= DF [[\"Usuario\",\"Processo\",\"Nome do Arquivo\",\"Total de Paginas\"]]\n",
        "DT_PG"
      ],
      "execution_count": 188,
      "outputs": [
        {
          "output_type": "execute_result",
          "data": {
            "text/html": [
              "<div>\n",
              "<style scoped>\n",
              "    .dataframe tbody tr th:only-of-type {\n",
              "        vertical-align: middle;\n",
              "    }\n",
              "\n",
              "    .dataframe tbody tr th {\n",
              "        vertical-align: top;\n",
              "    }\n",
              "\n",
              "    .dataframe thead th {\n",
              "        text-align: right;\n",
              "    }\n",
              "</style>\n",
              "<table border=\"1\" class=\"dataframe\">\n",
              "  <thead>\n",
              "    <tr style=\"text-align: right;\">\n",
              "      <th></th>\n",
              "      <th>Usuario</th>\n",
              "      <th>Processo</th>\n",
              "      <th>Nome do Arquivo</th>\n",
              "      <th>Total de Paginas</th>\n",
              "    </tr>\n",
              "  </thead>\n",
              "  <tbody>\n",
              "    <tr>\n",
              "      <th>0</th>\n",
              "      <td>brendo.mendonca</td>\n",
              "      <td>Print(Network)</td>\n",
              "      <td>CHAVE JESSICA.pdf</td>\n",
              "      <td>1</td>\n",
              "    </tr>\n",
              "    <tr>\n",
              "      <th>1</th>\n",
              "      <td>brendo.mendonca</td>\n",
              "      <td>Print(Network)</td>\n",
              "      <td>CHAVE JESSICA.pdf</td>\n",
              "      <td>1</td>\n",
              "    </tr>\n",
              "    <tr>\n",
              "      <th>2</th>\n",
              "      <td>brendo.mendonca</td>\n",
              "      <td>Print(Network)</td>\n",
              "      <td>EXTRATO JESSICA.pdf</td>\n",
              "      <td>1</td>\n",
              "    </tr>\n",
              "    <tr>\n",
              "      <th>3</th>\n",
              "      <td>brendo.mendonca</td>\n",
              "      <td>Print(Network)</td>\n",
              "      <td>EXTRATO JESSICA.pdf</td>\n",
              "      <td>1</td>\n",
              "    </tr>\n",
              "    <tr>\n",
              "      <th>4</th>\n",
              "      <td>damiao.silva</td>\n",
              "      <td>Print(Network)</td>\n",
              "      <td>GABARITO OFICIAL.xlsx</td>\n",
              "      <td>25</td>\n",
              "    </tr>\n",
              "    <tr>\n",
              "      <th>...</th>\n",
              "      <td>...</td>\n",
              "      <td>...</td>\n",
              "      <td>...</td>\n",
              "      <td>...</td>\n",
              "    </tr>\n",
              "    <tr>\n",
              "      <th>206</th>\n",
              "      <td>damiao.silva</td>\n",
              "      <td>Print(Network)</td>\n",
              "      <td>TREINAMENTO TIM - MIG. 20.08.2020.xlsm</td>\n",
              "      <td>1</td>\n",
              "    </tr>\n",
              "    <tr>\n",
              "      <th>207</th>\n",
              "      <td>damiao.silva</td>\n",
              "      <td>Print(Network)</td>\n",
              "      <td>TREINAMENTO TIM - MIG. 20.08.2020.xlsm</td>\n",
              "      <td>1</td>\n",
              "    </tr>\n",
              "    <tr>\n",
              "      <th>208</th>\n",
              "      <td>damiao.silva</td>\n",
              "      <td>Print(Network)</td>\n",
              "      <td>GABARITO OFICIAL.xlsx</td>\n",
              "      <td>22</td>\n",
              "    </tr>\n",
              "    <tr>\n",
              "      <th>209</th>\n",
              "      <td>damiao.silva</td>\n",
              "      <td>Print(Network)</td>\n",
              "      <td>GABARITO OFICIAL.xlsx</td>\n",
              "      <td>22</td>\n",
              "    </tr>\n",
              "    <tr>\n",
              "      <th>210</th>\n",
              "      <td>damiao.silva</td>\n",
              "      <td>Print(Network)</td>\n",
              "      <td>GABARITO OFICIAL.xlsx</td>\n",
              "      <td>22</td>\n",
              "    </tr>\n",
              "  </tbody>\n",
              "</table>\n",
              "<p>211 rows × 4 columns</p>\n",
              "</div>"
            ],
            "text/plain": [
              "             Usuario  ... Total de Paginas\n",
              "0    brendo.mendonca  ...                1\n",
              "1    brendo.mendonca  ...                1\n",
              "2    brendo.mendonca  ...                1\n",
              "3    brendo.mendonca  ...                1\n",
              "4       damiao.silva  ...               25\n",
              "..               ...  ...              ...\n",
              "206     damiao.silva  ...                1\n",
              "207     damiao.silva  ...                1\n",
              "208     damiao.silva  ...               22\n",
              "209     damiao.silva  ...               22\n",
              "210     damiao.silva  ...               22\n",
              "\n",
              "[211 rows x 4 columns]"
            ]
          },
          "metadata": {
            "tags": []
          },
          "execution_count": 188
        }
      ]
    },
    {
      "cell_type": "code",
      "metadata": {
        "id": "7uZ2i0eMkkCz",
        "colab_type": "code",
        "colab": {
          "base_uri": "https://localhost:8080/",
          "height": 419
        },
        "outputId": "4a093685-464a-44b5-a743-acaac467ef03"
      },
      "source": [
        "DT_PG[[\"Processo\",\"Nome do Arquivo\",\"Total de Paginas\"]]"
      ],
      "execution_count": 189,
      "outputs": [
        {
          "output_type": "execute_result",
          "data": {
            "text/html": [
              "<div>\n",
              "<style scoped>\n",
              "    .dataframe tbody tr th:only-of-type {\n",
              "        vertical-align: middle;\n",
              "    }\n",
              "\n",
              "    .dataframe tbody tr th {\n",
              "        vertical-align: top;\n",
              "    }\n",
              "\n",
              "    .dataframe thead th {\n",
              "        text-align: right;\n",
              "    }\n",
              "</style>\n",
              "<table border=\"1\" class=\"dataframe\">\n",
              "  <thead>\n",
              "    <tr style=\"text-align: right;\">\n",
              "      <th></th>\n",
              "      <th>Processo</th>\n",
              "      <th>Nome do Arquivo</th>\n",
              "      <th>Total de Paginas</th>\n",
              "    </tr>\n",
              "  </thead>\n",
              "  <tbody>\n",
              "    <tr>\n",
              "      <th>0</th>\n",
              "      <td>Print(Network)</td>\n",
              "      <td>CHAVE JESSICA.pdf</td>\n",
              "      <td>1</td>\n",
              "    </tr>\n",
              "    <tr>\n",
              "      <th>1</th>\n",
              "      <td>Print(Network)</td>\n",
              "      <td>CHAVE JESSICA.pdf</td>\n",
              "      <td>1</td>\n",
              "    </tr>\n",
              "    <tr>\n",
              "      <th>2</th>\n",
              "      <td>Print(Network)</td>\n",
              "      <td>EXTRATO JESSICA.pdf</td>\n",
              "      <td>1</td>\n",
              "    </tr>\n",
              "    <tr>\n",
              "      <th>3</th>\n",
              "      <td>Print(Network)</td>\n",
              "      <td>EXTRATO JESSICA.pdf</td>\n",
              "      <td>1</td>\n",
              "    </tr>\n",
              "    <tr>\n",
              "      <th>4</th>\n",
              "      <td>Print(Network)</td>\n",
              "      <td>GABARITO OFICIAL.xlsx</td>\n",
              "      <td>25</td>\n",
              "    </tr>\n",
              "    <tr>\n",
              "      <th>...</th>\n",
              "      <td>...</td>\n",
              "      <td>...</td>\n",
              "      <td>...</td>\n",
              "    </tr>\n",
              "    <tr>\n",
              "      <th>206</th>\n",
              "      <td>Print(Network)</td>\n",
              "      <td>TREINAMENTO TIM - MIG. 20.08.2020.xlsm</td>\n",
              "      <td>1</td>\n",
              "    </tr>\n",
              "    <tr>\n",
              "      <th>207</th>\n",
              "      <td>Print(Network)</td>\n",
              "      <td>TREINAMENTO TIM - MIG. 20.08.2020.xlsm</td>\n",
              "      <td>1</td>\n",
              "    </tr>\n",
              "    <tr>\n",
              "      <th>208</th>\n",
              "      <td>Print(Network)</td>\n",
              "      <td>GABARITO OFICIAL.xlsx</td>\n",
              "      <td>22</td>\n",
              "    </tr>\n",
              "    <tr>\n",
              "      <th>209</th>\n",
              "      <td>Print(Network)</td>\n",
              "      <td>GABARITO OFICIAL.xlsx</td>\n",
              "      <td>22</td>\n",
              "    </tr>\n",
              "    <tr>\n",
              "      <th>210</th>\n",
              "      <td>Print(Network)</td>\n",
              "      <td>GABARITO OFICIAL.xlsx</td>\n",
              "      <td>22</td>\n",
              "    </tr>\n",
              "  </tbody>\n",
              "</table>\n",
              "<p>211 rows × 3 columns</p>\n",
              "</div>"
            ],
            "text/plain": [
              "           Processo                         Nome do Arquivo  Total de Paginas\n",
              "0    Print(Network)                       CHAVE JESSICA.pdf                 1\n",
              "1    Print(Network)                       CHAVE JESSICA.pdf                 1\n",
              "2    Print(Network)                     EXTRATO JESSICA.pdf                 1\n",
              "3    Print(Network)                     EXTRATO JESSICA.pdf                 1\n",
              "4    Print(Network)                   GABARITO OFICIAL.xlsx                25\n",
              "..              ...                                     ...               ...\n",
              "206  Print(Network)  TREINAMENTO TIM - MIG. 20.08.2020.xlsm                 1\n",
              "207  Print(Network)  TREINAMENTO TIM - MIG. 20.08.2020.xlsm                 1\n",
              "208  Print(Network)                   GABARITO OFICIAL.xlsx                22\n",
              "209  Print(Network)                   GABARITO OFICIAL.xlsx                22\n",
              "210  Print(Network)                   GABARITO OFICIAL.xlsx                22\n",
              "\n",
              "[211 rows x 3 columns]"
            ]
          },
          "metadata": {
            "tags": []
          },
          "execution_count": 189
        }
      ]
    },
    {
      "cell_type": "code",
      "metadata": {
        "id": "Tj2pVz1SkrIk",
        "colab_type": "code",
        "colab": {
          "base_uri": "https://localhost:8080/",
          "height": 419
        },
        "outputId": "e6a9c0fa-9ea0-47d7-a008-9a5a6f2a1b46"
      },
      "source": [
        "Num_pagina=DT_PG[[\"Processo\",\"Nome do Arquivo\",\"Total de Paginas\"]]\n",
        "Num_pagina"
      ],
      "execution_count": 190,
      "outputs": [
        {
          "output_type": "execute_result",
          "data": {
            "text/html": [
              "<div>\n",
              "<style scoped>\n",
              "    .dataframe tbody tr th:only-of-type {\n",
              "        vertical-align: middle;\n",
              "    }\n",
              "\n",
              "    .dataframe tbody tr th {\n",
              "        vertical-align: top;\n",
              "    }\n",
              "\n",
              "    .dataframe thead th {\n",
              "        text-align: right;\n",
              "    }\n",
              "</style>\n",
              "<table border=\"1\" class=\"dataframe\">\n",
              "  <thead>\n",
              "    <tr style=\"text-align: right;\">\n",
              "      <th></th>\n",
              "      <th>Processo</th>\n",
              "      <th>Nome do Arquivo</th>\n",
              "      <th>Total de Paginas</th>\n",
              "    </tr>\n",
              "  </thead>\n",
              "  <tbody>\n",
              "    <tr>\n",
              "      <th>0</th>\n",
              "      <td>Print(Network)</td>\n",
              "      <td>CHAVE JESSICA.pdf</td>\n",
              "      <td>1</td>\n",
              "    </tr>\n",
              "    <tr>\n",
              "      <th>1</th>\n",
              "      <td>Print(Network)</td>\n",
              "      <td>CHAVE JESSICA.pdf</td>\n",
              "      <td>1</td>\n",
              "    </tr>\n",
              "    <tr>\n",
              "      <th>2</th>\n",
              "      <td>Print(Network)</td>\n",
              "      <td>EXTRATO JESSICA.pdf</td>\n",
              "      <td>1</td>\n",
              "    </tr>\n",
              "    <tr>\n",
              "      <th>3</th>\n",
              "      <td>Print(Network)</td>\n",
              "      <td>EXTRATO JESSICA.pdf</td>\n",
              "      <td>1</td>\n",
              "    </tr>\n",
              "    <tr>\n",
              "      <th>4</th>\n",
              "      <td>Print(Network)</td>\n",
              "      <td>GABARITO OFICIAL.xlsx</td>\n",
              "      <td>25</td>\n",
              "    </tr>\n",
              "    <tr>\n",
              "      <th>...</th>\n",
              "      <td>...</td>\n",
              "      <td>...</td>\n",
              "      <td>...</td>\n",
              "    </tr>\n",
              "    <tr>\n",
              "      <th>206</th>\n",
              "      <td>Print(Network)</td>\n",
              "      <td>TREINAMENTO TIM - MIG. 20.08.2020.xlsm</td>\n",
              "      <td>1</td>\n",
              "    </tr>\n",
              "    <tr>\n",
              "      <th>207</th>\n",
              "      <td>Print(Network)</td>\n",
              "      <td>TREINAMENTO TIM - MIG. 20.08.2020.xlsm</td>\n",
              "      <td>1</td>\n",
              "    </tr>\n",
              "    <tr>\n",
              "      <th>208</th>\n",
              "      <td>Print(Network)</td>\n",
              "      <td>GABARITO OFICIAL.xlsx</td>\n",
              "      <td>22</td>\n",
              "    </tr>\n",
              "    <tr>\n",
              "      <th>209</th>\n",
              "      <td>Print(Network)</td>\n",
              "      <td>GABARITO OFICIAL.xlsx</td>\n",
              "      <td>22</td>\n",
              "    </tr>\n",
              "    <tr>\n",
              "      <th>210</th>\n",
              "      <td>Print(Network)</td>\n",
              "      <td>GABARITO OFICIAL.xlsx</td>\n",
              "      <td>22</td>\n",
              "    </tr>\n",
              "  </tbody>\n",
              "</table>\n",
              "<p>211 rows × 3 columns</p>\n",
              "</div>"
            ],
            "text/plain": [
              "           Processo                         Nome do Arquivo  Total de Paginas\n",
              "0    Print(Network)                       CHAVE JESSICA.pdf                 1\n",
              "1    Print(Network)                       CHAVE JESSICA.pdf                 1\n",
              "2    Print(Network)                     EXTRATO JESSICA.pdf                 1\n",
              "3    Print(Network)                     EXTRATO JESSICA.pdf                 1\n",
              "4    Print(Network)                   GABARITO OFICIAL.xlsx                25\n",
              "..              ...                                     ...               ...\n",
              "206  Print(Network)  TREINAMENTO TIM - MIG. 20.08.2020.xlsm                 1\n",
              "207  Print(Network)  TREINAMENTO TIM - MIG. 20.08.2020.xlsm                 1\n",
              "208  Print(Network)                   GABARITO OFICIAL.xlsx                22\n",
              "209  Print(Network)                   GABARITO OFICIAL.xlsx                22\n",
              "210  Print(Network)                   GABARITO OFICIAL.xlsx                22\n",
              "\n",
              "[211 rows x 3 columns]"
            ]
          },
          "metadata": {
            "tags": []
          },
          "execution_count": 190
        }
      ]
    },
    {
      "cell_type": "code",
      "metadata": {
        "id": "yKMhwCYplm7h",
        "colab_type": "code",
        "colab": {
          "base_uri": "https://localhost:8080/",
          "height": 204
        },
        "outputId": "11adfbe4-86b9-40b2-df37-1dbb546c8825"
      },
      "source": [
        "numeropag = Num_pagina[[\"Nome do Arquivo\",\"Total de Paginas\"]]\n",
        "numeropag.head()"
      ],
      "execution_count": 191,
      "outputs": [
        {
          "output_type": "execute_result",
          "data": {
            "text/html": [
              "<div>\n",
              "<style scoped>\n",
              "    .dataframe tbody tr th:only-of-type {\n",
              "        vertical-align: middle;\n",
              "    }\n",
              "\n",
              "    .dataframe tbody tr th {\n",
              "        vertical-align: top;\n",
              "    }\n",
              "\n",
              "    .dataframe thead th {\n",
              "        text-align: right;\n",
              "    }\n",
              "</style>\n",
              "<table border=\"1\" class=\"dataframe\">\n",
              "  <thead>\n",
              "    <tr style=\"text-align: right;\">\n",
              "      <th></th>\n",
              "      <th>Nome do Arquivo</th>\n",
              "      <th>Total de Paginas</th>\n",
              "    </tr>\n",
              "  </thead>\n",
              "  <tbody>\n",
              "    <tr>\n",
              "      <th>0</th>\n",
              "      <td>CHAVE JESSICA.pdf</td>\n",
              "      <td>1</td>\n",
              "    </tr>\n",
              "    <tr>\n",
              "      <th>1</th>\n",
              "      <td>CHAVE JESSICA.pdf</td>\n",
              "      <td>1</td>\n",
              "    </tr>\n",
              "    <tr>\n",
              "      <th>2</th>\n",
              "      <td>EXTRATO JESSICA.pdf</td>\n",
              "      <td>1</td>\n",
              "    </tr>\n",
              "    <tr>\n",
              "      <th>3</th>\n",
              "      <td>EXTRATO JESSICA.pdf</td>\n",
              "      <td>1</td>\n",
              "    </tr>\n",
              "    <tr>\n",
              "      <th>4</th>\n",
              "      <td>GABARITO OFICIAL.xlsx</td>\n",
              "      <td>25</td>\n",
              "    </tr>\n",
              "  </tbody>\n",
              "</table>\n",
              "</div>"
            ],
            "text/plain": [
              "         Nome do Arquivo  Total de Paginas\n",
              "0      CHAVE JESSICA.pdf                 1\n",
              "1      CHAVE JESSICA.pdf                 1\n",
              "2    EXTRATO JESSICA.pdf                 1\n",
              "3    EXTRATO JESSICA.pdf                 1\n",
              "4  GABARITO OFICIAL.xlsx                25"
            ]
          },
          "metadata": {
            "tags": []
          },
          "execution_count": 191
        }
      ]
    },
    {
      "cell_type": "code",
      "metadata": {
        "id": "1BGdwgL3mIMd",
        "colab_type": "code",
        "colab": {
          "base_uri": "https://localhost:8080/",
          "height": 450
        },
        "outputId": "b830c2d4-bed7-4ff7-d9ed-522f15a96f06"
      },
      "source": [
        "total_paginas = numeropag.groupby([\"Nome do Arquivo\"]).sum()\n",
        "total_paginas"
      ],
      "execution_count": 192,
      "outputs": [
        {
          "output_type": "execute_result",
          "data": {
            "text/html": [
              "<div>\n",
              "<style scoped>\n",
              "    .dataframe tbody tr th:only-of-type {\n",
              "        vertical-align: middle;\n",
              "    }\n",
              "\n",
              "    .dataframe tbody tr th {\n",
              "        vertical-align: top;\n",
              "    }\n",
              "\n",
              "    .dataframe thead th {\n",
              "        text-align: right;\n",
              "    }\n",
              "</style>\n",
              "<table border=\"1\" class=\"dataframe\">\n",
              "  <thead>\n",
              "    <tr style=\"text-align: right;\">\n",
              "      <th></th>\n",
              "      <th>Total de Paginas</th>\n",
              "    </tr>\n",
              "    <tr>\n",
              "      <th>Nome do Arquivo</th>\n",
              "      <th></th>\n",
              "    </tr>\n",
              "  </thead>\n",
              "  <tbody>\n",
              "    <tr>\n",
              "      <th>-</th>\n",
              "      <td>56</td>\n",
              "    </tr>\n",
              "    <tr>\n",
              "      <th>5acc3563-f416-4845-866b-e753e755532a (720 1280)</th>\n",
              "      <td>1</td>\n",
              "    </tr>\n",
              "    <tr>\n",
              "      <th>714d0b1b-c7a3-436b-aefa-1a6a0828cce4 (540 1110)</th>\n",
              "      <td>1</td>\n",
              "    </tr>\n",
              "    <tr>\n",
              "      <th>874d1cdb-ba5e-4c22-a9df-3639737ba63b (1280 719)</th>\n",
              "      <td>1</td>\n",
              "    </tr>\n",
              "    <tr>\n",
              "      <th>980658e6-3281-4391-b47c-1ab763bcc4cb (720 1520)</th>\n",
              "      <td>2</td>\n",
              "    </tr>\n",
              "    <tr>\n",
              "      <th>...</th>\n",
              "      <td>...</td>\n",
              "    </tr>\n",
              "    <tr>\n",
              "      <th>banco samantha sl.pdf</th>\n",
              "      <td>1</td>\n",
              "    </tr>\n",
              "    <tr>\n",
              "      <th>chave flavia.pdf</th>\n",
              "      <td>2</td>\n",
              "    </tr>\n",
              "    <tr>\n",
              "      <th>d5ff1446-3e1d-49a9-86d2-cefa5cab8c17 (375 647)</th>\n",
              "      <td>1</td>\n",
              "    </tr>\n",
              "    <tr>\n",
              "      <th>das_35094659000139_20200701(1).pdf</th>\n",
              "      <td>1</td>\n",
              "    </tr>\n",
              "    <tr>\n",
              "      <th>e43e0c1f-4921-405b-9bf8-d3621d5c2122 (1080 2220)</th>\n",
              "      <td>1</td>\n",
              "    </tr>\n",
              "  </tbody>\n",
              "</table>\n",
              "<p>67 rows × 1 columns</p>\n",
              "</div>"
            ],
            "text/plain": [
              "                                                  Total de Paginas\n",
              "Nome do Arquivo                                                   \n",
              "-                                                               56\n",
              "5acc3563-f416-4845-866b-e753e755532a (720 1280)                  1\n",
              "714d0b1b-c7a3-436b-aefa-1a6a0828cce4 (540 1110)                  1\n",
              "874d1cdb-ba5e-4c22-a9df-3639737ba63b (1280 719)                  1\n",
              "980658e6-3281-4391-b47c-1ab763bcc4cb (720 1520)                  2\n",
              "...                                                            ...\n",
              "banco samantha sl.pdf                                            1\n",
              "chave flavia.pdf                                                 2\n",
              "d5ff1446-3e1d-49a9-86d2-cefa5cab8c17 (375 647)                   1\n",
              "das_35094659000139_20200701(1).pdf                               1\n",
              "e43e0c1f-4921-405b-9bf8-d3621d5c2122 (1080 2220)                 1\n",
              "\n",
              "[67 rows x 1 columns]"
            ]
          },
          "metadata": {
            "tags": []
          },
          "execution_count": 192
        }
      ]
    },
    {
      "cell_type": "code",
      "metadata": {
        "id": "ceN_pCYdmY9F",
        "colab_type": "code",
        "colab": {}
      },
      "source": [
        "#arquivo que foi mais impresso\n",
        "TOT_PAGINAS = total_paginas.sort_values(by=\"Total de Paginas\",ascending=False)[0:10]\n",
        "TOT_PAGINAS"
      ],
      "execution_count": null,
      "outputs": []
    },
    {
      "cell_type": "code",
      "metadata": {
        "id": "9wp768Ranm6v",
        "colab_type": "code",
        "colab": {}
      },
      "source": [
        "# DADOS NOME DO AQRUIVO\n",
        "TOT_PAGINAS[[\"Total de Paginas\"]].plot(figsize=(15,8), kind = 'barh',color=\"firebrick\")\n",
        "plt.title(\"IMPRESSÃO DE ARQUIVO\", y=1.08, fontsize='20')\n",
        "plt.yticks(rotation=45)\n",
        "plt.draw()"
      ],
      "execution_count": null,
      "outputs": []
    },
    {
      "cell_type": "markdown",
      "metadata": {
        "id": "9r5wDReKvFr1",
        "colab_type": "text"
      },
      "source": [
        "# ***AQUI COMEÇA O TOTAL DE ARQUIVO IMPRESSO POR DIA OU MES!***"
      ]
    },
    {
      "cell_type": "code",
      "metadata": {
        "id": "QB0SDYtZvJT0",
        "colab_type": "code",
        "colab": {}
      },
      "source": [
        "DF.head()"
      ],
      "execution_count": null,
      "outputs": []
    },
    {
      "cell_type": "code",
      "metadata": {
        "id": "7_0AXdOovaHN",
        "colab_type": "code",
        "colab": {}
      },
      "source": [
        "DF [[\"Usuario\",\"Processo\",\"Total de Paginas\",\"Data\"]]"
      ],
      "execution_count": null,
      "outputs": []
    },
    {
      "cell_type": "code",
      "metadata": {
        "id": "4VXH8X1uvgFq",
        "colab_type": "code",
        "colab": {}
      },
      "source": [
        "CONTG_POR_DIA = DF [[\"Usuario\",\"Total de Paginas\",\"Data\"]]\n",
        "CONTG_POR_DIA"
      ],
      "execution_count": null,
      "outputs": []
    },
    {
      "cell_type": "code",
      "metadata": {
        "id": "I9bM7L7_v89t",
        "colab_type": "code",
        "colab": {}
      },
      "source": [
        "#QUANTIDADE POR DIA\n",
        "CONT_ORGAN = CONTG_POR_DIA.groupby(['Data']).sum()\n",
        "CONT_ORGAN"
      ],
      "execution_count": null,
      "outputs": []
    },
    {
      "cell_type": "code",
      "metadata": {
        "id": "k3iUNOgtwWAJ",
        "colab_type": "code",
        "colab": {}
      },
      "source": [
        "#QUANTIDADE POR DIA\n",
        "Relatorio_por_dia = CONTG_POR_DIA.groupby([DF['Data'].dt.day, 'Usuario']).sum()\n",
        "Relatorio_por_dia"
      ],
      "execution_count": null,
      "outputs": []
    },
    {
      "cell_type": "code",
      "metadata": {
        "id": "-EnoKtK7xCe-",
        "colab_type": "code",
        "colab": {}
      },
      "source": [
        "#QUANTIDADE POR MES USUARIO\n",
        "Relatorio_por_MES = CONTG_POR_DIA.groupby([DF['Data'].dt.month, 'Usuario']).sum()\n",
        "Relatorio_por_MES"
      ],
      "execution_count": null,
      "outputs": []
    },
    {
      "cell_type": "code",
      "metadata": {
        "id": "0-vbvBcHyTNC",
        "colab_type": "code",
        "colab": {}
      },
      "source": [
        "#TOTAL MES\n",
        "total_por_MES = CONTG_POR_DIA.groupby([DF['Data'].dt.month]).sum()\n",
        "total_por_MES"
      ],
      "execution_count": null,
      "outputs": []
    },
    {
      "cell_type": "code",
      "metadata": {
        "id": "UKRIVIgx2J_N",
        "colab_type": "code",
        "colab": {}
      },
      "source": [
        "#Grafico QUANTIDADE POR DIA\n",
        "CONT_ORGAN[[\"Total de Paginas\"]].plot(figsize=(15,8), kind = 'bar')\n",
        "plt.title(\"IMPRESSÃO POR USUÁRIO\", y=1.08, fontsize='20')\n",
        "plt.xticks(rotation=45)\n",
        "plt.draw()"
      ],
      "execution_count": null,
      "outputs": []
    },
    {
      "cell_type": "code",
      "metadata": {
        "id": "sYd4y57x26Bd",
        "colab_type": "code",
        "colab": {}
      },
      "source": [
        "#Grafico MES USUARIO\n",
        "Relatorio_por_MES[[\"Total de Paginas\"]].plot(figsize=(15,8), kind = 'bar')\n",
        "plt.title(\"IMPRESSÃO POR USUÁRIO\", y=1.08, fontsize='20')\n",
        "plt.xticks(rotation=45)\n",
        "plt.draw()"
      ],
      "execution_count": null,
      "outputs": []
    },
    {
      "cell_type": "code",
      "metadata": {
        "id": "IClLaqUz3hi3",
        "colab_type": "code",
        "colab": {}
      },
      "source": [
        "#Grafico TOTAL MES\n",
        "total_por_MES[[\"Total de Paginas\"]].plot(figsize=(8,6), kind = 'bar')\n",
        "plt.title(\"IMPRESSÃO POR USUÁRIO\", y=1.08, fontsize='20')\n",
        "plt.xticks(rotation=45)\n",
        "plt.draw()"
      ],
      "execution_count": null,
      "outputs": []
    }
  ]
}