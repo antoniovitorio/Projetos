{
  "nbformat": 4,
  "nbformat_minor": 0,
  "metadata": {
    "colab": {
      "name": "IMPRESSORA_RELATORIO_ss(adm)",
      "provenance": [],
      "collapsed_sections": [
        "TcZUgeM6fSOY",
        "suntqerijXwa",
        "9r5wDReKvFr1"
      ],
      "toc_visible": true,
      "authorship_tag": "ABX9TyMM4XSPkPEYmgBgAnyQQw4P",
      "include_colab_link": true
    },
    "kernelspec": {
      "name": "python3",
      "display_name": "Python 3"
    }
  },
  "cells": [
    {
      "cell_type": "markdown",
      "metadata": {
        "id": "view-in-github",
        "colab_type": "text"
      },
      "source": [
        "<a href=\"https://colab.research.google.com/github/antoniovitorio/Projetos/blob/master/IMPRESSORA_RELATORIO_ss(adm).ipynb\" target=\"_parent\"><img src=\"https://colab.research.google.com/assets/colab-badge.svg\" alt=\"Open In Colab\"/></a>"
      ]
    },
    {
      "cell_type": "code",
      "metadata": {
        "id": "irA7OToNeBry",
        "colab_type": "code",
        "colab": {}
      },
      "source": [
        "%matplotlib inline"
      ],
      "execution_count": null,
      "outputs": []
    },
    {
      "cell_type": "code",
      "metadata": {
        "id": "IyvSULRmeK5X",
        "colab_type": "code",
        "colab": {}
      },
      "source": [
        "import pandas as pd"
      ],
      "execution_count": null,
      "outputs": []
    },
    {
      "cell_type": "code",
      "metadata": {
        "id": "X9iZlYlheLuE",
        "colab_type": "code",
        "colab": {}
      },
      "source": [
        "import numpy as np"
      ],
      "execution_count": null,
      "outputs": []
    },
    {
      "cell_type": "code",
      "metadata": {
        "id": "IPibz2gjeOUY",
        "colab_type": "code",
        "colab": {}
      },
      "source": [
        "import io"
      ],
      "execution_count": null,
      "outputs": []
    },
    {
      "cell_type": "code",
      "metadata": {
        "id": "eCktNodeeP8p",
        "colab_type": "code",
        "colab": {}
      },
      "source": [
        "import matplotlib.pyplot as plt"
      ],
      "execution_count": null,
      "outputs": []
    },
    {
      "cell_type": "code",
      "metadata": {
        "id": "6iK8xbaCeRy9",
        "colab_type": "code",
        "colab": {}
      },
      "source": [
        "import csv"
      ],
      "execution_count": null,
      "outputs": []
    },
    {
      "cell_type": "code",
      "metadata": {
        "id": "ZB4Rluipedx0",
        "colab_type": "code",
        "colab": {}
      },
      "source": [
        "pd.read_excel(\"/content/sample_data/ADM_IMPRESSOARA.xlsx\")"
      ],
      "execution_count": null,
      "outputs": []
    },
    {
      "cell_type": "code",
      "metadata": {
        "id": "3ZRVVJ96ejvb",
        "colab_type": "code",
        "colab": {}
      },
      "source": [
        "DF = pd.read_excel(\"/content/sample_data/ADM_IMPRESSOARA.xlsx\")\n",
        "DF.head()"
      ],
      "execution_count": null,
      "outputs": []
    },
    {
      "cell_type": "code",
      "metadata": {
        "id": "6RPOdRjlerFu",
        "colab_type": "code",
        "colab": {}
      },
      "source": [
        "DF.rename (columns= {\"User Name\": \"Usuario\",\n",
        "                        \"Type\": \"Processo\",\n",
        "                       \"Print Pages\": \"Total de Paginas\",\n",
        "                       \"Time\": \"Hora\",\n",
        "                       \"Date\": \"Data\",\n",
        "                       \"Job Name\": \"Nome do Arquivo\"\t},inplace = True)"
      ],
      "execution_count": null,
      "outputs": []
    },
    {
      "cell_type": "code",
      "metadata": {
        "id": "aPS0uQ4jeyNE",
        "colab_type": "code",
        "colab": {}
      },
      "source": [
        "DF.head()"
      ],
      "execution_count": null,
      "outputs": []
    },
    {
      "cell_type": "markdown",
      "metadata": {
        "id": "TcZUgeM6fSOY",
        "colab_type": "text"
      },
      "source": [
        "## ***AQUI COMEÇA TOTAL DE PAGINAS POR USUARIO***"
      ]
    },
    {
      "cell_type": "code",
      "metadata": {
        "id": "LoCBx6JPe7wj",
        "colab_type": "code",
        "colab": {}
      },
      "source": [
        "# DADOS USUARIOS \n",
        "DF [[\"Usuario\",\"Processo\",\"Total de Paginas\",\"Data\",\"Hora\"]]"
      ],
      "execution_count": null,
      "outputs": []
    },
    {
      "cell_type": "code",
      "metadata": {
        "id": "NiWGm5FYfjYt",
        "colab_type": "code",
        "colab": {}
      },
      "source": [
        "DF [[\"Usuario\",\"Processo\",\"Total de Paginas\"]]"
      ],
      "execution_count": null,
      "outputs": []
    },
    {
      "cell_type": "code",
      "metadata": {
        "id": "lN4DaatffvT4",
        "colab_type": "code",
        "colab": {}
      },
      "source": [
        "dados_grupos = DF [[\"Usuario\",\"Processo\",\"Total de Paginas\"]]\n",
        "dados_grupos"
      ],
      "execution_count": null,
      "outputs": []
    },
    {
      "cell_type": "code",
      "metadata": {
        "id": "DGP9zAdGf34n",
        "colab_type": "code",
        "colab": {}
      },
      "source": [
        "plan_agrupada=dados_grupos.groupby([\"Usuario\",\"Processo\"]).sum()\n",
        "plan_agrupada"
      ],
      "execution_count": null,
      "outputs": []
    },
    {
      "cell_type": "code",
      "metadata": {
        "id": "FVsoofp-gdXk",
        "colab_type": "code",
        "colab": {}
      },
      "source": [
        "\n",
        "dados_user=dados_grupos.groupby([\"Usuario\"]).sum()\n",
        "dados_user"
      ],
      "execution_count": null,
      "outputs": []
    },
    {
      "cell_type": "code",
      "metadata": {
        "id": "g_e_wfP4g1Vh",
        "colab_type": "code",
        "colab": {}
      },
      "source": [
        "#DADOS DOS USUARIOS (TOTAL DE PAGINAS)\n",
        "Total_por_User = dados_user.sort_values(by='Total de Paginas')\n",
        "Total_por_User"
      ],
      "execution_count": null,
      "outputs": []
    },
    {
      "cell_type": "code",
      "metadata": {
        "id": "IBHL1tb2hRg6",
        "colab_type": "code",
        "colab": {}
      },
      "source": [
        "# GRAFICO DADOS USUARIOS(TOTAL DE PAGINAS POR USUARIO)\n",
        "Total_por_User[[\"Total de Paginas\"]].plot(figsize=(15,8), kind = 'bar')\n",
        "plt.title(\"IMPRESSORA SS\", y=1.08, fontsize='20')\n",
        "plt.xticks(rotation=45)\n",
        "plt.draw()"
      ],
      "execution_count": null,
      "outputs": []
    },
    {
      "cell_type": "code",
      "metadata": {
        "id": "oOx4wCNTiRNy",
        "colab_type": "code",
        "colab": {}
      },
      "source": [
        "# GRAFICO DADOS USUARIOS\n",
        "dados= dados_org.plot(kind='pie',\n",
        "                      wedgeprops = {\"ec\": \"k\"},\n",
        "                      figsize=(17,8),\n",
        "                      labeldistance = 1.04,\n",
        "                      subplots=True,\n",
        "                      autopct='%1.1f%%',\n",
        "                      textprops = {\"fontsize\": 13})\n",
        "plt.axis('equal')\n",
        "plt.legend(title='Usuarios',loc=3)\n",
        "plt.tight_layout()\n",
        "plt.title(\"GRÁFICO 02\", y=5.08, fontsize='20')\n",
        "plt.draw()"
      ],
      "execution_count": null,
      "outputs": []
    },
    {
      "cell_type": "markdown",
      "metadata": {
        "id": "suntqerijXwa",
        "colab_type": "text"
      },
      "source": [
        "## ***AQUI COMEÇA ARQUIVO MAIS IMPRESSO***"
      ]
    },
    {
      "cell_type": "code",
      "metadata": {
        "id": "NVrNt_CXjnMT",
        "colab_type": "code",
        "colab": {}
      },
      "source": [
        "DF.head()"
      ],
      "execution_count": null,
      "outputs": []
    },
    {
      "cell_type": "code",
      "metadata": {
        "id": "nlVBzSehkCg3",
        "colab_type": "code",
        "colab": {}
      },
      "source": [
        "DT_PG= DF [[\"Usuario\",\"Processo\",\"Nome do Arquivo\",\"Total de Paginas\"]]\n",
        "DT_PG"
      ],
      "execution_count": null,
      "outputs": []
    },
    {
      "cell_type": "code",
      "metadata": {
        "id": "7uZ2i0eMkkCz",
        "colab_type": "code",
        "colab": {}
      },
      "source": [
        "DT_PG[[\"Processo\",\"Nome do Arquivo\",\"Total de Paginas\"]]"
      ],
      "execution_count": null,
      "outputs": []
    },
    {
      "cell_type": "code",
      "metadata": {
        "id": "Tj2pVz1SkrIk",
        "colab_type": "code",
        "colab": {}
      },
      "source": [
        "Num_pagina=DT_PG[[\"Processo\",\"Nome do Arquivo\",\"Total de Paginas\"]]\n",
        "Num_pagina"
      ],
      "execution_count": null,
      "outputs": []
    },
    {
      "cell_type": "code",
      "metadata": {
        "id": "yKMhwCYplm7h",
        "colab_type": "code",
        "colab": {}
      },
      "source": [
        "numeropag = Num_pagina[[\"Nome do Arquivo\",\"Total de Paginas\"]]\n",
        "numeropag.head()"
      ],
      "execution_count": null,
      "outputs": []
    },
    {
      "cell_type": "code",
      "metadata": {
        "id": "1BGdwgL3mIMd",
        "colab_type": "code",
        "colab": {}
      },
      "source": [
        "total_paginas = numeropag.groupby([\"Nome do Arquivo\"]).sum()\n",
        "total_paginas"
      ],
      "execution_count": null,
      "outputs": []
    },
    {
      "cell_type": "code",
      "metadata": {
        "id": "ceN_pCYdmY9F",
        "colab_type": "code",
        "colab": {}
      },
      "source": [
        "#arquivo que foi mais impresso\n",
        "TOT_PAGINAS = total_paginas.sort_values(by=\"Total de Paginas\",ascending=False)[0:10]\n",
        "TOT_PAGINAS"
      ],
      "execution_count": null,
      "outputs": []
    },
    {
      "cell_type": "code",
      "metadata": {
        "id": "9wp768Ranm6v",
        "colab_type": "code",
        "colab": {}
      },
      "source": [
        "# DADOS NOME DO AQRUIVO\n",
        "TOT_PAGINAS[[\"Total de Paginas\"]].plot(figsize=(15,8), kind = 'barh',color=\"firebrick\")\n",
        "plt.title(\"IMPRESSÃO DE ARQUIVO\", y=1.08, fontsize='20')\n",
        "plt.yticks(rotation=45)\n",
        "plt.draw()"
      ],
      "execution_count": null,
      "outputs": []
    },
    {
      "cell_type": "markdown",
      "metadata": {
        "id": "9r5wDReKvFr1",
        "colab_type": "text"
      },
      "source": [
        "# ***AQUI COMEÇA O TOTAL DE ARQUIVO IMPRESSO POR DIA OU MES!***"
      ]
    },
    {
      "cell_type": "code",
      "metadata": {
        "id": "QB0SDYtZvJT0",
        "colab_type": "code",
        "colab": {}
      },
      "source": [
        "DF.head()"
      ],
      "execution_count": null,
      "outputs": []
    },
    {
      "cell_type": "code",
      "metadata": {
        "id": "7_0AXdOovaHN",
        "colab_type": "code",
        "colab": {}
      },
      "source": [
        "DF [[\"Usuario\",\"Processo\",\"Total de Paginas\",\"Data\"]]"
      ],
      "execution_count": null,
      "outputs": []
    },
    {
      "cell_type": "code",
      "metadata": {
        "id": "4VXH8X1uvgFq",
        "colab_type": "code",
        "colab": {}
      },
      "source": [
        "CONTG_POR_DIA = DF [[\"Usuario\",\"Total de Paginas\",\"Data\"]]\n",
        "CONTG_POR_DIA"
      ],
      "execution_count": null,
      "outputs": []
    },
    {
      "cell_type": "code",
      "metadata": {
        "id": "I9bM7L7_v89t",
        "colab_type": "code",
        "colab": {}
      },
      "source": [
        "#QUANTIDADE POR DIA\n",
        "CONT_ORGAN = CONTG_POR_DIA.groupby(['Data']).sum()\n",
        "CONT_ORGAN"
      ],
      "execution_count": null,
      "outputs": []
    },
    {
      "cell_type": "code",
      "metadata": {
        "id": "k3iUNOgtwWAJ",
        "colab_type": "code",
        "colab": {}
      },
      "source": [
        "#QUANTIDADE POR DIA\n",
        "Relatorio_por_dia = CONTG_POR_DIA.groupby([DF['Data'].dt.day, 'Usuario']).sum()\n",
        "Relatorio_por_dia"
      ],
      "execution_count": null,
      "outputs": []
    },
    {
      "cell_type": "code",
      "metadata": {
        "id": "-EnoKtK7xCe-",
        "colab_type": "code",
        "colab": {}
      },
      "source": [
        "#QUANTIDADE POR MES USUARIO\n",
        "Relatorio_por_MES = CONTG_POR_DIA.groupby([DF['Data'].dt.month, 'Usuario']).sum()\n",
        "Relatorio_por_MES"
      ],
      "execution_count": null,
      "outputs": []
    },
    {
      "cell_type": "code",
      "metadata": {
        "id": "0-vbvBcHyTNC",
        "colab_type": "code",
        "colab": {}
      },
      "source": [
        "#TOTAL MES\n",
        "total_por_MES = CONTG_POR_DIA.groupby([DF['Data'].dt.month]).sum()\n",
        "total_por_MES"
      ],
      "execution_count": null,
      "outputs": []
    },
    {
      "cell_type": "code",
      "metadata": {
        "id": "UKRIVIgx2J_N",
        "colab_type": "code",
        "colab": {}
      },
      "source": [
        "#Grafico QUANTIDADE POR DIA\n",
        "CONT_ORGAN[[\"Total de Paginas\"]].plot(figsize=(15,8), kind = 'bar')\n",
        "plt.title(\"IMPRESSÃO POR USUÁRIO\", y=1.08, fontsize='20')\n",
        "plt.xticks(rotation=45)\n",
        "plt.draw()"
      ],
      "execution_count": null,
      "outputs": []
    },
    {
      "cell_type": "code",
      "metadata": {
        "id": "sYd4y57x26Bd",
        "colab_type": "code",
        "colab": {}
      },
      "source": [
        "#Grafico MES USUARIO\n",
        "Relatorio_por_MES[[\"Total de Paginas\"]].plot(figsize=(15,8), kind = 'bar')\n",
        "plt.title(\"IMPRESSÃO POR USUÁRIO\", y=1.08, fontsize='20')\n",
        "plt.xticks(rotation=45)\n",
        "plt.draw()"
      ],
      "execution_count": null,
      "outputs": []
    },
    {
      "cell_type": "code",
      "metadata": {
        "id": "IClLaqUz3hi3",
        "colab_type": "code",
        "colab": {}
      },
      "source": [
        "#Grafico TOTAL MES\n",
        "total_por_MES[[\"Total de Paginas\"]].plot(figsize=(8,6), kind = 'bar')\n",
        "plt.title(\"IMPRESSÃO POR USUÁRIO\", y=1.08, fontsize='20')\n",
        "plt.xticks(rotation=45)\n",
        "plt.draw()"
      ],
      "execution_count": null,
      "outputs": []
    }
  ]
}