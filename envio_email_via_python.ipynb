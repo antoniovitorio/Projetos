{
  "nbformat": 4,
  "nbformat_minor": 0,
  "metadata": {
    "colab": {
      "name": "envio_email_via_python.ipynb",
      "provenance": [],
      "collapsed_sections": [],
      "authorship_tag": "ABX9TyNnGHpjb9NnGRG4d4RlNSVF",
      "include_colab_link": true
    },
    "kernelspec": {
      "name": "python3",
      "display_name": "Python 3"
    }
  },
  "cells": [
    {
      "cell_type": "markdown",
      "metadata": {
        "id": "view-in-github",
        "colab_type": "text"
      },
      "source": [
        "<a href=\"https://colab.research.google.com/github/antoniovitorio/Projetos/blob/master/envio_email_via_python.ipynb\" target=\"_parent\"><img src=\"https://colab.research.google.com/assets/colab-badge.svg\" alt=\"Open In Colab\"/></a>"
      ]
    },
    {
      "cell_type": "code",
      "metadata": {
        "id": "QbV27PNqv1vE",
        "colab_type": "code",
        "colab": {}
      },
      "source": [
        "import smtplib"
      ],
      "execution_count": 18,
      "outputs": []
    },
    {
      "cell_type": "code",
      "metadata": {
        "id": "mgxXk-Dbv327",
        "colab_type": "code",
        "colab": {}
      },
      "source": [
        "from email.mime.multipart import MIMEMultipart"
      ],
      "execution_count": 19,
      "outputs": []
    },
    {
      "cell_type": "code",
      "metadata": {
        "id": "fz3wu8Wlv5tT",
        "colab_type": "code",
        "colab": {}
      },
      "source": [
        "from email.mime.text import MIMEText"
      ],
      "execution_count": 20,
      "outputs": []
    },
    {
      "cell_type": "code",
      "metadata": {
        "id": "VFlXIpnrv7yp",
        "colab_type": "code",
        "colab": {}
      },
      "source": [
        "from email.mime.base import MIMEBase"
      ],
      "execution_count": 21,
      "outputs": []
    },
    {
      "cell_type": "code",
      "metadata": {
        "id": "a_s36o4Yv9Io",
        "colab_type": "code",
        "colab": {}
      },
      "source": [
        "from email import encoders"
      ],
      "execution_count": 22,
      "outputs": []
    },
    {
      "cell_type": "code",
      "metadata": {
        "id": "mJWi7GSlv-33",
        "colab_type": "code",
        "colab": {
          "base_uri": "https://localhost:8080/",
          "height": 51
        },
        "outputId": "f3b9bb4f-f144-46f4-94cc-f3ead87d3121"
      },
      "source": [
        "try:\n",
        "    fromaddr = \"api.email.user@gmail.com\"\n",
        "    toaddr = 'maramaldo.carlos@gmail.com'\n",
        "    msg = MIMEMultipart()\n",
        "\n",
        "    msg['From'] = fromaddr \n",
        "    msg['To'] = toaddr\n",
        "    msg['Subject'] = \"Arquivo\"\n",
        "\n",
        "    body = \"\\nBoa tarde,segue dados!\"\n",
        "\n",
        "    msg.attach(MIMEText(body, 'plain'))\n",
        "\n",
        "    filename = 'arquivo.txt'\n",
        "\n",
        "    attachment = open('/content/sample_data/arquivo.txt','rb')\n",
        "\n",
        "\n",
        "    part = MIMEBase('application', 'octet-stream')\n",
        "    part.set_payload((attachment).read())\n",
        "    encoders.encode_base64(part)\n",
        "    part.add_header('Content-Disposition', \"attachment; filename= %s\" % filename)\n",
        "\n",
        "    msg.attach(part)\n",
        "\n",
        "    attachment.close()\n",
        "\n",
        "    server = smtplib.SMTP('smtp.gmail.com', 587)\n",
        "    server.starttls()\n",
        "    server.login(fromaddr, \"Casa0101\")\n",
        "    text = msg.as_string()\n",
        "    server.sendmail(fromaddr, toaddr, text)\n",
        "    server.quit()\n",
        "    print('\\nEmail enviado com sucesso!')\n",
        "except:\n",
        "    print(\"\\nErro ao enviar email\")"
      ],
      "execution_count": 28,
      "outputs": [
        {
          "output_type": "stream",
          "text": [
            "\n",
            "Email enviado com sucesso!\n"
          ],
          "name": "stdout"
        }
      ]
    }
  ]
}