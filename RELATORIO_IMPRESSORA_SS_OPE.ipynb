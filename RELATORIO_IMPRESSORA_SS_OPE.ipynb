{
  "nbformat": 4,
  "nbformat_minor": 0,
  "metadata": {
    "colab": {
      "name": "RELATORIO_IMPRESSORA_SS_OPE.ipynb",
      "provenance": [],
      "collapsed_sections": [
        "tkNjLxHCB-vu",
        "dHL5spuZCvST",
        "2kgzQNNAIQ5L",
        "r8G16PnNe4dA",
        "ThNjoerykE-e"
      ],
      "toc_visible": true,
      "authorship_tag": "ABX9TyN7aXtNQrDmcSDHhXLJySpV",
      "include_colab_link": true
    },
    "kernelspec": {
      "name": "python3",
      "display_name": "Python 3"
    }
  },
  "cells": [
    {
      "cell_type": "markdown",
      "metadata": {
        "id": "view-in-github",
        "colab_type": "text"
      },
      "source": [
        "<a href=\"https://colab.research.google.com/github/antoniovitorio/Projetos/blob/master/RELATORIO_IMPRESSORA_SS_OPE.ipynb\" target=\"_parent\"><img src=\"https://colab.research.google.com/assets/colab-badge.svg\" alt=\"Open In Colab\"/></a>"
      ]
    },
    {
      "cell_type": "markdown",
      "metadata": {
        "id": "tkNjLxHCB-vu",
        "colab_type": "text"
      },
      "source": [
        "# **MODULO E IMPORTAÇÕES DE BIBLIOTECAS**"
      ]
    },
    {
      "cell_type": "code",
      "metadata": {
        "id": "klXQThwwCKby",
        "colab_type": "code",
        "colab": {}
      },
      "source": [
        "%matplotlib inline"
      ],
      "execution_count": 31,
      "outputs": []
    },
    {
      "cell_type": "code",
      "metadata": {
        "id": "B9KdMRf6CLoa",
        "colab_type": "code",
        "colab": {}
      },
      "source": [
        "pip install pdf_reports -q"
      ],
      "execution_count": 32,
      "outputs": []
    },
    {
      "cell_type": "code",
      "metadata": {
        "id": "bZp7AgnVCQLD",
        "colab_type": "code",
        "colab": {}
      },
      "source": [
        "from datetime import datetime\n",
        "from pdf_reports import pug_to_html, write_report"
      ],
      "execution_count": 33,
      "outputs": []
    },
    {
      "cell_type": "code",
      "metadata": {
        "id": "Uw6wwK02EuYH",
        "colab_type": "code",
        "colab": {}
      },
      "source": [
        "import seaborn as sns"
      ],
      "execution_count": 34,
      "outputs": []
    },
    {
      "cell_type": "code",
      "metadata": {
        "id": "Z_HI1TXYCTyX",
        "colab_type": "code",
        "colab": {}
      },
      "source": [
        "import pandas as pd\n",
        "import numpy as np\n",
        "import io\n",
        "import matplotlib.pyplot as plt\n",
        "import csv\n",
        "from matplotlib.axes import Subplot\n",
        "from matplotlib.figure import Figure"
      ],
      "execution_count": 35,
      "outputs": []
    },
    {
      "cell_type": "markdown",
      "metadata": {
        "id": "dHL5spuZCvST",
        "colab_type": "text"
      },
      "source": [
        "# ***LOCAL DO ARQUIVO PARA ATUALIZAÇÃO DO DATAFRAME***"
      ]
    },
    {
      "cell_type": "code",
      "metadata": {
        "id": "iiT3lTwcC_fk",
        "colab_type": "code",
        "colab": {}
      },
      "source": [
        "#dataframe OPERAÇÃO\n",
        "DF_OPE = pd.read_excel(\"/content/sample_data/planilha_ope.xlsx\")\n",
        "DF_OPE"
      ],
      "execution_count": null,
      "outputs": []
    },
    {
      "cell_type": "code",
      "metadata": {
        "id": "g-4AIwvTElQ1",
        "colab_type": "code",
        "colab": {}
      },
      "source": [
        "#dataframe ADM\n",
        "DF_ADM = pd.read_excel(\"/content/sample_data/planilha_adm.xlsx\")\n",
        "DF_ADM"
      ],
      "execution_count": null,
      "outputs": []
    },
    {
      "cell_type": "code",
      "metadata": {
        "id": "WeHESL4GE4AX",
        "colab_type": "code",
        "colab": {}
      },
      "source": [
        "DF_OPE.rename (columns= {\"User Name\": \"Usuario\",\n",
        "                        \"Type\": \"Processo\",\n",
        "                       \"Print Pages\": \"Total de Paginas\",\n",
        "                       \"Time\": \"Hora\",\n",
        "                       \"Date\": \"Data\",\n",
        "                       \"Job Name\": \"Nome do Arquivo\"\t},inplace = True)"
      ],
      "execution_count": 13,
      "outputs": []
    },
    {
      "cell_type": "code",
      "metadata": {
        "id": "CUWL7LCVE7M2",
        "colab_type": "code",
        "colab": {}
      },
      "source": [
        "DF_ADM.rename (columns= {\"User Name\": \"Usuario\",\n",
        "                        \"Type\": \"Processo\",\n",
        "                       \"Print Pages\": \"Total de Paginas\",\n",
        "                       \"Time\": \"Hora\",\n",
        "                       \"Date\": \"Data\",\n",
        "                       \"Job Name\": \"Nome do Arquivo\"\t},inplace = True)"
      ],
      "execution_count": 14,
      "outputs": []
    },
    {
      "cell_type": "code",
      "metadata": {
        "id": "91PqIyv_HtdR",
        "colab_type": "code",
        "colab": {}
      },
      "source": [
        "#APRESENTA DADOS DO DATAFRAME OPERAÇÃO\n",
        "DF_OPE.head()"
      ],
      "execution_count": null,
      "outputs": []
    },
    {
      "cell_type": "code",
      "metadata": {
        "id": "uIsz81B8H6gM",
        "colab_type": "code",
        "colab": {}
      },
      "source": [
        "#APRESENTA DADOS DO DATAFRAME OPERAÇÃO\n",
        "DF_ADM.head()"
      ],
      "execution_count": null,
      "outputs": []
    },
    {
      "cell_type": "markdown",
      "metadata": {
        "id": "2kgzQNNAIQ5L",
        "colab_type": "text"
      },
      "source": [
        "# ***OPERAÇÃO---TOTAL DE PAGINAS POR USUARIO***"
      ]
    },
    {
      "cell_type": "code",
      "metadata": {
        "id": "S3Yzv4YKIeHk",
        "colab_type": "code",
        "colab": {}
      },
      "source": [
        "DF_OPE [[\"Usuario\",\"Processo\",\"Total de Paginas\"]]"
      ],
      "execution_count": null,
      "outputs": []
    },
    {
      "cell_type": "code",
      "metadata": {
        "id": "7rpw5LBPItre",
        "colab_type": "code",
        "colab": {}
      },
      "source": [
        "plan_dados = DF_OPE [[\"Usuario\",\"Total de Paginas\"]]\n",
        "plan_dados"
      ],
      "execution_count": null,
      "outputs": []
    },
    {
      "cell_type": "code",
      "metadata": {
        "id": "zCgIwEK0I6gI",
        "colab_type": "code",
        "colab": {}
      },
      "source": [
        "dados_agrupados=plan_dados.groupby(by=\"Usuario\").sum()\n",
        "dados_agrupados"
      ],
      "execution_count": null,
      "outputs": []
    },
    {
      "cell_type": "code",
      "metadata": {
        "id": "sfZpojV_Jmjc",
        "colab_type": "code",
        "colab": {}
      },
      "source": [
        "nova= ['Christian.Cutrim','Cópias','Luis.Franca','Taliane.Lima','davisson.silva','graciele.gomes','marselle.ribeiro','pamela.silva','patricia.oliveira'\t]"
      ],
      "execution_count": 39,
      "outputs": []
    },
    {
      "cell_type": "code",
      "metadata": {
        "id": "KUyYpS0XJsOA",
        "colab_type": "code",
        "colab": {}
      },
      "source": [
        "dados_agrupados.insert(loc=0, column=\"Nome\",value= nova)"
      ],
      "execution_count": 40,
      "outputs": []
    },
    {
      "cell_type": "code",
      "metadata": {
        "id": "UCZrNQ7OJvr3",
        "colab_type": "code",
        "colab": {}
      },
      "source": [
        "dados_agrupados.head(10)"
      ],
      "execution_count": null,
      "outputs": []
    },
    {
      "cell_type": "code",
      "metadata": {
        "id": "QBZuwLp8Jx4Z",
        "colab_type": "code",
        "colab": {}
      },
      "source": [
        "#DADOS PARA GERAR GRAFICO 01\n",
        "dados_org_op = dados_agrupados.sort_values(by='Total de Paginas')\n",
        "dados_org_op"
      ],
      "execution_count": null,
      "outputs": []
    },
    {
      "cell_type": "code",
      "metadata": {
        "id": "6Tn9BuF4Krpi",
        "colab_type": "code",
        "colab": {}
      },
      "source": [
        "#dados_para_grafico_02_para_teste\n",
        "dados_grafico_02 = dados_agrupados.sort_values(by='Total de Paginas')\n",
        "dados_grafico_02"
      ],
      "execution_count": null,
      "outputs": []
    },
    {
      "cell_type": "code",
      "metadata": {
        "id": "8HkEHR3rKYaa",
        "colab_type": "code",
        "colab": {}
      },
      "source": [
        "#grafico 01\n",
        "dados_org_op.plot('Nome','Total de Paginas', kind = 'bar',figsize=(8,5) )"
      ],
      "execution_count": null,
      "outputs": []
    },
    {
      "cell_type": "code",
      "metadata": {
        "id": "JQiOHhO0LJGt",
        "colab_type": "code",
        "colab": {}
      },
      "source": [
        "#grafico 02_para_teste\n",
        "dados_grafico_02.plot('Nome','Total de Paginas', kind = 'barh',figsize=(8,5) )"
      ],
      "execution_count": null,
      "outputs": []
    },
    {
      "cell_type": "markdown",
      "metadata": {
        "id": "lUtKqszKZJ7k",
        "colab_type": "text"
      },
      "source": [
        "**RELATORIO PARA OPE**"
      ]
    },
    {
      "cell_type": "code",
      "metadata": {
        "id": "91QOCsCVLmmg",
        "colab_type": "code",
        "colab": {}
      },
      "source": [
        "#relatorio\n",
        "#hoje = datetime.now().date()"
      ],
      "execution_count": 46,
      "outputs": []
    },
    {
      "cell_type": "code",
      "metadata": {
        "id": "HkxLcqbyLnfX",
        "colab_type": "code",
        "colab": {}
      },
      "source": [
        "#relatorio\n",
        "#html = pug_to_html(\"/content/sample_data/modelo_de_relatorio_012.pug\",\n",
        "                  #dados_org_op=dados_org_op,\n",
        "                   #dados_grafico_02=dados_grafico_02,\n",
        "                   #hoje=hoje)"
      ],
      "execution_count": 47,
      "outputs": []
    },
    {
      "cell_type": "code",
      "metadata": {
        "id": "aCnnF96ILuKc",
        "colab_type": "code",
        "colab": {}
      },
      "source": [
        "#relatorio\n",
        "#html"
      ],
      "execution_count": 48,
      "outputs": []
    },
    {
      "cell_type": "code",
      "metadata": {
        "id": "aqle5tTuL2JT",
        "colab_type": "code",
        "colab": {}
      },
      "source": [
        "#relatorio\n",
        "#write_report(html, \"Relatorio_atualizado_Operação.pdf\")"
      ],
      "execution_count": 49,
      "outputs": []
    },
    {
      "cell_type": "markdown",
      "metadata": {
        "id": "gXM7JBFWMHST",
        "colab_type": "text"
      },
      "source": [
        "# ***ADM---TOTAL DE PAGINAS POR USUARIO***"
      ]
    },
    {
      "cell_type": "code",
      "metadata": {
        "id": "V7TlNSmqMMhk",
        "colab_type": "code",
        "colab": {}
      },
      "source": [
        "DF_ADM [[\"Usuario\",\"Processo\",\"Total de Paginas\"]]"
      ],
      "execution_count": null,
      "outputs": []
    },
    {
      "cell_type": "code",
      "metadata": {
        "id": "6O3itZgzZdCz",
        "colab_type": "code",
        "colab": {}
      },
      "source": [
        "plan_dados_adm = DF_ADM [[\"Usuario\",\"Total de Paginas\"]]\n",
        "plan_dados_adm"
      ],
      "execution_count": null,
      "outputs": []
    },
    {
      "cell_type": "code",
      "metadata": {
        "id": "pVwAHRfxaCKG",
        "colab_type": "code",
        "colab": {}
      },
      "source": [
        "dados_agrupados_adm=plan_dados_adm.groupby(by=\"Usuario\").sum()\n",
        "dados_agrupados_adm"
      ],
      "execution_count": null,
      "outputs": []
    },
    {
      "cell_type": "code",
      "metadata": {
        "id": "0FTb87ssaSJk",
        "colab_type": "code",
        "colab": {}
      },
      "source": [
        "nova= ['ADMINISTRATIVO','TREINAMENTO','ascencao.ferreira','brendo.mendonca','damiao.silva','jadna.pinheiro'\t]"
      ],
      "execution_count": 53,
      "outputs": []
    },
    {
      "cell_type": "code",
      "metadata": {
        "id": "I0n85eIMb9uT",
        "colab_type": "code",
        "colab": {}
      },
      "source": [
        "dados_agrupados_adm.insert(loc=0, column=\"Nome\",value= nova)"
      ],
      "execution_count": 54,
      "outputs": []
    },
    {
      "cell_type": "code",
      "metadata": {
        "id": "RJu179qLckrd",
        "colab_type": "code",
        "colab": {}
      },
      "source": [
        "dados_agrupados_adm.head(10)"
      ],
      "execution_count": null,
      "outputs": []
    },
    {
      "cell_type": "code",
      "metadata": {
        "id": "Ah7z-UaTcsBk",
        "colab_type": "code",
        "colab": {}
      },
      "source": [
        "dados_org_adm = dados_agrupados_adm.sort_values(by='Total de Paginas')\n",
        "dados_org_adm"
      ],
      "execution_count": null,
      "outputs": []
    },
    {
      "cell_type": "code",
      "metadata": {
        "id": "h07YiBb3c2pS",
        "colab_type": "code",
        "colab": {}
      },
      "source": [
        "#grafico 02 teste\n",
        "dados_grafico_002 = dados_agrupados_adm.sort_values(by='Total de Paginas')\n",
        "dados_grafico_002"
      ],
      "execution_count": null,
      "outputs": []
    },
    {
      "cell_type": "code",
      "metadata": {
        "id": "WVK3y_Y-dKwZ",
        "colab_type": "code",
        "colab": {}
      },
      "source": [
        "#grafico 01\n",
        "dados_org_adm.plot('Nome','Total de Paginas', kind = 'bar',figsize=(8,5) )"
      ],
      "execution_count": null,
      "outputs": []
    },
    {
      "cell_type": "code",
      "metadata": {
        "id": "FXCLXUBjdQlp",
        "colab_type": "code",
        "colab": {}
      },
      "source": [
        "#grafico 02_para_teste\n",
        "dados_grafico_002.plot(kind = 'barh',figsize=(8,5) )"
      ],
      "execution_count": null,
      "outputs": []
    },
    {
      "cell_type": "markdown",
      "metadata": {
        "id": "pyaOuVEddc1u",
        "colab_type": "text"
      },
      "source": [
        "**RELATORIO PARA ADM**"
      ]
    },
    {
      "cell_type": "code",
      "metadata": {
        "id": "dyErEwt2dgZV",
        "colab_type": "code",
        "colab": {}
      },
      "source": [
        "#relatorio\n",
        "#hoje = datetime.now().date()"
      ],
      "execution_count": 60,
      "outputs": []
    },
    {
      "cell_type": "code",
      "metadata": {
        "id": "hMXwtOOidwod",
        "colab_type": "code",
        "colab": {}
      },
      "source": [
        "#relatorio\n",
        "#html = pug_to_html(\"/content/sample_data/modelo_de_relatorio_012.pug\",\n",
        "                  #dados_org_adm=dados_org_adm,\n",
        "                   #dados_grafico_002=dados_grafico_002,\n",
        "                   #hoje=hoje)"
      ],
      "execution_count": 61,
      "outputs": []
    },
    {
      "cell_type": "code",
      "metadata": {
        "id": "j2MU-C5sd2TI",
        "colab_type": "code",
        "colab": {}
      },
      "source": [
        "#relatorio\n",
        "#html"
      ],
      "execution_count": 62,
      "outputs": []
    },
    {
      "cell_type": "code",
      "metadata": {
        "id": "poypUvCRd4pn",
        "colab_type": "code",
        "colab": {}
      },
      "source": [
        "#relatorio\n",
        "#write_report(html, \"Relatorio_atualizado_adm.pdf\")"
      ],
      "execution_count": 63,
      "outputs": []
    },
    {
      "cell_type": "markdown",
      "metadata": {
        "colab_type": "text",
        "id": "dIBL0iJztcUP"
      },
      "source": [
        "# ***MODULO GRAFICO II - OUTROS GRAFICOS USER***"
      ]
    },
    {
      "cell_type": "code",
      "metadata": {
        "colab_type": "code",
        "id": "trE6ZR6CtcUe",
        "colab": {}
      },
      "source": [
        "Dados_grafico_geral=dados_grafico_002"
      ],
      "execution_count": 65,
      "outputs": []
    },
    {
      "cell_type": "code",
      "metadata": {
        "id": "FUKgX_nePsfh",
        "colab_type": "code",
        "colab": {}
      },
      "source": [
        "Dados_grafico_geral"
      ],
      "execution_count": null,
      "outputs": []
    },
    {
      "cell_type": "code",
      "metadata": {
        "id": "imUsWFiPOQRJ",
        "colab_type": "code",
        "colab": {}
      },
      "source": [
        "Total_Paginas= [24,33,175,262,320,520]"
      ],
      "execution_count": 69,
      "outputs": []
    },
    {
      "cell_type": "code",
      "metadata": {
        "id": "nFa_I0AsPE3A",
        "colab_type": "code",
        "colab": {}
      },
      "source": [
        "User = [\"Cópias_Treinamento\",\n",
        "        \"Cópias_Administrativo\",\n",
        "        \"Brendo Mendonca\",\n",
        "        \"Ascencao Ferreira\",\n",
        "        \"Jadna.Pinheiro\",\n",
        "        \"Damião Silva\"]"
      ],
      "execution_count": 67,
      "outputs": []
    },
    {
      "cell_type": "code",
      "metadata": {
        "id": "D-cqCJM4QYGJ",
        "colab_type": "code",
        "colab": {}
      },
      "source": [
        "plt.pie(Total_Paginas, labels=User)\n",
        "plt.show()"
      ],
      "execution_count": null,
      "outputs": []
    },
    {
      "cell_type": "code",
      "metadata": {
        "id": "Pk5lTevfd22V",
        "colab_type": "code",
        "colab": {}
      },
      "source": [
        "import numpy as np\n",
        "import matplotlib.pyplot as plt\n",
        "\n",
        "fig, ax = plt.subplots(figsize=(10, 10), subplot_kw=dict(aspect=\"equal\"))\n",
        "\n",
        "Dados_Completo = [\"175 pag Brendo.Mendonca\",\n",
        "          \"262 pag Ascencao.Ferreira\",\n",
        "          \"320 pag Jadna.Pinheiro\",\n",
        "          \"520 pag Damião.Silva\"]\n",
        "\n",
        "User = [float(x.split()[0]) for x in Dados_Completo]\n",
        "Npaginas = [x.split()[-1] for x in Dados_Completo]\n",
        "\n",
        "\n",
        "def func(pct, allvals):\n",
        "    absolute = int(pct/100.*np.sum(allvals))\n",
        "    return \"{:.1f}%\\n({:d} pag)\".format(pct, absolute)\n",
        "\n",
        "\n",
        "wedges, texts, autotexts = ax.pie(User, autopct=lambda pct: func(pct, User),\n",
        "                                  textprops=dict(color=\"w\"))\n",
        "\n",
        "ax.legend(wedges, Npaginas,\n",
        "          title=\"Usuario\",\n",
        "          loc=\"center left\",\n",
        "          bbox_to_anchor=(1, 0, 0.5, 1))\n",
        "\n",
        "plt.setp(autotexts, size=8, weight=\"bold\")\n",
        "\n",
        "ax.set_title(\"Quantidade de Páginas\")\n",
        "\n",
        "plt.show()"
      ],
      "execution_count": null,
      "outputs": []
    },
    {
      "cell_type": "markdown",
      "metadata": {
        "id": "r8G16PnNe4dA",
        "colab_type": "text"
      },
      "source": [
        "# ***MODULO RELATÓRIO***"
      ]
    },
    {
      "cell_type": "code",
      "metadata": {
        "id": "ZDcYp_eQe-_5",
        "colab_type": "code",
        "colab": {}
      },
      "source": [
        "#relatorio\n",
        "hoje = datetime.now().date()"
      ],
      "execution_count": null,
      "outputs": []
    },
    {
      "cell_type": "code",
      "metadata": {
        "id": "8IXWpcudfDJ3",
        "colab_type": "code",
        "colab": {}
      },
      "source": [
        "#relatorio\n",
        "html = pug_to_html(\"/content/sample_data/Relatorio_Impressoras_ss_op.pug\",\n",
        "                   dados_org_op=dados_org_op,\n",
        "                   #graf_piz=ope_org,\n",
        "                   dados_org_adm=dados_org_adm,\n",
        "                   graf_piz=graf_piz,\n",
        "                   hoje=hoje)"
      ],
      "execution_count": null,
      "outputs": []
    },
    {
      "cell_type": "code",
      "metadata": {
        "id": "rc6goqbSfEp_",
        "colab_type": "code",
        "colab": {}
      },
      "source": [
        "#relatorio\n",
        "html"
      ],
      "execution_count": null,
      "outputs": []
    },
    {
      "cell_type": "code",
      "metadata": {
        "id": "11bSHmMtfF1A",
        "colab_type": "code",
        "colab": {}
      },
      "source": [
        "#relatorio\n",
        "write_report(html, \"Relatorio_atualizado_adm.pdf\")"
      ],
      "execution_count": null,
      "outputs": []
    },
    {
      "cell_type": "markdown",
      "metadata": {
        "id": "ThNjoerykE-e",
        "colab_type": "text"
      },
      "source": [
        "# ***TESTE 02***"
      ]
    },
    {
      "cell_type": "code",
      "metadata": {
        "id": "OnY30d-RkJ6i",
        "colab_type": "code",
        "colab": {}
      },
      "source": [
        "# Importando numpy\n",
        "import numpy as np\n",
        "\n",
        "# Aqui criamos a área que plotamos o gráfico e definimos seu tamanho\n",
        "fig, ax = plt.subplots(figsize=(10, 10), subplot_kw=dict(aspect=\"equal\"))\n",
        "\n",
        "# Dados para compor o gráfico\n",
        "recipe = [\"Cópias_Treinamento\",\n",
        "          \"Cópias_Administratico\",\n",
        "          \"Brendo Mendonca\",\n",
        "          \"Ascencao Ferreira\",\n",
        "          \"Jadna.Pinheiro\",\n",
        "          \"Damião Silva\"]\n",
        "\n",
        "# Definindo a quantidade de cada dado\n",
        "data = [24,33,175,262,320,520]\n",
        "\n",
        "# Aqui serão colocados os kg e as porcentagens no gráfico\n",
        "def func(pct, allvals):\n",
        "    # calc %\n",
        "    absolute = int(pct/100.*np.sum(allvals))\n",
        "    # fazendo legenda do gráfico com % e kg\n",
        "    return \"{:.1f}%\\n({:d} pag)\".format(pct, absolute)\n",
        "\n",
        "# Criando o gráfico e colocando a função da legenda interna\n",
        "wedges, texts, autotexts = ax.pie(data, autopct=lambda pct: func(pct, data),\n",
        "                                  textprops=dict(color=\"w\"))\n",
        "\n",
        "# Definindo a caixa de legenda externa, título, localização e onde vai 'ancorar o box'\n",
        "ax.legend(wedges, recipe,\n",
        "          title=\"Usuario\",\n",
        "          loc=\"center left\",\n",
        "          bbox_to_anchor=(1, 0, 0.5, 1))\n",
        "\n",
        "# Aqui definimos o tamanho do texto de dentro do gráfico, e o peso da fonte como bold\n",
        "plt.setp(autotexts, size=8, weight=\"bold\")\n",
        "\n",
        "# Título do gráfico\n",
        "ax.set_title(\"Quantidade de Páginas:\")\n",
        "\n",
        "# Mostrando o gráfico\n",
        "plt.show()"
      ],
      "execution_count": null,
      "outputs": []
    },
    {
      "cell_type": "markdown",
      "metadata": {
        "id": "a9hsqrXVmtPO",
        "colab_type": "text"
      },
      "source": [
        "# ***teste 03***"
      ]
    },
    {
      "cell_type": "code",
      "metadata": {
        "id": "F_y-eJ5om8j2",
        "colab_type": "code",
        "colab": {
          "base_uri": "https://localhost:8080/",
          "height": 591
        },
        "outputId": "5734e749-ccd9-43ee-9f78-79adbfd566c8"
      },
      "source": [
        "import numpy as np\n",
        "import matplotlib.pyplot as plt\n",
        "\n",
        "fig, ax = plt.subplots(figsize=(10, 10), subplot_kw=dict(aspect=\"equal\"))\n",
        "\n",
        "Dados_Completo = [\"175 pag Brendo.Mendonca\",\n",
        "          \"262 pag Ascencao.Ferreira\",\n",
        "          \"320 pag Jadna.Pinheiro\",\n",
        "          \"520 pag Damião.Silva\"]\n",
        "\n",
        "User = [float(x.split()[0]) for x in Dados_Completo]\n",
        "Npaginas = [x.split()[-1] for x in Dados_Completo]\n",
        "\n",
        "\n",
        "def func(pct, allvals):\n",
        "    absolute = int(pct/100.*np.sum(allvals))\n",
        "    return \"{:.1f}%\\n({:d} pag)\".format(pct, absolute)\n",
        "\n",
        "\n",
        "wedges, texts, autotexts = ax.pie(User, autopct=lambda pct: func(pct, User),\n",
        "                                  textprops=dict(color=\"w\"))\n",
        "\n",
        "ax.legend(wedges, Npaginas,\n",
        "          title=\"Usuario\",\n",
        "          loc=\"center left\",\n",
        "          bbox_to_anchor=(1, 0, 0.5, 1))\n",
        "\n",
        "plt.setp(autotexts, size=8, weight=\"bold\")\n",
        "\n",
        "ax.set_title(\"Quantidade de Páginas\")\n",
        "\n",
        "plt.show()"
      ],
      "execution_count": 79,
      "outputs": [
        {
          "output_type": "display_data",
          "data": {
            "image/png": "[encoded data removed]",
            "text/plain": [
              "<Figure size 720x720 with 1 Axes>"
            ]
          },
          "metadata": {
            "tags": []
          }
        }
      ]
    }
  ]
}