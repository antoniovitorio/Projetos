{
  "nbformat": 4,
  "nbformat_minor": 0,
  "metadata": {
    "colab": {
      "name": "RELATORIO_IMPRESSORA_SS_OPE.ipynb",
      "provenance": [],
      "collapsed_sections": [
        "tkNjLxHCB-vu"
      ],
      "authorship_tag": "ABX9TyM8wiaEOJoYZNWz0OCYy6Iw",
      "include_colab_link": true
    },
    "kernelspec": {
      "name": "python3",
      "display_name": "Python 3"
    }
  },
  "cells": [
    {
      "cell_type": "markdown",
      "metadata": {
        "id": "view-in-github",
        "colab_type": "text"
      },
      "source": [
        "<a href=\"https://colab.research.google.com/github/antoniovitorio/Projetos/blob/master/RELATORIO_IMPRESSORA_SS_OPE.ipynb\" target=\"_parent\"><img src=\"https://colab.research.google.com/assets/colab-badge.svg\" alt=\"Open In Colab\"/></a>"
      ]
    },
    {
      "cell_type": "markdown",
      "metadata": {
        "id": "tkNjLxHCB-vu",
        "colab_type": "text"
      },
      "source": [
        "# **MODULO E IMPORTAÇÕES DE BIBLIOTECAS**"
      ]
    },
    {
      "cell_type": "code",
      "metadata": {
        "id": "klXQThwwCKby",
        "colab_type": "code",
        "colab": {}
      },
      "source": [
        "%matplotlib inline"
      ],
      "execution_count": 58,
      "outputs": []
    },
    {
      "cell_type": "code",
      "metadata": {
        "id": "B9KdMRf6CLoa",
        "colab_type": "code",
        "colab": {}
      },
      "source": [
        "pip install pdf_reports -q"
      ],
      "execution_count": 59,
      "outputs": []
    },
    {
      "cell_type": "code",
      "metadata": {
        "id": "bZp7AgnVCQLD",
        "colab_type": "code",
        "colab": {}
      },
      "source": [
        "from datetime import datetime\n",
        "from pdf_reports import pug_to_html, write_report"
      ],
      "execution_count": 60,
      "outputs": []
    },
    {
      "cell_type": "code",
      "metadata": {
        "id": "Z_HI1TXYCTyX",
        "colab_type": "code",
        "colab": {}
      },
      "source": [
        "import pandas as pd\n",
        "import numpy as np\n",
        "import io\n",
        "import matplotlib.pyplot as plt\n",
        "import csv"
      ],
      "execution_count": 61,
      "outputs": []
    },
    {
      "cell_type": "markdown",
      "metadata": {
        "id": "dHL5spuZCvST",
        "colab_type": "text"
      },
      "source": [
        "# ***LOCAL DO ARQUIVO PARA ATUALIZAÇÃO DO DATAFRAME***"
      ]
    },
    {
      "cell_type": "code",
      "metadata": {
        "id": "iiT3lTwcC_fk",
        "colab_type": "code",
        "colab": {}
      },
      "source": [
        "#dataframe OPERAÇÃO\n",
        "DF_OPE = pd.read_excel(\"/content/sample_data/planilha_ope.xlsx\")\n",
        "DF_OPE"
      ],
      "execution_count": null,
      "outputs": []
    },
    {
      "cell_type": "code",
      "metadata": {
        "id": "g-4AIwvTElQ1",
        "colab_type": "code",
        "colab": {}
      },
      "source": [
        "#dataframe ADM\n",
        "DF_ADM = pd.read_excel(\"/content/sample_data/planilha_adm.xlsx\")\n",
        "DF_ADM"
      ],
      "execution_count": null,
      "outputs": []
    },
    {
      "cell_type": "code",
      "metadata": {
        "id": "WeHESL4GE4AX",
        "colab_type": "code",
        "colab": {}
      },
      "source": [
        "DF_OPE.rename (columns= {\"User Name\": \"Usuario\",\n",
        "                        \"Type\": \"Processo\",\n",
        "                       \"Print Pages\": \"Total de Paginas\",\n",
        "                       \"Time\": \"Hora\",\n",
        "                       \"Date\": \"Data\",\n",
        "                       \"Job Name\": \"Nome do Arquivo\"\t},inplace = True)"
      ],
      "execution_count": 64,
      "outputs": []
    },
    {
      "cell_type": "code",
      "metadata": {
        "id": "CUWL7LCVE7M2",
        "colab_type": "code",
        "colab": {}
      },
      "source": [
        "DF_ADM.rename (columns= {\"User Name\": \"Usuario\",\n",
        "                        \"Type\": \"Processo\",\n",
        "                       \"Print Pages\": \"Total de Paginas\",\n",
        "                       \"Time\": \"Hora\",\n",
        "                       \"Date\": \"Data\",\n",
        "                       \"Job Name\": \"Nome do Arquivo\"\t},inplace = True)"
      ],
      "execution_count": 65,
      "outputs": []
    },
    {
      "cell_type": "code",
      "metadata": {
        "id": "91PqIyv_HtdR",
        "colab_type": "code",
        "colab": {}
      },
      "source": [
        "#APRESENTA DADOS DO DATAFRAME OPERAÇÃO\n",
        "DF_OPE.head()"
      ],
      "execution_count": null,
      "outputs": []
    },
    {
      "cell_type": "code",
      "metadata": {
        "id": "uIsz81B8H6gM",
        "colab_type": "code",
        "colab": {}
      },
      "source": [
        "#APRESENTA DADOS DO DATAFRAME OPERAÇÃO\n",
        "DF_ADM.head()"
      ],
      "execution_count": null,
      "outputs": []
    },
    {
      "cell_type": "markdown",
      "metadata": {
        "id": "2kgzQNNAIQ5L",
        "colab_type": "text"
      },
      "source": [
        "# ***OPERAÇÃO---TOTAL DE PAGINAS POR USUARIO***"
      ]
    },
    {
      "cell_type": "code",
      "metadata": {
        "id": "S3Yzv4YKIeHk",
        "colab_type": "code",
        "colab": {}
      },
      "source": [
        "DF_OPE [[\"Usuario\",\"Processo\",\"Total de Paginas\"]]"
      ],
      "execution_count": null,
      "outputs": []
    },
    {
      "cell_type": "code",
      "metadata": {
        "id": "7rpw5LBPItre",
        "colab_type": "code",
        "colab": {}
      },
      "source": [
        "plan_dados = DF_OPE [[\"Usuario\",\"Total de Paginas\"]]\n",
        "plan_dados"
      ],
      "execution_count": null,
      "outputs": []
    },
    {
      "cell_type": "code",
      "metadata": {
        "id": "zCgIwEK0I6gI",
        "colab_type": "code",
        "colab": {}
      },
      "source": [
        "dados_agrupados=plan_dados.groupby(by=\"Usuario\").sum()\n",
        "dados_agrupados"
      ],
      "execution_count": null,
      "outputs": []
    },
    {
      "cell_type": "code",
      "metadata": {
        "id": "sfZpojV_Jmjc",
        "colab_type": "code",
        "colab": {}
      },
      "source": [
        "nova= ['Christian.Cutrim','Cópias','Luis.Franca','Taliane.Lima','davisson.silva','graciele.gomes','marselle.ribeiro','pamela.silva','patricia.oliveira'\t]"
      ],
      "execution_count": 26,
      "outputs": []
    },
    {
      "cell_type": "code",
      "metadata": {
        "id": "KUyYpS0XJsOA",
        "colab_type": "code",
        "colab": {}
      },
      "source": [
        "dados_agrupados.insert(loc=0, column=\"Nome\",value= nova)"
      ],
      "execution_count": 27,
      "outputs": []
    },
    {
      "cell_type": "code",
      "metadata": {
        "id": "UCZrNQ7OJvr3",
        "colab_type": "code",
        "colab": {}
      },
      "source": [
        "dados_agrupados.head(10)"
      ],
      "execution_count": null,
      "outputs": []
    },
    {
      "cell_type": "code",
      "metadata": {
        "id": "QBZuwLp8Jx4Z",
        "colab_type": "code",
        "colab": {}
      },
      "source": [
        "#DADOS PARA GERAR GRAFICO 01\n",
        "dados_org_op = dados_agrupados.sort_values(by='Total de Paginas')\n",
        "dados_org_op"
      ],
      "execution_count": null,
      "outputs": []
    },
    {
      "cell_type": "code",
      "metadata": {
        "id": "6Tn9BuF4Krpi",
        "colab_type": "code",
        "colab": {}
      },
      "source": [
        "#dados_para_grafico_02_para_teste\n",
        "dados_grafico_02 = dados_agrupados.sort_values(by='Total de Paginas')\n",
        "dados_grafico_02"
      ],
      "execution_count": null,
      "outputs": []
    },
    {
      "cell_type": "code",
      "metadata": {
        "id": "8HkEHR3rKYaa",
        "colab_type": "code",
        "colab": {}
      },
      "source": [
        "#grafico 01\n",
        "dados_org_op.plot('Nome','Total de Paginas', kind = 'bar',figsize=(8,5) )"
      ],
      "execution_count": null,
      "outputs": []
    },
    {
      "cell_type": "code",
      "metadata": {
        "id": "JQiOHhO0LJGt",
        "colab_type": "code",
        "colab": {}
      },
      "source": [
        "#grafico 02_para_teste\n",
        "dados_grafico_02.plot('Nome','Total de Paginas', kind = 'barh',figsize=(8,5) )"
      ],
      "execution_count": null,
      "outputs": []
    },
    {
      "cell_type": "markdown",
      "metadata": {
        "id": "lUtKqszKZJ7k",
        "colab_type": "text"
      },
      "source": [
        "**RELATORIO PARA OPE**"
      ]
    },
    {
      "cell_type": "code",
      "metadata": {
        "id": "91QOCsCVLmmg",
        "colab_type": "code",
        "colab": {}
      },
      "source": [
        "#relatorio\n",
        "hoje = datetime.now().date()"
      ],
      "execution_count": null,
      "outputs": []
    },
    {
      "cell_type": "code",
      "metadata": {
        "id": "HkxLcqbyLnfX",
        "colab_type": "code",
        "colab": {}
      },
      "source": [
        "#relatorio\n",
        "html = pug_to_html(\"/content/sample_data/modelo_de_relatorio_012.pug\",\n",
        "                  dados_org_op=dados_org_op,\n",
        "                   dados_grafico_02=dados_grafico_02,\n",
        "                   hoje=hoje)"
      ],
      "execution_count": null,
      "outputs": []
    },
    {
      "cell_type": "code",
      "metadata": {
        "id": "aCnnF96ILuKc",
        "colab_type": "code",
        "colab": {}
      },
      "source": [
        "#relatorio\n",
        "html"
      ],
      "execution_count": null,
      "outputs": []
    },
    {
      "cell_type": "code",
      "metadata": {
        "id": "aqle5tTuL2JT",
        "colab_type": "code",
        "colab": {}
      },
      "source": [
        "#relatorio\n",
        "write_report(html, \"Relatorio_atualizado_Operação.pdf\")"
      ],
      "execution_count": null,
      "outputs": []
    },
    {
      "cell_type": "markdown",
      "metadata": {
        "id": "gXM7JBFWMHST",
        "colab_type": "text"
      },
      "source": [
        "# ***ADM---TOTAL DE PAGINAS POR USUARIO***"
      ]
    },
    {
      "cell_type": "code",
      "metadata": {
        "id": "V7TlNSmqMMhk",
        "colab_type": "code",
        "colab": {}
      },
      "source": [
        "DF_ADM [[\"Usuario\",\"Processo\",\"Total de Paginas\"]]"
      ],
      "execution_count": null,
      "outputs": []
    },
    {
      "cell_type": "code",
      "metadata": {
        "id": "6O3itZgzZdCz",
        "colab_type": "code",
        "colab": {}
      },
      "source": [
        "plan_dados_adm = DF_ADM [[\"Usuario\",\"Total de Paginas\"]]\n",
        "plan_dados_adm"
      ],
      "execution_count": null,
      "outputs": []
    },
    {
      "cell_type": "code",
      "metadata": {
        "id": "pVwAHRfxaCKG",
        "colab_type": "code",
        "colab": {}
      },
      "source": [
        "dados_agrupados_adm=plan_dados_adm.groupby(by=\"Usuario\").sum()\n",
        "dados_agrupados_adm"
      ],
      "execution_count": null,
      "outputs": []
    },
    {
      "cell_type": "code",
      "metadata": {
        "id": "0FTb87ssaSJk",
        "colab_type": "code",
        "colab": {}
      },
      "source": [
        "nova= ['ADMINISTRATIVO','Cópias','TREINAMENTO','ascencao.ferreira','brendo.mendonca','damiao.silva','jadna.pinheiro'\t]"
      ],
      "execution_count": 74,
      "outputs": []
    },
    {
      "cell_type": "code",
      "metadata": {
        "id": "I0n85eIMb9uT",
        "colab_type": "code",
        "colab": {}
      },
      "source": [
        "dados_agrupados_adm.insert(loc=0, column=\"Nome\",value= nova)"
      ],
      "execution_count": null,
      "outputs": []
    },
    {
      "cell_type": "code",
      "metadata": {
        "id": "RJu179qLckrd",
        "colab_type": "code",
        "colab": {}
      },
      "source": [
        "dados_agrupados_adm.head(10)"
      ],
      "execution_count": null,
      "outputs": []
    },
    {
      "cell_type": "code",
      "metadata": {
        "id": "Ah7z-UaTcsBk",
        "colab_type": "code",
        "colab": {
          "base_uri": "https://localhost:8080/",
          "height": 297
        },
        "outputId": "6e327ec3-36a4-49eb-a0cf-6d0e5341f90f"
      },
      "source": [
        "dados_org_adm = dados_agrupados_adm.sort_values(by='Total de Paginas')\n",
        "dados_org_adm"
      ],
      "execution_count": 73,
      "outputs": [
        {
          "output_type": "execute_result",
          "data": {
            "text/html": [
              "<div>\n",
              "<style scoped>\n",
              "    .dataframe tbody tr th:only-of-type {\n",
              "        vertical-align: middle;\n",
              "    }\n",
              "\n",
              "    .dataframe tbody tr th {\n",
              "        vertical-align: top;\n",
              "    }\n",
              "\n",
              "    .dataframe thead th {\n",
              "        text-align: right;\n",
              "    }\n",
              "</style>\n",
              "<table border=\"1\" class=\"dataframe\">\n",
              "  <thead>\n",
              "    <tr style=\"text-align: right;\">\n",
              "      <th></th>\n",
              "      <th>Nome</th>\n",
              "      <th>Total de Paginas</th>\n",
              "    </tr>\n",
              "    <tr>\n",
              "      <th>Usuario</th>\n",
              "      <th></th>\n",
              "      <th></th>\n",
              "    </tr>\n",
              "  </thead>\n",
              "  <tbody>\n",
              "    <tr>\n",
              "      <th>ADMINISTRATIVO</th>\n",
              "      <td>ADMINISTRATIVO</td>\n",
              "      <td>1</td>\n",
              "    </tr>\n",
              "    <tr>\n",
              "      <th>TREINAMENTO</th>\n",
              "      <td>TREINAMENTO</td>\n",
              "      <td>24</td>\n",
              "    </tr>\n",
              "    <tr>\n",
              "      <th>Cópias</th>\n",
              "      <td>Cópias</td>\n",
              "      <td>32</td>\n",
              "    </tr>\n",
              "    <tr>\n",
              "      <th>brendo.mendonca</th>\n",
              "      <td>brendo.mendonca\\t</td>\n",
              "      <td>175</td>\n",
              "    </tr>\n",
              "    <tr>\n",
              "      <th>ascencao.ferreira</th>\n",
              "      <td>ascencao.ferreira</td>\n",
              "      <td>262</td>\n",
              "    </tr>\n",
              "    <tr>\n",
              "      <th>jadna.pinheiro</th>\n",
              "      <td>jadna.pinheiro</td>\n",
              "      <td>320</td>\n",
              "    </tr>\n",
              "    <tr>\n",
              "      <th>damiao.silva</th>\n",
              "      <td>damiao.silva</td>\n",
              "      <td>520</td>\n",
              "    </tr>\n",
              "  </tbody>\n",
              "</table>\n",
              "</div>"
            ],
            "text/plain": [
              "                                Nome  Total de Paginas\n",
              "Usuario                                               \n",
              "ADMINISTRATIVO        ADMINISTRATIVO                 1\n",
              "TREINAMENTO              TREINAMENTO                24\n",
              "Cópias                        Cópias                32\n",
              "brendo.mendonca    brendo.mendonca\\t               175\n",
              "ascencao.ferreira  ascencao.ferreira               262\n",
              "jadna.pinheiro        jadna.pinheiro               320\n",
              "damiao.silva            damiao.silva               520"
            ]
          },
          "metadata": {
            "tags": []
          },
          "execution_count": 73
        }
      ]
    },
    {
      "cell_type": "code",
      "metadata": {
        "id": "h07YiBb3c2pS",
        "colab_type": "code",
        "colab": {}
      },
      "source": [
        "#grafico 02 teste\n",
        "dados_grafico_002 = dados_agrupados_adm.sort_values(by='Total de Paginas')\n",
        "dados_grafico_002"
      ],
      "execution_count": null,
      "outputs": []
    },
    {
      "cell_type": "code",
      "metadata": {
        "id": "WVK3y_Y-dKwZ",
        "colab_type": "code",
        "colab": {}
      },
      "source": [
        "#grafico 01\n",
        "dados_org_adm.plot('Nome','Total de Paginas', kind = 'bar',figsize=(8,5) )"
      ],
      "execution_count": null,
      "outputs": []
    },
    {
      "cell_type": "code",
      "metadata": {
        "id": "FXCLXUBjdQlp",
        "colab_type": "code",
        "colab": {}
      },
      "source": [
        "#grafico 02_para_teste\n",
        "dados_grafico_002.plot('Nome','Total de Paginas', kind = 'barh',figsize=(8,5) )"
      ],
      "execution_count": null,
      "outputs": []
    },
    {
      "cell_type": "markdown",
      "metadata": {
        "id": "pyaOuVEddc1u",
        "colab_type": "text"
      },
      "source": [
        "**RELATORIO PARA ADM**"
      ]
    },
    {
      "cell_type": "code",
      "metadata": {
        "id": "dyErEwt2dgZV",
        "colab_type": "code",
        "colab": {}
      },
      "source": [
        "#relatorio\n",
        "hoje = datetime.now().date()"
      ],
      "execution_count": 57,
      "outputs": []
    },
    {
      "cell_type": "code",
      "metadata": {
        "id": "hMXwtOOidwod",
        "colab_type": "code",
        "colab": {}
      },
      "source": [
        "#relatorio\n",
        "html = pug_to_html(\"/content/sample_data/modelo_de_relatorio_012.pug\",\n",
        "                  dados_org_adm=dados_org_adm,\n",
        "                   dados_grafico_002=dados_grafico_002,\n",
        "                   hoje=hoje)"
      ],
      "execution_count": null,
      "outputs": []
    },
    {
      "cell_type": "code",
      "metadata": {
        "id": "j2MU-C5sd2TI",
        "colab_type": "code",
        "colab": {}
      },
      "source": [
        "#relatorio\n",
        "html"
      ],
      "execution_count": null,
      "outputs": []
    },
    {
      "cell_type": "code",
      "metadata": {
        "id": "poypUvCRd4pn",
        "colab_type": "code",
        "colab": {}
      },
      "source": [
        "#relatorio\n",
        "write_report(html, \"Relatorio_atualizado_adm.pdf\")"
      ],
      "execution_count": null,
      "outputs": []
    },
    {
      "cell_type": "markdown",
      "metadata": {
        "id": "r8G16PnNe4dA",
        "colab_type": "text"
      },
      "source": [
        "# ***MODULO RELATÓRIO***"
      ]
    },
    {
      "cell_type": "code",
      "metadata": {
        "id": "ZDcYp_eQe-_5",
        "colab_type": "code",
        "colab": {}
      },
      "source": [
        "#relatorio\n",
        "hoje = datetime.now().date()"
      ],
      "execution_count": 69,
      "outputs": []
    },
    {
      "cell_type": "code",
      "metadata": {
        "id": "8IXWpcudfDJ3",
        "colab_type": "code",
        "colab": {
          "base_uri": "https://localhost:8080/",
          "height": 896
        },
        "outputId": "e759304b-98e1-4985-d6bc-3c1946c781df"
      },
      "source": [
        "#relatorio\n",
        "html = pug_to_html(\"/content/sample_data/Relatorio_Impressoras_ss_op.pug\",\n",
        "                   dados_org_op=dados_org_op,\n",
        "                   #dados_grafico_02=dados_grafico_02,\n",
        "                   dados_org_adm=dados_org_adm,\n",
        "                   #dados_grafico_002=dados_grafico_002,\n",
        "                   hoje=hoje)"
      ],
      "execution_count": 70,
      "outputs": [
        {
          "output_type": "stream",
          "text": [
            "/usr/local/lib/python3.6/dist-packages/matplotlib/backends/backend_agg.py:214: RuntimeWarning: Glyph 9 missing from current font.\n",
            "  font.set_text(s, 0.0, flags=flags)\n",
            "/usr/local/lib/python3.6/dist-packages/matplotlib/backends/backend_agg.py:183: RuntimeWarning: Glyph 9 missing from current font.\n",
            "  font.set_text(s, 0, flags=flags)\n"
          ],
          "name": "stderr"
        },
        {
          "output_type": "display_data",
          "data": {
            "image/png": "[encoded data removed]",
            "text/plain": [
              "<Figure size 576x360 with 1 Axes>"
            ]
          },
          "metadata": {
            "tags": [],
            "needs_background": "light"
          }
        },
        {
          "output_type": "display_data",
          "data": {
            "image/png": "[encoded data removed]",
            "text/plain": [
              "<Figure size 576x360 with 1 Axes>"
            ]
          },
          "metadata": {
            "tags": [],
            "needs_background": "light"
          }
        }
      ]
    },
    {
      "cell_type": "code",
      "metadata": {
        "id": "rc6goqbSfEp_",
        "colab_type": "code",
        "colab": {}
      },
      "source": [
        "#relatorio\n",
        "html"
      ],
      "execution_count": null,
      "outputs": []
    },
    {
      "cell_type": "code",
      "metadata": {
        "id": "11bSHmMtfF1A",
        "colab_type": "code",
        "colab": {}
      },
      "source": [
        "#relatorio\n",
        "write_report(html, \"Relatorio_atualizado_adm.pdf\")"
      ],
      "execution_count": 72,
      "outputs": []
    }
  ]
}