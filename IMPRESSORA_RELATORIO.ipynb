{
  "nbformat": 4,
  "nbformat_minor": 0,
  "metadata": {
    "colab": {
      "name": "IMPRESSORA_RELATORIO",
      "provenance": [],
      "collapsed_sections": [
        "TcZUgeM6fSOY"
      ],
      "toc_visible": true,
      "authorship_tag": "ABX9TyPPU7xd0I1SGlchvA7q03Z9",
      "include_colab_link": true
    },
    "kernelspec": {
      "name": "python3",
      "display_name": "Python 3"
    }
  },
  "cells": [
    {
      "cell_type": "markdown",
      "metadata": {
        "id": "view-in-github",
        "colab_type": "text"
      },
      "source": [
        "<a href=\"https://colab.research.google.com/github/antoniovitorio/Projetos/blob/master/IMPRESSORA_RELATORIO.ipynb\" target=\"_parent\"><img src=\"https://colab.research.google.com/assets/colab-badge.svg\" alt=\"Open In Colab\"/></a>"
      ]
    },
    {
      "cell_type": "code",
      "metadata": {
        "id": "irA7OToNeBry",
        "colab_type": "code",
        "colab": {}
      },
      "source": [
        "%matplotlib inline"
      ],
      "execution_count": null,
      "outputs": []
    },
    {
      "cell_type": "code",
      "metadata": {
        "id": "IyvSULRmeK5X",
        "colab_type": "code",
        "colab": {}
      },
      "source": [
        "import pandas as pd"
      ],
      "execution_count": null,
      "outputs": []
    },
    {
      "cell_type": "code",
      "metadata": {
        "id": "X9iZlYlheLuE",
        "colab_type": "code",
        "colab": {}
      },
      "source": [
        "import numpy as np"
      ],
      "execution_count": null,
      "outputs": []
    },
    {
      "cell_type": "code",
      "metadata": {
        "id": "IPibz2gjeOUY",
        "colab_type": "code",
        "colab": {}
      },
      "source": [
        "import io"
      ],
      "execution_count": null,
      "outputs": []
    },
    {
      "cell_type": "code",
      "metadata": {
        "id": "eCktNodeeP8p",
        "colab_type": "code",
        "colab": {}
      },
      "source": [
        "import matplotlib.pyplot as plt"
      ],
      "execution_count": null,
      "outputs": []
    },
    {
      "cell_type": "code",
      "metadata": {
        "id": "6iK8xbaCeRy9",
        "colab_type": "code",
        "colab": {}
      },
      "source": [
        "import csv"
      ],
      "execution_count": null,
      "outputs": []
    },
    {
      "cell_type": "code",
      "metadata": {
        "id": "ZB4Rluipedx0",
        "colab_type": "code",
        "colab": {}
      },
      "source": [
        "pd.read_excel(\"/content/sample_data/ADM_IMPRESSOARA.xlsx\")"
      ],
      "execution_count": null,
      "outputs": []
    },
    {
      "cell_type": "code",
      "metadata": {
        "id": "3ZRVVJ96ejvb",
        "colab_type": "code",
        "colab": {}
      },
      "source": [
        "DF = pd.read_excel(\"/content/sample_data/ADM_IMPRESSOARA.xlsx\")\n",
        "DF.head()"
      ],
      "execution_count": null,
      "outputs": []
    },
    {
      "cell_type": "code",
      "metadata": {
        "id": "6RPOdRjlerFu",
        "colab_type": "code",
        "colab": {}
      },
      "source": [
        "DF.rename (columns= {\"User Name\": \"Usuario\",\n",
        "                        \"Type\": \"Processo\",\n",
        "                       \"Print Pages\": \"Total de Paginas\",\n",
        "                       \"Time\": \"Hora\",\n",
        "                       \"Date\": \"Data\",\n",
        "                       \"Job Name\": \"Nome do Arquivo\"\t},inplace = True)"
      ],
      "execution_count": null,
      "outputs": []
    },
    {
      "cell_type": "code",
      "metadata": {
        "id": "aPS0uQ4jeyNE",
        "colab_type": "code",
        "colab": {}
      },
      "source": [
        "DF.head()"
      ],
      "execution_count": null,
      "outputs": []
    },
    {
      "cell_type": "markdown",
      "metadata": {
        "id": "TcZUgeM6fSOY",
        "colab_type": "text"
      },
      "source": [
        "## ***AQUI COMEÇA TOTAL DE PAGINAS POR USUARIO***"
      ]
    },
    {
      "cell_type": "code",
      "metadata": {
        "id": "LoCBx6JPe7wj",
        "colab_type": "code",
        "colab": {}
      },
      "source": [
        "# DADOS USUARIOS \n",
        "DF [[\"Usuario\",\"Processo\",\"Total de Paginas\",\"Data\",\"Hora\"]]"
      ],
      "execution_count": null,
      "outputs": []
    },
    {
      "cell_type": "code",
      "metadata": {
        "id": "NiWGm5FYfjYt",
        "colab_type": "code",
        "colab": {}
      },
      "source": [
        "DF [[\"Usuario\",\"Processo\",\"Total de Paginas\"]]"
      ],
      "execution_count": null,
      "outputs": []
    },
    {
      "cell_type": "code",
      "metadata": {
        "id": "lN4DaatffvT4",
        "colab_type": "code",
        "colab": {}
      },
      "source": [
        "dados_grupos = DF [[\"Usuario\",\"Processo\",\"Total de Paginas\"]]\n",
        "dados_grupos"
      ],
      "execution_count": null,
      "outputs": []
    },
    {
      "cell_type": "code",
      "metadata": {
        "id": "DGP9zAdGf34n",
        "colab_type": "code",
        "colab": {}
      },
      "source": [
        "plan_agrupada=dados_grupos.groupby([\"Usuario\",\"Processo\"]).sum()\n",
        "plan_agrupada"
      ],
      "execution_count": null,
      "outputs": []
    },
    {
      "cell_type": "code",
      "metadata": {
        "id": "FVsoofp-gdXk",
        "colab_type": "code",
        "colab": {}
      },
      "source": [
        "\n",
        "dados_user=dados_grupos.groupby([\"Usuario\"]).sum()\n",
        "dados_user"
      ],
      "execution_count": null,
      "outputs": []
    },
    {
      "cell_type": "code",
      "metadata": {
        "id": "g_e_wfP4g1Vh",
        "colab_type": "code",
        "colab": {}
      },
      "source": [
        "#DADOS DOS USUARIOS (TOTAL DE PAGINAS)\n",
        "Total_por_User = dados_user.sort_values(by='Total de Paginas')\n",
        "Total_por_User"
      ],
      "execution_count": null,
      "outputs": []
    },
    {
      "cell_type": "code",
      "metadata": {
        "id": "IBHL1tb2hRg6",
        "colab_type": "code",
        "colab": {}
      },
      "source": [
        "# GRAFICO DADOS USUARIOS(TOTAL DE PAGINAS POR USUARIO)\n",
        "Total_por_User[[\"Total de Paginas\"]].plot(figsize=(15,8), kind = 'bar')\n",
        "plt.title(\"IMPRESSORA SS\", y=1.08, fontsize='20')\n",
        "plt.xticks(rotation=45)\n",
        "plt.draw()"
      ],
      "execution_count": null,
      "outputs": []
    },
    {
      "cell_type": "code",
      "metadata": {
        "id": "oOx4wCNTiRNy",
        "colab_type": "code",
        "colab": {}
      },
      "source": [
        "# GRAFICO DADOS USUARIOS\n",
        "dados= dados_org.plot(kind='pie',\n",
        "                      wedgeprops = {\"ec\": \"k\"},\n",
        "                      figsize=(17,8),\n",
        "                      labeldistance = 1.04,\n",
        "                      subplots=True,\n",
        "                      autopct='%1.1f%%',\n",
        "                      textprops = {\"fontsize\": 13})\n",
        "plt.axis('equal')\n",
        "plt.legend(title='Usuarios',loc=3)\n",
        "plt.tight_layout()\n",
        "plt.title(\"GRÁFICO 02\", y=5.08, fontsize='20')\n",
        "plt.draw()"
      ],
      "execution_count": null,
      "outputs": []
    },
    {
      "cell_type": "markdown",
      "metadata": {
        "id": "suntqerijXwa",
        "colab_type": "text"
      },
      "source": [
        "## ***AQUI COMEÇA ARQUIVO MAIS IMPRESSO***"
      ]
    },
    {
      "cell_type": "code",
      "metadata": {
        "id": "NVrNt_CXjnMT",
        "colab_type": "code",
        "colab": {}
      },
      "source": [
        "DF.head()"
      ],
      "execution_count": null,
      "outputs": []
    },
    {
      "cell_type": "code",
      "metadata": {
        "id": "nlVBzSehkCg3",
        "colab_type": "code",
        "colab": {}
      },
      "source": [
        "DT_PG= DF [[\"Usuario\",\"Processo\",\"Nome do Arquivo\",\"Total de Paginas\"]]\n",
        "DT_PG"
      ],
      "execution_count": null,
      "outputs": []
    },
    {
      "cell_type": "code",
      "metadata": {
        "id": "7uZ2i0eMkkCz",
        "colab_type": "code",
        "colab": {}
      },
      "source": [
        "DT_PG[[\"Processo\",\"Nome do Arquivo\",\"Total de Paginas\"]]"
      ],
      "execution_count": null,
      "outputs": []
    },
    {
      "cell_type": "code",
      "metadata": {
        "id": "Tj2pVz1SkrIk",
        "colab_type": "code",
        "colab": {}
      },
      "source": [
        "Num_pagina=DT_PG[[\"Processo\",\"Nome do Arquivo\",\"Total de Paginas\"]]\n",
        "Num_pagina"
      ],
      "execution_count": null,
      "outputs": []
    },
    {
      "cell_type": "code",
      "metadata": {
        "id": "yKMhwCYplm7h",
        "colab_type": "code",
        "colab": {}
      },
      "source": [
        "numeropag = Num_pagina[[\"Nome do Arquivo\",\"Total de Paginas\"]]\n",
        "numeropag.head()"
      ],
      "execution_count": null,
      "outputs": []
    }
  ]
}