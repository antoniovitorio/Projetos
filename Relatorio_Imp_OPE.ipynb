{
  "nbformat": 4,
  "nbformat_minor": 0,
  "metadata": {
    "colab": {
      "name": "Relatorio_Imp_OPE.ipynb",
      "provenance": [],
      "collapsed_sections": [],
      "authorship_tag": "ABX9TyNOJIuXtjrtnwNAEoTk00IG",
      "include_colab_link": true
    },
    "kernelspec": {
      "name": "python3",
      "display_name": "Python 3"
    }
  },
  "cells": [
    {
      "cell_type": "markdown",
      "metadata": {
        "id": "view-in-github",
        "colab_type": "text"
      },
      "source": [
        "<a href=\"https://colab.research.google.com/github/antoniovitorio/Projetos/blob/master/Relatorio_Imp_OPE.ipynb\" target=\"_parent\"><img src=\"https://colab.research.google.com/assets/colab-badge.svg\" alt=\"Open In Colab\"/></a>"
      ]
    },
    {
      "cell_type": "code",
      "metadata": {
        "id": "bTw9YPr2sk0y",
        "colab_type": "code",
        "colab": {}
      },
      "source": [
        "%matplotlib inline"
      ],
      "execution_count": 24,
      "outputs": []
    },
    {
      "cell_type": "code",
      "metadata": {
        "id": "TKwleLzGsIpi",
        "colab_type": "code",
        "colab": {}
      },
      "source": [
        "import pandas as pd\n"
      ],
      "execution_count": 25,
      "outputs": []
    },
    {
      "cell_type": "code",
      "metadata": {
        "id": "XKBli5ln4lK_",
        "colab_type": "code",
        "colab": {}
      },
      "source": [
        "import numpy as np\n"
      ],
      "execution_count": 26,
      "outputs": []
    },
    {
      "cell_type": "code",
      "metadata": {
        "id": "MYdBBMeY7XT9",
        "colab_type": "code",
        "colab": {}
      },
      "source": [
        "import io"
      ],
      "execution_count": 27,
      "outputs": []
    },
    {
      "cell_type": "code",
      "metadata": {
        "id": "XnMTXUpzsj6F",
        "colab_type": "code",
        "colab": {}
      },
      "source": [
        "import matplotlib.pyplot as plt"
      ],
      "execution_count": 28,
      "outputs": []
    },
    {
      "cell_type": "code",
      "metadata": {
        "id": "m3gdjO9cs2IP",
        "colab_type": "code",
        "colab": {}
      },
      "source": [
        "import csv"
      ],
      "execution_count": 29,
      "outputs": []
    },
    {
      "cell_type": "code",
      "metadata": {
        "id": "wtt41Ch9wpPu",
        "colab_type": "code",
        "colab": {}
      },
      "source": [
        "pd.read_excel(\"/content/sample_data/OPE_IMPRESSORA.xlsx\")"
      ],
      "execution_count": null,
      "outputs": []
    },
    {
      "cell_type": "code",
      "metadata": {
        "id": "xKclPZrmxmyx",
        "colab_type": "code",
        "colab": {}
      },
      "source": [
        "data = pd.read_excel(\"/content/sample_data/OPE_IMPRESSORA.xlsx\")\n",
        "data\n"
      ],
      "execution_count": null,
      "outputs": []
    },
    {
      "cell_type": "code",
      "metadata": {
        "id": "WKyaUItR7xgd",
        "colab_type": "code",
        "colab": {}
      },
      "source": [
        "data.rename (columns= {\"User Name\": \"Usuario\",\n",
        "                        \"Type\": \"Processo\",\n",
        "                       \"Print Pages\": \"Total de Paginas\",\n",
        "                       \"Time\": \"Hora\",\n",
        "                       \"Date\": \"Data\"},inplace = True)"
      ],
      "execution_count": 9,
      "outputs": []
    },
    {
      "cell_type": "code",
      "metadata": {
        "id": "JJROf7mJFFTh",
        "colab_type": "code",
        "colab": {}
      },
      "source": [
        "data"
      ],
      "execution_count": null,
      "outputs": []
    },
    {
      "cell_type": "code",
      "metadata": {
        "id": "TbCSHyF2FHHe",
        "colab_type": "code",
        "colab": {}
      },
      "source": [
        "data [[\"Usuario\",\"Processo\",\"Total de Paginas\",\"Data\",\"Hora\"]]"
      ],
      "execution_count": null,
      "outputs": []
    },
    {
      "cell_type": "code",
      "metadata": {
        "id": "E14HyyE9cWVP",
        "colab_type": "code",
        "colab": {}
      },
      "source": [
        "data [[\"Usuario\",\"Processo\",\"Total de Paginas\"]]"
      ],
      "execution_count": null,
      "outputs": []
    },
    {
      "cell_type": "code",
      "metadata": {
        "id": "uwkusm8dmsWs",
        "colab_type": "code",
        "colab": {}
      },
      "source": [
        "dados_grupos = data [[\"Usuario\",\"Processo\",\"Total de Paginas\"]]\n",
        "dados_grupos"
      ],
      "execution_count": null,
      "outputs": []
    },
    {
      "cell_type": "code",
      "metadata": {
        "id": "YQyVbKGapHVz",
        "colab_type": "code",
        "colab": {}
      },
      "source": [
        "dados_teste=dados_grupos.groupby([\"Usuario\",\"Processo\"]).sum()\t"
      ],
      "execution_count": 14,
      "outputs": []
    },
    {
      "cell_type": "code",
      "metadata": {
        "id": "h6HtasDrs7qE",
        "colab_type": "code",
        "colab": {}
      },
      "source": [
        "dados_teste"
      ],
      "execution_count": null,
      "outputs": []
    },
    {
      "cell_type": "code",
      "metadata": {
        "id": "k9GXZlKd5_bO",
        "colab_type": "code",
        "colab": {}
      },
      "source": [
        "dados_user=dados_grupos.groupby([\"Usuario\"]).sum()\n",
        "dados_user"
      ],
      "execution_count": null,
      "outputs": []
    },
    {
      "cell_type": "code",
      "metadata": {
        "id": "GF9dtbFt7qGU",
        "colab_type": "code",
        "colab": {}
      },
      "source": [
        "dados_org = dados_user.sort_values(by='Total de Paginas')\n",
        "dados_org"
      ],
      "execution_count": null,
      "outputs": []
    },
    {
      "cell_type": "code",
      "metadata": {
        "id": "-Lsk0Ry0zxTZ",
        "colab_type": "code",
        "colab": {}
      },
      "source": [
        "dados= dados_org[[\"Total de Paginas\"]].plot(figsize=(15,8), kind = 'bar')\n",
        "plt.title(\"GRÁFICO 01\", y=1.08, fontsize='20')\n",
        "plt.draw()"
      ],
      "execution_count": null,
      "outputs": []
    },
    {
      "cell_type": "code",
      "metadata": {
        "id": "i2SJFtzABPce",
        "colab_type": "code",
        "colab": {}
      },
      "source": [
        "dados= dados_org.plot(figsize=(15,9),autopct='%.2f%%',shadow=True,subplots=True,kind = 'pie')\n",
        "plt.legend(loc='best')\n",
        "plt.title(\"GRÁFICO 02\", y=1.08, fontsize='20')\n",
        "plt.show()"
      ],
      "execution_count": null,
      "outputs": []
    },
    {
      "cell_type": "code",
      "metadata": {
        "id": "HMFtBHuOdYAR",
        "colab_type": "code",
        "colab": {}
      },
      "source": [
        "# Com Pandas\n",
        "dados_org.plot(kind='pie',wedgeprops = {\"ec\": \"k\"},figsize=(17,8),labeldistance = 1.1,subplots=True,autopct='%.2f%%')\n",
        "plt.axis('equal')  # Para deixar o gráfico redondo\n",
        "plt.title(\"Teste\")\n",
        "plt.legend()\n"
      ],
      "execution_count": null,
      "outputs": []
    },
    {
      "cell_type": "code",
      "metadata": {
        "id": "KnbHW1xKotrf",
        "colab_type": "code",
        "colab": {}
      },
      "source": [
        "dados= dados_org.plot(kind='pie',\n",
        "                      wedgeprops = {\"ec\": \"k\"},\n",
        "                      figsize=(17,8),\n",
        "                      labeldistance = 1.04,\n",
        "                      subplots=True,\n",
        "                      autopct='%1.1f%%',\n",
        "                      textprops = {\"fontsize\": 13})\n",
        "plt.axis('equal')\n",
        "plt.legend(title='Usuarios',loc='best')\n",
        "plt.tight_layout()\n",
        "plt.title(\"GRÁFICO 02\", y=5.08, fontsize='20')\n",
        "plt.draw()"
      ],
      "execution_count": null,
      "outputs": []
    }
  ]
}