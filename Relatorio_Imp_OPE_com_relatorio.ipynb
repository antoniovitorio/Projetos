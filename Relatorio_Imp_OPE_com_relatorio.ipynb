{
  "nbformat": 4,
  "nbformat_minor": 0,
  "metadata": {
    "colab": {
      "name": "Relatorio_Imp_OPE.ipynb",
      "provenance": [],
      "collapsed_sections": [
        "naCAvnEiHbHJ",
        "wNfoDKVMHuHa"
      ],
      "toc_visible": true,
      "include_colab_link": true
    },
    "kernelspec": {
      "name": "python3",
      "display_name": "Python 3"
    }
  },
  "cells": [
    {
      "cell_type": "markdown",
      "metadata": {
        "id": "view-in-github",
        "colab_type": "text"
      },
      "source": [
        "<a href=\"https://colab.research.google.com/github/antoniovitorio/Projetos/blob/master/Relatorio_Imp_OPE_com_relatorio.ipynb\" target=\"_parent\"><img src=\"https://colab.research.google.com/assets/colab-badge.svg\" alt=\"Open In Colab\"/></a>"
      ]
    },
    {
      "cell_type": "code",
      "metadata": {
        "id": "bTw9YPr2sk0y",
        "colab_type": "code",
        "colab": {}
      },
      "source": [
        "%matplotlib inline"
      ],
      "execution_count": 2,
      "outputs": []
    },
    {
      "cell_type": "code",
      "metadata": {
        "id": "yZkU-hiaBR4e",
        "colab_type": "code",
        "colab": {}
      },
      "source": [
        "pip install pdf_reports -q"
      ],
      "execution_count": null,
      "outputs": []
    },
    {
      "cell_type": "code",
      "metadata": {
        "id": "bYeDTkGSBYH6",
        "colab_type": "code",
        "colab": {}
      },
      "source": [
        "from datetime import datetime\n",
        "from pdf_reports import pug_to_html, write_report"
      ],
      "execution_count": 4,
      "outputs": []
    },
    {
      "cell_type": "code",
      "metadata": {
        "id": "TKwleLzGsIpi",
        "colab_type": "code",
        "colab": {}
      },
      "source": [
        "import pandas as pd\n"
      ],
      "execution_count": 5,
      "outputs": []
    },
    {
      "cell_type": "code",
      "metadata": {
        "id": "XKBli5ln4lK_",
        "colab_type": "code",
        "colab": {}
      },
      "source": [
        "import numpy as np\n"
      ],
      "execution_count": 6,
      "outputs": []
    },
    {
      "cell_type": "code",
      "metadata": {
        "id": "MYdBBMeY7XT9",
        "colab_type": "code",
        "colab": {}
      },
      "source": [
        "import io"
      ],
      "execution_count": 7,
      "outputs": []
    },
    {
      "cell_type": "code",
      "metadata": {
        "id": "XnMTXUpzsj6F",
        "colab_type": "code",
        "colab": {}
      },
      "source": [
        "import matplotlib.pyplot as plt"
      ],
      "execution_count": 8,
      "outputs": []
    },
    {
      "cell_type": "code",
      "metadata": {
        "id": "m3gdjO9cs2IP",
        "colab_type": "code",
        "colab": {}
      },
      "source": [
        "import csv"
      ],
      "execution_count": 9,
      "outputs": []
    },
    {
      "cell_type": "code",
      "metadata": {
        "id": "wtt41Ch9wpPu",
        "colab_type": "code",
        "colab": {}
      },
      "source": [
        "pd.read_excel(\"/content/sample_data/planilha.xlsx\")"
      ],
      "execution_count": null,
      "outputs": []
    },
    {
      "cell_type": "code",
      "metadata": {
        "id": "xKclPZrmxmyx",
        "colab_type": "code",
        "colab": {}
      },
      "source": [
        "DF = pd.read_excel(\"/content/sample_data/planilha.xlsx\")\n",
        "DF\n"
      ],
      "execution_count": null,
      "outputs": []
    },
    {
      "cell_type": "code",
      "metadata": {
        "id": "WKyaUItR7xgd",
        "colab_type": "code",
        "colab": {}
      },
      "source": [
        "DF.rename (columns= {\"User Name\": \"Usuario\",\n",
        "                        \"Type\": \"Processo\",\n",
        "                       \"Print Pages\": \"Total de Paginas\",\n",
        "                       \"Time\": \"Hora\",\n",
        "                       \"Date\": \"Data\",\n",
        "                       \"Job Name\": \"Nome do Arquivo\"\t},inplace = True)"
      ],
      "execution_count": 23,
      "outputs": []
    },
    {
      "cell_type": "code",
      "metadata": {
        "id": "JJROf7mJFFTh",
        "colab_type": "code",
        "colab": {}
      },
      "source": [
        "DF.head()"
      ],
      "execution_count": null,
      "outputs": []
    },
    {
      "cell_type": "code",
      "metadata": {
        "id": "LY4v9ssKB8zy",
        "colab_type": "code",
        "colab": {}
      },
      "source": [
        "hoje = datetime.now().date()"
      ],
      "execution_count": 25,
      "outputs": []
    },
    {
      "cell_type": "markdown",
      "metadata": {
        "id": "naCAvnEiHbHJ",
        "colab_type": "text"
      },
      "source": [
        "## ***AQUI COMEÇA TOTAL DE PAGINAS POR USUARIO***"
      ]
    },
    {
      "cell_type": "code",
      "metadata": {
        "id": "jNkw94pJH54A",
        "colab_type": "code",
        "colab": {}
      },
      "source": [
        "DF.head()"
      ],
      "execution_count": null,
      "outputs": []
    },
    {
      "cell_type": "code",
      "metadata": {
        "id": "TbCSHyF2FHHe",
        "colab_type": "code",
        "colab": {}
      },
      "source": [
        "# DADOS USUARIOS \n",
        "DF [[\"Usuario\",\"Processo\",\"Total de Paginas\",\"Data\",\"Hora\"]]"
      ],
      "execution_count": null,
      "outputs": []
    },
    {
      "cell_type": "code",
      "metadata": {
        "id": "E14HyyE9cWVP",
        "colab_type": "code",
        "colab": {}
      },
      "source": [
        "# DADOS USUARIOS \n",
        "DF [[\"Usuario\",\"Processo\",\"Total de Paginas\"]]"
      ],
      "execution_count": null,
      "outputs": []
    },
    {
      "cell_type": "code",
      "metadata": {
        "id": "uwkusm8dmsWs",
        "colab_type": "code",
        "colab": {}
      },
      "source": [
        "# DADOS USUARIOS \n",
        "planilha_dados = DF [[\"Usuario\",\"Processo\",\"Total de Paginas\"]]\n",
        "planilha_dados"
      ],
      "execution_count": null,
      "outputs": []
    },
    {
      "cell_type": "code",
      "metadata": {
        "id": "qYZiHl80SaCo",
        "colab_type": "code",
        "colab": {}
      },
      "source": [
        "#TESTE TESTE TESTE\n",
        "planilha_dados_teste = DF [[\"Usuario\",\"Total de Paginas\"]]\n",
        "planilha_dados_teste"
      ],
      "execution_count": null,
      "outputs": []
    },
    {
      "cell_type": "code",
      "metadata": {
        "id": "5V73DzBzR_Qy",
        "colab_type": "code",
        "colab": {}
      },
      "source": [
        "#TESTE TESTE TESTE\n",
        "planilha_teste=planilha_dados.groupby(by=\"Usuario\").sum()\n",
        "planilha_teste"
      ],
      "execution_count": null,
      "outputs": []
    },
    {
      "cell_type": "code",
      "metadata": {
        "id": "nRMg6uDGZzI7",
        "colab_type": "code",
        "colab": {}
      },
      "source": [
        "#TESTE TESTE TESTE\n",
        "nova= ['Christian.Cutrim','Cópias','Luis.Franca','Taliane.Lima','davisson.silva','graciele.gomes','marselle.ribeiro','pamela.silva','patricia.oliveira'\t ]"
      ],
      "execution_count": 277,
      "outputs": []
    },
    {
      "cell_type": "code",
      "metadata": {
        "id": "CRDBOBkBcIUT",
        "colab_type": "code",
        "colab": {}
      },
      "source": [
        "#TESTE TESTE TESTE\n",
        "planilha_teste.insert(loc=0, column=\"Nome\",value= nova)\n"
      ],
      "execution_count": 278,
      "outputs": []
    },
    {
      "cell_type": "code",
      "metadata": {
        "id": "xOrAe6o-ddJ9",
        "colab_type": "code",
        "colab": {}
      },
      "source": [
        "#TESTE TESTE TESTE\n",
        "planilha_teste.head(10)"
      ],
      "execution_count": null,
      "outputs": []
    },
    {
      "cell_type": "code",
      "metadata": {
        "id": "32O7EZUkds1N",
        "colab_type": "code",
        "colab": {}
      },
      "source": [
        "#TESTE TESTE TESTE\n",
        "dados_org_teste = planilha_teste.sort_values(by='Total de Paginas')\n",
        "dados_org_teste"
      ],
      "execution_count": null,
      "outputs": []
    },
    {
      "cell_type": "code",
      "metadata": {
        "id": "3pQ5mioc8oHh",
        "colab_type": "code",
        "colab": {}
      },
      "source": [
        "dados_teste_02 = planilha_teste.sort_values(by='Total de Paginas')\n",
        "dados_teste_02"
      ],
      "execution_count": null,
      "outputs": []
    },
    {
      "cell_type": "code",
      "metadata": {
        "id": "8bRxc3RQhyYz",
        "colab_type": "code",
        "colab": {}
      },
      "source": [
        "#TESTE TESTE TESTE\n",
        "dados_org_teste.plot('Nome','Total de Paginas', kind = 'bar',figsize=(8,5) )"
      ],
      "execution_count": null,
      "outputs": []
    },
    {
      "cell_type": "code",
      "metadata": {
        "id": "2pKTAIhd5QTu",
        "colab_type": "code",
        "colab": {}
      },
      "source": [
        "dados_teste_02.plot('Nome','Total de Paginas', kind = 'barh',figsize=(8,5) )"
      ],
      "execution_count": null,
      "outputs": []
    },
    {
      "cell_type": "code",
      "metadata": {
        "id": "dGcNY0B6IG9w",
        "colab_type": "code",
        "colab": {}
      },
      "source": [
        "planilha=planilha_dados.groupby([\"Usuario\"]).sum()\n",
        "planilha"
      ],
      "execution_count": null,
      "outputs": []
    },
    {
      "cell_type": "code",
      "metadata": {
        "id": "k9GXZlKd5_bO",
        "colab_type": "code",
        "colab": {}
      },
      "source": [
        "# DADOS USUARIOS \n",
        "dados_user= planilha.groupby([\"Usuario\"]).sum()\n",
        "dados_user"
      ],
      "execution_count": null,
      "outputs": []
    },
    {
      "cell_type": "code",
      "metadata": {
        "id": "GF9dtbFt7qGU",
        "colab_type": "code",
        "colab": {}
      },
      "source": [
        "# DADOS USUARIOS ordenados\n",
        "dados_org = dados_user.sort_values(by='Total de Paginas')\n",
        "dados_org"
      ],
      "execution_count": null,
      "outputs": []
    },
    {
      "cell_type": "code",
      "metadata": {
        "id": "-Lsk0Ry0zxTZ",
        "colab_type": "code",
        "colab": {}
      },
      "source": [
        "# DADOS USUARIOS \n",
        "dados_org[[\"Total de Paginas\"]].plot(figsize=(13,8), kind = 'bar',color=\"Indigo\")\n",
        "plt.title(\"GRÁFICO 01\", y=1.08, fontsize='20')\n",
        "plt.xticks(rotation=45)\n",
        "plt.draw()"
      ],
      "execution_count": null,
      "outputs": []
    },
    {
      "cell_type": "code",
      "metadata": {
        "id": "YTyGjOkWv7Ny",
        "colab_type": "code",
        "colab": {}
      },
      "source": [
        "dados_org[[\"Total de Paginas\"]].plot(kind = 'bar',color=\"Indigo\")\n",
        "plt.title(\"GRÁFICO 01\", y=1.08, fontsize='20')\n",
        "plt.xticks(rotation=45)\n",
        "plt.draw()"
      ],
      "execution_count": null,
      "outputs": []
    },
    {
      "cell_type": "code",
      "metadata": {
        "id": "HMFtBHuOdYAR",
        "colab_type": "code",
        "colab": {}
      },
      "source": [
        "# Com Pandas\n",
        "dados_org.plot(kind='pie',\n",
        "                      wedgeprops = {\"ec\": \"k\"},\n",
        "                      figsize=(11,7),\n",
        "                      labeldistance = 1.04,\n",
        "                      subplots=True,\n",
        "                      autopct='%1.1f%%',\n",
        "                      textprops = {\"fontsize\": 13})\n",
        "plt.axis('equal')\n",
        "plt.legend(title='Usuarios',loc=3)\n",
        "plt.tight_layout()\n",
        "plt.title(\"GRÁFICO 02\", y=5.08, fontsize='20')\n",
        "plt.draw()\n"
      ],
      "execution_count": null,
      "outputs": []
    },
    {
      "cell_type": "code",
      "metadata": {
        "id": "VTL_hbDiLmRi",
        "colab_type": "code",
        "colab": {}
      },
      "source": [
        "hoje = datetime.now().date()"
      ],
      "execution_count": 225,
      "outputs": []
    },
    {
      "cell_type": "code",
      "metadata": {
        "id": "4Ystep60gBsR",
        "colab_type": "code",
        "colab": {
          "base_uri": "https://localhost:8080/",
          "height": 708
        },
        "outputId": "449c734c-475a-49bc-ef42-ad2a731dfc83"
      },
      "source": [
        "html = pug_to_html(\"/content/sample_data/modelo_de_relatorio_012.pug\",\n",
        "                  dados_org_teste=dados_org_teste,\n",
        "                   dados_teste_02=dados_teste_02,\n",
        "                   hoje=hoje)\n",
        "                   \n",
        "                   "
      ],
      "execution_count": 290,
      "outputs": [
        {
          "output_type": "display_data",
          "data": {
            "image/png": "[encoded data removed]",
            "text/plain": [
              "<Figure size 576x360 with 1 Axes>"
            ]
          },
          "metadata": {
            "tags": [],
            "needs_background": "light"
          }
        },
        {
          "output_type": "display_data",
          "data": {
            "image/png": "[encoded data removed]",
            "text/plain": [
              "<Figure size 576x360 with 1 Axes>"
            ]
          },
          "metadata": {
            "tags": [],
            "needs_background": "light"
          }
        }
      ]
    },
    {
      "cell_type": "code",
      "metadata": {
        "id": "Kbo3QS31lGbW",
        "colab_type": "code",
        "colab": {}
      },
      "source": [
        "html"
      ],
      "execution_count": null,
      "outputs": []
    },
    {
      "cell_type": "code",
      "metadata": {
        "id": "VQXYaQrDlJTj",
        "colab_type": "code",
        "colab": {}
      },
      "source": [
        "write_report(html, \"Relatorio_atualizado_Operação.pdf\")"
      ],
      "execution_count": 292,
      "outputs": []
    },
    {
      "cell_type": "markdown",
      "metadata": {
        "id": "wNfoDKVMHuHa",
        "colab_type": "text"
      },
      "source": [
        "# ***AQUI COMEÇA ARQUIVO MAIS IMPRESSO***"
      ]
    },
    {
      "cell_type": "code",
      "metadata": {
        "id": "zKbqQNWtHyTr",
        "colab_type": "code",
        "colab": {}
      },
      "source": [
        "DF.head()"
      ],
      "execution_count": null,
      "outputs": []
    },
    {
      "cell_type": "code",
      "metadata": {
        "id": "ilXIwjg-H-vT",
        "colab_type": "code",
        "colab": {}
      },
      "source": [
        "# DADOS NOME DO AQRUIVO \n",
        "DT_PG= DF [[\"Usuario\",\"Processo\",\"Nome do Arquivo\",\"Total de Paginas\"]]\n",
        "DT_PG"
      ],
      "execution_count": null,
      "outputs": []
    },
    {
      "cell_type": "code",
      "metadata": {
        "id": "hY29qLavMRfh",
        "colab_type": "code",
        "colab": {}
      },
      "source": [
        "DT_PG[[\"Processo\",\"Nome do Arquivo\",\"Total de Paginas\"]]"
      ],
      "execution_count": null,
      "outputs": []
    },
    {
      "cell_type": "code",
      "metadata": {
        "id": "TzLIA63QIbFv",
        "colab_type": "code",
        "colab": {}
      },
      "source": [
        "Num_pagina=DT_PG[[\"Processo\",\"Nome do Arquivo\",\"Total de Paginas\"]]\n",
        "Num_pagina"
      ],
      "execution_count": null,
      "outputs": []
    },
    {
      "cell_type": "code",
      "metadata": {
        "id": "jfiY3BYyIylt",
        "colab_type": "code",
        "colab": {}
      },
      "source": [
        "# DADOS NOME DO AQRUIVO\n",
        "numeropag = Num_pagina[[\"Nome do Arquivo\",\"Total de Paginas\"]]\n",
        "numeropag.head()"
      ],
      "execution_count": null,
      "outputs": []
    },
    {
      "cell_type": "code",
      "metadata": {
        "id": "7O3OwVCZJFCN",
        "colab_type": "code",
        "colab": {}
      },
      "source": [
        "# DADOS NOME DO AQRUIVO \n",
        "total_paginas = numeropag.groupby([\"Nome do Arquivo\"]).sum()\n",
        "total_paginas"
      ],
      "execution_count": null,
      "outputs": []
    },
    {
      "cell_type": "code",
      "metadata": {
        "id": "Q1zxzotaKOHH",
        "colab_type": "code",
        "colab": {}
      },
      "source": [
        "#arquivo que foi mais impresso\n",
        "TOT_PAGINAS = total_paginas.sort_values(by=\"Total de Paginas\",ascending=False)[0:10]\n",
        "TOT_PAGINAS"
      ],
      "execution_count": null,
      "outputs": []
    },
    {
      "cell_type": "code",
      "metadata": {
        "id": "gk10UqlbjB0G",
        "colab_type": "code",
        "colab": {}
      },
      "source": [
        "# DADOS NOME DO AQRUIVO\n",
        "TOT_PAGINAS[[\"Total de Paginas\"]].plot(figsize=(15,8), kind = 'barh',color=\"Indigo\")\n",
        "plt.title(\"IMPRESSÃO DE ARQUIVO\", y=1.08, fontsize='20')\n",
        "plt.yticks(rotation=45)\n",
        "plt.draw()"
      ],
      "execution_count": null,
      "outputs": []
    },
    {
      "cell_type": "code",
      "metadata": {
        "id": "blwcvpL9jFfL",
        "colab_type": "code",
        "colab": {}
      },
      "source": [
        "#teste"
      ],
      "execution_count": null,
      "outputs": []
    },
    {
      "cell_type": "code",
      "metadata": {
        "id": "i0kZJz2ejGRb",
        "colab_type": "code",
        "colab": {}
      },
      "source": [
        "TOT_PAGINAS[[\"Total de Paginas\"]].plot(figsize=(15,8), kind = 'barh',color=\"Indigo\")\n",
        "plt.title(\"IMPRESSÃO DE ARQUIVO\", y=1.08, fontsize='20')\n",
        "plt.annotate = [\"Total de Paginas\"]\n",
        "plt.yticks(rotation=45)\n",
        "plt.draw()"
      ],
      "execution_count": null,
      "outputs": []
    },
    {
      "cell_type": "markdown",
      "metadata": {
        "id": "maw1pG6PVBum",
        "colab_type": "text"
      },
      "source": [
        "# ***AQUI COMEÇA O TOTAL DE ARQUIVO IMPRESSO POR DIA OU MES!***"
      ]
    },
    {
      "cell_type": "code",
      "metadata": {
        "id": "gIrSfHCSREKB",
        "colab_type": "code",
        "colab": {}
      },
      "source": [
        "DF.head()"
      ],
      "execution_count": null,
      "outputs": []
    },
    {
      "cell_type": "code",
      "metadata": {
        "id": "QhsdXA05RJCm",
        "colab_type": "code",
        "colab": {}
      },
      "source": [
        "DF [[\"Usuario\",\"Processo\",\"Total de Paginas\",\"Data\"]]"
      ],
      "execution_count": null,
      "outputs": []
    },
    {
      "cell_type": "code",
      "metadata": {
        "id": "7jS76H2ORd3Z",
        "colab_type": "code",
        "colab": {}
      },
      "source": [
        "CONTG_POR_DIA = DF [[\"Usuario\",\"Total de Paginas\",\"Data\"]]\n",
        "CONTG_POR_DIA"
      ],
      "execution_count": null,
      "outputs": []
    },
    {
      "cell_type": "code",
      "metadata": {
        "id": "wDDTt15lRef-",
        "colab_type": "code",
        "colab": {}
      },
      "source": [
        "#QUANTIDADE POR DIA\n",
        "CONT_ORGAN = CONTG_POR_DIA.groupby(['Data']).sum()\n",
        "CONT_ORGAN"
      ],
      "execution_count": null,
      "outputs": []
    },
    {
      "cell_type": "code",
      "metadata": {
        "id": "Y0y4jDHqRj0R",
        "colab_type": "code",
        "colab": {
          "base_uri": "https://localhost:8080/",
          "height": 197
        },
        "outputId": "5e110f94-de79-483f-914a-4a3cbeacdfe0"
      },
      "source": [
        "#QUANTIDADE POR DIA com usuario\n",
        "Relatorio_por_dia = CONTG_POR_DIA.groupby([DF['Data'].dt.day, 'Usuario']).sum()\n",
        "Relatorio_por_dia"
      ],
      "execution_count": 95,
      "outputs": [
        {
          "output_type": "error",
          "ename": "NameError",
          "evalue": "ignored",
          "traceback": [
            "\u001b[0;31m---------------------------------------------------------------------------\u001b[0m",
            "\u001b[0;31mNameError\u001b[0m                                 Traceback (most recent call last)",
            "\u001b[0;32m<ipython-input-95-2102e7c326ea>\u001b[0m in \u001b[0;36m<module>\u001b[0;34m()\u001b[0m\n\u001b[1;32m      1\u001b[0m \u001b[0;31m#QUANTIDADE POR DIA com usuario\u001b[0m\u001b[0;34m\u001b[0m\u001b[0;34m\u001b[0m\u001b[0;34m\u001b[0m\u001b[0m\n\u001b[0;32m----> 2\u001b[0;31m \u001b[0mRelatorio_por_dia\u001b[0m \u001b[0;34m=\u001b[0m \u001b[0mCONTG_POR_DIA\u001b[0m\u001b[0;34m.\u001b[0m\u001b[0mgroupby\u001b[0m\u001b[0;34m(\u001b[0m\u001b[0;34m[\u001b[0m\u001b[0mDF\u001b[0m\u001b[0;34m[\u001b[0m\u001b[0;34m'Data'\u001b[0m\u001b[0;34m]\u001b[0m\u001b[0;34m.\u001b[0m\u001b[0mdt\u001b[0m\u001b[0;34m.\u001b[0m\u001b[0mday\u001b[0m\u001b[0;34m,\u001b[0m \u001b[0;34m'Usuario'\u001b[0m\u001b[0;34m]\u001b[0m\u001b[0;34m)\u001b[0m\u001b[0;34m.\u001b[0m\u001b[0msum\u001b[0m\u001b[0;34m(\u001b[0m\u001b[0;34m)\u001b[0m\u001b[0;34m\u001b[0m\u001b[0;34m\u001b[0m\u001b[0m\n\u001b[0m\u001b[1;32m      3\u001b[0m \u001b[0mRelatorio_por_dia\u001b[0m\u001b[0;34m\u001b[0m\u001b[0;34m\u001b[0m\u001b[0m\n",
            "\u001b[0;31mNameError\u001b[0m: name 'CONTG_POR_DIA' is not defined"
          ]
        }
      ]
    },
    {
      "cell_type": "code",
      "metadata": {
        "id": "skSUYhFbRnDA",
        "colab_type": "code",
        "colab": {}
      },
      "source": [
        "#QUANTIDADE POR MES co usuario\n",
        "Relatorio_por_MES = CONTG_POR_DIA.groupby([DF['Data'].dt.month, 'Usuario']).sum()\n",
        "Relatorio_por_MES"
      ],
      "execution_count": null,
      "outputs": []
    },
    {
      "cell_type": "code",
      "metadata": {
        "id": "VhPOhaaoRqJH",
        "colab_type": "code",
        "colab": {}
      },
      "source": [
        "#TOTAL MES\n",
        "total_por_MES = CONTG_POR_DIA.groupby([DF['Data'].dt.month]).sum()\n",
        "total_por_MES"
      ],
      "execution_count": null,
      "outputs": []
    },
    {
      "cell_type": "code",
      "metadata": {
        "id": "aPYjQNP_RtJl",
        "colab_type": "code",
        "colab": {}
      },
      "source": [
        "#Grafico QUANTIDADE POR DIA\n",
        "CONT_ORGAN[[\"Total de Paginas\"]].plot(figsize=(15,8), kind = 'bar',color=\"Indigo\")\n",
        "plt.title(\"IMPRESSÃO POR USUÁRIO\", y=1.08, fontsize='20')\n",
        "plt.xticks(rotation=45)\n",
        "plt.draw()"
      ],
      "execution_count": null,
      "outputs": []
    },
    {
      "cell_type": "code",
      "metadata": {
        "id": "Etx4U430R0dY",
        "colab_type": "code",
        "colab": {}
      },
      "source": [
        "#Grafico MES USUARIO\n",
        "Relatorio_por_MES[[\"Total de Paginas\"]].plot(figsize=(15,8), kind = 'bar',color=\"Indigo\")\n",
        "plt.title(\"IMPRESSÃO POR USUÁRIO\", y=1.08, fontsize='20')\n",
        "plt.xticks(rotation=45)\n",
        "plt.draw()"
      ],
      "execution_count": null,
      "outputs": []
    },
    {
      "cell_type": "code",
      "metadata": {
        "id": "a_D2QmdAR7oT",
        "colab_type": "code",
        "colab": {}
      },
      "source": [
        "#Grafico TOTAL MES\n",
        "total_por_MES[[\"Total de Paginas\"]].plot(figsize=(8,6), kind = 'bar',color=\"Indigo\")\n",
        "plt.title(\"IMPRESSÃO POR USUÁRIO\", y=1.08, fontsize='20')\n",
        "plt.xticks(rotation=45)\n",
        "plt.draw()"
      ],
      "execution_count": null,
      "outputs": []
    }
  ]
}