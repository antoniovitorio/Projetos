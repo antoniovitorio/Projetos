{
  "nbformat": 4,
  "nbformat_minor": 0,
  "metadata": {
    "colab": {
      "name": "Relatorio_Total_Paginas.ipynb",
      "provenance": [],
      "collapsed_sections": [],
      "toc_visible": true,
      "authorship_tag": "ABX9TyOPyBZGwgUx5s8hQhJd/i6b",
      "include_colab_link": true
    },
    "kernelspec": {
      "name": "python3",
      "display_name": "Python 3"
    }
  },
  "cells": [
    {
      "cell_type": "markdown",
      "metadata": {
        "id": "view-in-github",
        "colab_type": "text"
      },
      "source": [
        "<a href=\"https://colab.research.google.com/github/antoniovitorio/Projetos/blob/master/Relatorio_Total_Paginas.ipynb\" target=\"_parent\"><img src=\"https://colab.research.google.com/assets/colab-badge.svg\" alt=\"Open In Colab\"/></a>"
      ]
    },
    {
      "cell_type": "code",
      "metadata": {
        "id": "bTw9YPr2sk0y",
        "colab_type": "code",
        "colab": {}
      },
      "source": [
        "%matplotlib inline"
      ],
      "execution_count": 212,
      "outputs": []
    },
    {
      "cell_type": "code",
      "metadata": {
        "id": "TKwleLzGsIpi",
        "colab_type": "code",
        "colab": {}
      },
      "source": [
        "import pandas as pd\n"
      ],
      "execution_count": 213,
      "outputs": []
    },
    {
      "cell_type": "code",
      "metadata": {
        "id": "XKBli5ln4lK_",
        "colab_type": "code",
        "colab": {}
      },
      "source": [
        "import numpy as np\n"
      ],
      "execution_count": 214,
      "outputs": []
    },
    {
      "cell_type": "code",
      "metadata": {
        "id": "MYdBBMeY7XT9",
        "colab_type": "code",
        "colab": {}
      },
      "source": [
        "import io"
      ],
      "execution_count": 218,
      "outputs": []
    },
    {
      "cell_type": "code",
      "metadata": {
        "id": "XnMTXUpzsj6F",
        "colab_type": "code",
        "colab": {}
      },
      "source": [
        "import matplotlib.pyplot as plt"
      ],
      "execution_count": 215,
      "outputs": []
    },
    {
      "cell_type": "code",
      "metadata": {
        "id": "m3gdjO9cs2IP",
        "colab_type": "code",
        "colab": {}
      },
      "source": [
        "import csv"
      ],
      "execution_count": 101,
      "outputs": []
    },
    {
      "cell_type": "code",
      "metadata": {
        "id": "wtt41Ch9wpPu",
        "colab_type": "code",
        "colab": {}
      },
      "source": [
        "data = pd.read_csv('/content/sample_data/arquivo.csv',encoding = \"ISO-8859-1\")"
      ],
      "execution_count": 130,
      "outputs": []
    },
    {
      "cell_type": "code",
      "metadata": {
        "id": "xKclPZrmxmyx",
        "colab_type": "code",
        "colab": {}
      },
      "source": [
        "data"
      ],
      "execution_count": null,
      "outputs": []
    },
    {
      "cell_type": "code",
      "metadata": {
        "id": "WKyaUItR7xgd",
        "colab_type": "code",
        "colab": {}
      },
      "source": [
        "data.rename (columns= {\"User Name\": \"Usuario\",\n",
        "                        \"Type\": \"Processo\",\n",
        "                       \"Print Pages\": \"Total de Paginas\",\n",
        "                       \"Time\": \"Hora\",\n",
        "                       \"Date\": \"Data\"},inplace = True)"
      ],
      "execution_count": 132,
      "outputs": []
    },
    {
      "cell_type": "code",
      "metadata": {
        "id": "JJROf7mJFFTh",
        "colab_type": "code",
        "colab": {}
      },
      "source": [
        "data"
      ],
      "execution_count": null,
      "outputs": []
    },
    {
      "cell_type": "code",
      "metadata": {
        "id": "TbCSHyF2FHHe",
        "colab_type": "code",
        "colab": {}
      },
      "source": [
        "data [[\"Usuario\",\"Processo\",\"Total de Paginas\",\"Data\",\"Hora\"]]"
      ],
      "execution_count": null,
      "outputs": []
    },
    {
      "cell_type": "code",
      "metadata": {
        "id": "E14HyyE9cWVP",
        "colab_type": "code",
        "colab": {}
      },
      "source": [
        "data [[\"Usuario\",\"Processo\",\"Total de Paginas\"]]"
      ],
      "execution_count": null,
      "outputs": []
    },
    {
      "cell_type": "code",
      "metadata": {
        "id": "uwkusm8dmsWs",
        "colab_type": "code",
        "colab": {}
      },
      "source": [
        "dados_grupos = data [[\"Usuario\",\"Processo\",\"Total de Paginas\"]]\n",
        "dados_grupos"
      ],
      "execution_count": null,
      "outputs": []
    },
    {
      "cell_type": "code",
      "metadata": {
        "id": "YQyVbKGapHVz",
        "colab_type": "code",
        "colab": {}
      },
      "source": [
        "dados_teste=dados_grupos.groupby([\"Usuario\",\"Processo\"]).sum()\t"
      ],
      "execution_count": 207,
      "outputs": []
    },
    {
      "cell_type": "code",
      "metadata": {
        "id": "h6HtasDrs7qE",
        "colab_type": "code",
        "colab": {}
      },
      "source": [
        "dados_teste"
      ],
      "execution_count": null,
      "outputs": []
    },
    {
      "cell_type": "code",
      "metadata": {
        "id": "k9GXZlKd5_bO",
        "colab_type": "code",
        "colab": {}
      },
      "source": [
        "dados_user=dados_grupos.groupby([\"Usuario\"]).sum()\n",
        "dados_user"
      ],
      "execution_count": null,
      "outputs": []
    },
    {
      "cell_type": "code",
      "metadata": {
        "id": "GF9dtbFt7qGU",
        "colab_type": "code",
        "colab": {
          "base_uri": "https://localhost:8080/",
          "height": 359
        },
        "outputId": "3b01db88-21e2-4817-cc8a-f3d58878472e"
      },
      "source": [
        "dados_org = dados_user.sort_values(by='Total de Paginas')\n",
        "dados_org"
      ],
      "execution_count": 230,
      "outputs": [
        {
          "output_type": "execute_result",
          "data": {
            "text/html": [
              "<div>\n",
              "<style scoped>\n",
              "    .dataframe tbody tr th:only-of-type {\n",
              "        vertical-align: middle;\n",
              "    }\n",
              "\n",
              "    .dataframe tbody tr th {\n",
              "        vertical-align: top;\n",
              "    }\n",
              "\n",
              "    .dataframe thead th {\n",
              "        text-align: right;\n",
              "    }\n",
              "</style>\n",
              "<table border=\"1\" class=\"dataframe\">\n",
              "  <thead>\n",
              "    <tr style=\"text-align: right;\">\n",
              "      <th></th>\n",
              "      <th>Total de Paginas</th>\n",
              "    </tr>\n",
              "    <tr>\n",
              "      <th>Usuario</th>\n",
              "      <th></th>\n",
              "    </tr>\n",
              "  </thead>\n",
              "  <tbody>\n",
              "    <tr>\n",
              "      <th>Public</th>\n",
              "      <td>1</td>\n",
              "    </tr>\n",
              "    <tr>\n",
              "      <th>Taliane.Lima</th>\n",
              "      <td>3</td>\n",
              "    </tr>\n",
              "    <tr>\n",
              "      <th>Christian.Cutrim</th>\n",
              "      <td>4</td>\n",
              "    </tr>\n",
              "    <tr>\n",
              "      <th>graciele.gomes</th>\n",
              "      <td>4</td>\n",
              "    </tr>\n",
              "    <tr>\n",
              "      <th>pamela.silva</th>\n",
              "      <td>4</td>\n",
              "    </tr>\n",
              "    <tr>\n",
              "      <th>marselle.ribeiro</th>\n",
              "      <td>5</td>\n",
              "    </tr>\n",
              "    <tr>\n",
              "      <th>Luis.Franca</th>\n",
              "      <td>12</td>\n",
              "    </tr>\n",
              "    <tr>\n",
              "      <th>patricia.oliveira</th>\n",
              "      <td>12</td>\n",
              "    </tr>\n",
              "    <tr>\n",
              "      <th>davisson.silva</th>\n",
              "      <td>16</td>\n",
              "    </tr>\n",
              "  </tbody>\n",
              "</table>\n",
              "</div>"
            ],
            "text/plain": [
              "                   Total de Paginas\n",
              "Usuario                            \n",
              "Public                            1\n",
              "Taliane.Lima                      3\n",
              "Christian.Cutrim                  4\n",
              "graciele.gomes                    4\n",
              "pamela.silva                      4\n",
              "marselle.ribeiro                  5\n",
              "Luis.Franca                      12\n",
              "patricia.oliveira                12\n",
              "davisson.silva                   16"
            ]
          },
          "metadata": {
            "tags": []
          },
          "execution_count": 230
        }
      ]
    },
    {
      "cell_type": "code",
      "metadata": {
        "id": "-Lsk0Ry0zxTZ",
        "colab_type": "code",
        "colab": {}
      },
      "source": [
        "dados= dados_org[[\"Total de Paginas\"]].plot(figsize=(8,5), kind = 'bar')"
      ],
      "execution_count": null,
      "outputs": []
    },
    {
      "cell_type": "code",
      "metadata": {
        "id": "i2SJFtzABPce",
        "colab_type": "code",
        "colab": {}
      },
      "source": [
        "dados= dados_org[[\"Total de Paginas\"]].plot(shadow=True,subplots=True,kind = 'pie')"
      ],
      "execution_count": null,
      "outputs": []
    },
    {
      "cell_type": "code",
      "metadata": {
        "id": "SWn7KDCPFB6E",
        "colab_type": "code",
        "colab": {
          "base_uri": "https://localhost:8080/",
          "height": 357
        },
        "outputId": "5333bab4-a776-4431-86c5-b10217a0484d"
      },
      "source": [
        "plt.figure(figsize=(8,5))\n",
        "plt.pie(dados_org)\n",
        "plt.show()"
      ],
      "execution_count": 252,
      "outputs": [
        {
          "output_type": "stream",
          "text": [
            "/usr/local/lib/python3.6/dist-packages/ipykernel_launcher.py:2: MatplotlibDeprecationWarning: Non-1D inputs to pie() are currently squeeze()d, but this behavior is deprecated since 3.1 and will be removed in 3.3; pass a 1D array instead.\n",
            "  \n"
          ],
          "name": "stderr"
        },
        {
          "output_type": "display_data",
          "data": {
            "image/png": "[encoded data removed]",
            "text/plain": [
              "<Figure size 576x360 with 1 Axes>"
            ]
          },
          "metadata": {
            "tags": []
          }
        }
      ]
    }
  ]
}