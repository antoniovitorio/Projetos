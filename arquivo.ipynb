{
  "nbformat": 4,
  "nbformat_minor": 0,
  "metadata": {
    "colab": {
      "name": "arquivo.ipynb",
      "provenance": [],
      "collapsed_sections": [],
      "authorship_tag": "ABX9TyOwOTYzjPP//Ibt3LNIA23p",
      "include_colab_link": true
    },
    "kernelspec": {
      "name": "python3",
      "display_name": "Python 3"
    },
    "language_info": {
      "name": "python"
    }
  },
  "cells": [
    {
      "cell_type": "markdown",
      "metadata": {
        "id": "view-in-github",
        "colab_type": "text"
      },
      "source": [
        "<a href=\"https://colab.research.google.com/github/antoniovitorio/Projetos/blob/master/arquivo.ipynb\" target=\"_parent\"><img src=\"https://colab.research.google.com/assets/colab-badge.svg\" alt=\"Open In Colab\"/></a>"
      ]
    },
    {
      "cell_type": "code",
      "metadata": {
        "id": "KaFtFwDbE96B"
      },
      "source": [
        "%matplotlib inline"
      ],
      "execution_count": 1,
      "outputs": []
    },
    {
      "cell_type": "code",
      "metadata": {
        "colab": {
          "base_uri": "https://localhost:8080/"
        },
        "id": "oxFlSwkyFp-F",
        "outputId": "8c7eeb86-6d3a-4b90-a849-c0ee9253cd4a"
      },
      "source": [
        "pip install pdf_reports -q"
      ],
      "execution_count": 2,
      "outputs": [
        {
          "output_type": "stream",
          "text": [
            "\u001b[K     |████████████████████████████████| 122kB 4.9MB/s \n",
            "\u001b[K     |████████████████████████████████| 368kB 7.6MB/s \n",
            "\u001b[K     |████████████████████████████████| 71kB 4.1MB/s \n",
            "\u001b[K     |████████████████████████████████| 51kB 3.6MB/s \n",
            "\u001b[K     |████████████████████████████████| 1.9MB 9.9MB/s \n",
            "\u001b[?25h  Building wheel for pdf-reports (setup.py) ... \u001b[?25l\u001b[?25hdone\n",
            "  Building wheel for cairocffi (setup.py) ... \u001b[?25l\u001b[?25hdone\n"
          ],
          "name": "stdout"
        }
      ]
    },
    {
      "cell_type": "code",
      "metadata": {
        "id": "qu34GvpAFyM8"
      },
      "source": [
        "from datetime import datetime\n",
        "from pdf_reports import pug_to_html, write_report"
      ],
      "execution_count": 3,
      "outputs": []
    },
    {
      "cell_type": "code",
      "metadata": {
        "id": "F0hGp2L0F16L"
      },
      "source": [
        "\n",
        "import seaborn as sns"
      ],
      "execution_count": 4,
      "outputs": []
    },
    {
      "cell_type": "code",
      "metadata": {
        "id": "7UCYLEKGF5Tj"
      },
      "source": [
        "import pandas as pd\n",
        "import numpy as np\n",
        "import io\n",
        "import matplotlib.pyplot as plt\n",
        "import csv\n",
        "from matplotlib.axes import Subplot\n",
        "from matplotlib.figure import Figure"
      ],
      "execution_count": 5,
      "outputs": []
    },
    {
      "cell_type": "code",
      "metadata": {
        "id": "NLYW3X4UF-Q6"
      },
      "source": [
        "#dataframe\n",
        "planilha = pd.read_excel(\"/content/sample_data/DF_DENGUE.xlsx\")\n",
        "planilha"
      ],
      "execution_count": null,
      "outputs": []
    },
    {
      "cell_type": "code",
      "metadata": {
        "id": "dZtw51-VHf-W"
      },
      "source": [
        "planilha.info()"
      ],
      "execution_count": null,
      "outputs": []
    },
    {
      "cell_type": "code",
      "metadata": {
        "id": "B9U-pH0pIgi1"
      },
      "source": [
        "planilha.describe()"
      ],
      "execution_count": null,
      "outputs": []
    },
    {
      "cell_type": "code",
      "metadata": {
        "id": "FtMc7SrCJfAF"
      },
      "source": [
        "planilha.plot(\"Meses/Ano\",\"Casos de Dengue\")"
      ],
      "execution_count": null,
      "outputs": []
    },
    {
      "cell_type": "code",
      "metadata": {
        "id": "MpdBH-YrKhM4"
      },
      "source": [
        "plan_dados = planilha [[\"Meses/Ano\",\"Casos de Dengue\",\"Temp Maxima Media\"]]\n",
        "plan_dados"
      ],
      "execution_count": null,
      "outputs": []
    },
    {
      "cell_type": "code",
      "metadata": {
        "id": "i8L74vU0LHEy"
      },
      "source": [
        "dados_agrupados=plan_dados.groupby(by=\"Meses/Ano\").sum()\n",
        "dados_agrupados"
      ],
      "execution_count": null,
      "outputs": []
    },
    {
      "cell_type": "code",
      "metadata": {
        "id": "xRugL1GQLV2w"
      },
      "source": [
        "dados_org_op = dados_agrupados.sort_values(by='Casos de Dengue')\n",
        "dados_org_op"
      ],
      "execution_count": null,
      "outputs": []
    },
    {
      "cell_type": "code",
      "metadata": {
        "id": "k-i9VqInLhdg"
      },
      "source": [
        "dados_org_op.plot('Casos de Dengue',figsize=(8,5) )"
      ],
      "execution_count": null,
      "outputs": []
    },
    {
      "cell_type": "code",
      "metadata": {
        "id": "pqa2l2h_MxaA"
      },
      "source": [
        "dados_org_op.plot(kind = 'barh',figsize=(8,5) )"
      ],
      "execution_count": null,
      "outputs": []
    }
  ]
}