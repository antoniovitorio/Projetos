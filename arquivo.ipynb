{
  "nbformat": 4,
  "nbformat_minor": 0,
  "metadata": {
    "colab": {
      "name": "arquivo.ipynb",
      "provenance": [],
      "collapsed_sections": [],
      "authorship_tag": "ABX9TyNaFB8J8z26sQfrYPxPvz67",
      "include_colab_link": true
    },
    "kernelspec": {
      "name": "python3",
      "display_name": "Python 3"
    },
    "language_info": {
      "name": "python"
    }
  },
  "cells": [
    {
      "cell_type": "markdown",
      "metadata": {
        "id": "view-in-github",
        "colab_type": "text"
      },
      "source": [
        "<a href=\"https://colab.research.google.com/github/antoniovitorio/Projetos/blob/master/arquivo.ipynb\" target=\"_parent\"><img src=\"https://colab.research.google.com/assets/colab-badge.svg\" alt=\"Open In Colab\"/></a>"
      ]
    },
    {
      "cell_type": "code",
      "metadata": {
        "id": "KaFtFwDbE96B"
      },
      "source": [
        "%matplotlib inline"
      ],
      "execution_count": 36,
      "outputs": []
    },
    {
      "cell_type": "code",
      "metadata": {
        "id": "oxFlSwkyFp-F"
      },
      "source": [
        "pip install pdf_reports -q"
      ],
      "execution_count": 38,
      "outputs": []
    },
    {
      "cell_type": "code",
      "metadata": {
        "id": "UYPspHPBSOOv"
      },
      "source": [
        "!pip install cufflinks"
      ],
      "execution_count": null,
      "outputs": []
    },
    {
      "cell_type": "code",
      "metadata": {
        "colab": {
          "base_uri": "https://localhost:8080/"
        },
        "id": "vV9b1ijjSFpM",
        "outputId": "55118ad3-4ac5-4804-d9e6-4816a62bc5aa"
      },
      "source": [
        "!pip install plotly"
      ],
      "execution_count": 53,
      "outputs": [
        {
          "output_type": "stream",
          "text": [
            "Requirement already satisfied: plotly in /usr/local/lib/python3.7/dist-packages (4.4.1)\n",
            "Requirement already satisfied: retrying>=1.3.3 in /usr/local/lib/python3.7/dist-packages (from plotly) (1.3.3)\n",
            "Requirement already satisfied: six in /usr/local/lib/python3.7/dist-packages (from plotly) (1.15.0)\n"
          ],
          "name": "stdout"
        }
      ]
    },
    {
      "cell_type": "code",
      "metadata": {
        "id": "qu34GvpAFyM8"
      },
      "source": [
        "from datetime import datetime\n",
        "from pdf_reports import pug_to_html, write_report"
      ],
      "execution_count": 39,
      "outputs": []
    },
    {
      "cell_type": "code",
      "metadata": {
        "id": "F0hGp2L0F16L"
      },
      "source": [
        "\n",
        "import seaborn as sns"
      ],
      "execution_count": 40,
      "outputs": []
    },
    {
      "cell_type": "code",
      "metadata": {
        "id": "NGKKIOyiSWOf"
      },
      "source": [
        "import cufflinks as cf\n",
        "from plotly.offline import iplot"
      ],
      "execution_count": 55,
      "outputs": []
    },
    {
      "cell_type": "code",
      "metadata": {
        "id": "l_glSCwNS9bg"
      },
      "source": [
        "import plotly\n",
        "import plotly.graph_objs as go"
      ],
      "execution_count": 62,
      "outputs": []
    },
    {
      "cell_type": "code",
      "metadata": {
        "id": "RMj-GnbaUxKa"
      },
      "source": [
        "import plotly.offline as py\n",
        "import plotly.graph_objs as go"
      ],
      "execution_count": 78,
      "outputs": []
    },
    {
      "cell_type": "code",
      "metadata": {
        "id": "7UCYLEKGF5Tj"
      },
      "source": [
        "import pandas as pd\n",
        "import numpy as np\n",
        "import io\n",
        "import matplotlib.pyplot as plt\n",
        "import csv\n",
        "from matplotlib.axes import Subplot\n",
        "from matplotlib.figure import Figure"
      ],
      "execution_count": 41,
      "outputs": []
    },
    {
      "cell_type": "code",
      "metadata": {
        "id": "NLYW3X4UF-Q6"
      },
      "source": [
        "#dataframe\n",
        "planilha = pd.read_excel(\"/content/sample_data/DF_DENGUE.xlsx\")\n",
        "planilha"
      ],
      "execution_count": null,
      "outputs": []
    },
    {
      "cell_type": "code",
      "metadata": {
        "id": "dZtw51-VHf-W"
      },
      "source": [
        "planilha.info()"
      ],
      "execution_count": null,
      "outputs": []
    },
    {
      "cell_type": "code",
      "metadata": {
        "id": "B9U-pH0pIgi1",
        "colab": {
          "base_uri": "https://localhost:8080/",
          "height": 311
        },
        "outputId": "bd2e9465-2562-4a41-ea8f-157206d23ba5"
      },
      "source": [
        "planilha.describe()"
      ],
      "execution_count": 99,
      "outputs": [
        {
          "output_type": "execute_result",
          "data": {
            "text/html": [
              "<div>\n",
              "<style scoped>\n",
              "    .dataframe tbody tr th:only-of-type {\n",
              "        vertical-align: middle;\n",
              "    }\n",
              "\n",
              "    .dataframe tbody tr th {\n",
              "        vertical-align: top;\n",
              "    }\n",
              "\n",
              "    .dataframe thead th {\n",
              "        text-align: right;\n",
              "    }\n",
              "</style>\n",
              "<table border=\"1\" class=\"dataframe\">\n",
              "  <thead>\n",
              "    <tr style=\"text-align: right;\">\n",
              "      <th></th>\n",
              "      <th>Casos de Dengue</th>\n",
              "      <th>Temp Maxima Media</th>\n",
              "      <th>Temp Minima Media</th>\n",
              "      <th>Precipitacao Total</th>\n",
              "      <th>UmidadeRelativaMedia</th>\n",
              "      <th>Velocidade Vento Media</th>\n",
              "    </tr>\n",
              "  </thead>\n",
              "  <tbody>\n",
              "    <tr>\n",
              "      <th>count</th>\n",
              "      <td>216.000000</td>\n",
              "      <td>216.000000</td>\n",
              "      <td>216.000000</td>\n",
              "      <td>216.000000</td>\n",
              "      <td>216.000000</td>\n",
              "      <td>216.000000</td>\n",
              "    </tr>\n",
              "    <tr>\n",
              "      <th>mean</th>\n",
              "      <td>390.152778</td>\n",
              "      <td>28.586178</td>\n",
              "      <td>17.601863</td>\n",
              "      <td>125.405556</td>\n",
              "      <td>63.501194</td>\n",
              "      <td>2.100451</td>\n",
              "    </tr>\n",
              "    <tr>\n",
              "      <th>std</th>\n",
              "      <td>805.362683</td>\n",
              "      <td>1.724871</td>\n",
              "      <td>1.935941</td>\n",
              "      <td>123.250419</td>\n",
              "      <td>13.318120</td>\n",
              "      <td>0.626674</td>\n",
              "    </tr>\n",
              "    <tr>\n",
              "      <th>min</th>\n",
              "      <td>3.000000</td>\n",
              "      <td>23.383871</td>\n",
              "      <td>12.770968</td>\n",
              "      <td>0.000000</td>\n",
              "      <td>29.975000</td>\n",
              "      <td>0.692098</td>\n",
              "    </tr>\n",
              "    <tr>\n",
              "      <th>25%</th>\n",
              "      <td>39.750000</td>\n",
              "      <td>27.393548</td>\n",
              "      <td>15.990322</td>\n",
              "      <td>10.650000</td>\n",
              "      <td>52.354167</td>\n",
              "      <td>1.687097</td>\n",
              "    </tr>\n",
              "    <tr>\n",
              "      <th>50%</th>\n",
              "      <td>101.000000</td>\n",
              "      <td>28.700001</td>\n",
              "      <td>18.163691</td>\n",
              "      <td>87.450000</td>\n",
              "      <td>66.075605</td>\n",
              "      <td>2.036674</td>\n",
              "    </tr>\n",
              "    <tr>\n",
              "      <th>75%</th>\n",
              "      <td>219.500000</td>\n",
              "      <td>29.700001</td>\n",
              "      <td>19.000000</td>\n",
              "      <td>208.225000</td>\n",
              "      <td>75.512500</td>\n",
              "      <td>2.430914</td>\n",
              "    </tr>\n",
              "    <tr>\n",
              "      <th>max</th>\n",
              "      <td>4508.000000</td>\n",
              "      <td>33.000000</td>\n",
              "      <td>21.700001</td>\n",
              "      <td>526.400000</td>\n",
              "      <td>85.177419</td>\n",
              "      <td>4.505376</td>\n",
              "    </tr>\n",
              "  </tbody>\n",
              "</table>\n",
              "</div>"
            ],
            "text/plain": [
              "       Casos de Dengue  ...  Velocidade Vento Media\n",
              "count       216.000000  ...              216.000000\n",
              "mean        390.152778  ...                2.100451\n",
              "std         805.362683  ...                0.626674\n",
              "min           3.000000  ...                0.692098\n",
              "25%          39.750000  ...                1.687097\n",
              "50%         101.000000  ...                2.036674\n",
              "75%         219.500000  ...                2.430914\n",
              "max        4508.000000  ...                4.505376\n",
              "\n",
              "[8 rows x 6 columns]"
            ]
          },
          "metadata": {
            "tags": []
          },
          "execution_count": 99
        }
      ]
    },
    {
      "cell_type": "code",
      "metadata": {
        "colab": {
          "base_uri": "https://localhost:8080/",
          "height": 657
        },
        "id": "YKI40cmrYhhO",
        "outputId": "b926f855-24fe-4564-ad61-18287503acc5"
      },
      "source": [
        "planilha.hist(figsize = (20, 12))"
      ],
      "execution_count": 101,
      "outputs": [
        {
          "output_type": "execute_result",
          "data": {
            "text/plain": [
              "array([[<matplotlib.axes._subplots.AxesSubplot object at 0x7f25aa69f950>,\n",
              "        <matplotlib.axes._subplots.AxesSubplot object at 0x7f25aa998d90>],\n",
              "       [<matplotlib.axes._subplots.AxesSubplot object at 0x7f25a9269310>,\n",
              "        <matplotlib.axes._subplots.AxesSubplot object at 0x7f25ab97c890>],\n",
              "       [<matplotlib.axes._subplots.AxesSubplot object at 0x7f25aa728e10>,\n",
              "        <matplotlib.axes._subplots.AxesSubplot object at 0x7f25aa5cf3d0>]],\n",
              "      dtype=object)"
            ]
          },
          "metadata": {
            "tags": []
          },
          "execution_count": 101
        },
        {
          "output_type": "display_data",
          "data": {
            "image/png": "[encoded data removed]",
            "text/plain": [
              "<Figure size 1440x864 with 6 Axes>"
            ]
          },
          "metadata": {
            "tags": [],
            "needs_background": "light"
          }
        }
      ]
    },
    {
      "cell_type": "code",
      "metadata": {
        "id": "FtMc7SrCJfAF",
        "colab": {
          "base_uri": "https://localhost:8080/",
          "height": 297
        },
        "outputId": "36cfae5f-0235-435b-fce4-78cb29d0f5ad"
      },
      "source": [
        "planilha.plot(\"DATA\",\"Casos de Dengue\")"
      ],
      "execution_count": 102,
      "outputs": [
        {
          "output_type": "execute_result",
          "data": {
            "text/plain": [
              "<matplotlib.axes._subplots.AxesSubplot at 0x7f25a919ec50>"
            ]
          },
          "metadata": {
            "tags": []
          },
          "execution_count": 102
        },
        {
          "output_type": "display_data",
          "data": {
            "image/png": "[encoded data removed]",
            "text/plain": [
              "<Figure size 432x288 with 1 Axes>"
            ]
          },
          "metadata": {
            "tags": [],
            "needs_background": "light"
          }
        }
      ]
    },
    {
      "cell_type": "code",
      "metadata": {
        "id": "MpdBH-YrKhM4"
      },
      "source": [
        "plan_dados = planilha [[\"DATA\",\"Casos de Dengue\",\"Temp Maxima Media\"]]\n",
        "plan_dados"
      ],
      "execution_count": null,
      "outputs": []
    },
    {
      "cell_type": "code",
      "metadata": {
        "id": "i8L74vU0LHEy"
      },
      "source": [
        "dados_agrupados=plan_dados.groupby(by=\"DATA\").sum()\n",
        "dados_agrupados"
      ],
      "execution_count": null,
      "outputs": []
    },
    {
      "cell_type": "code",
      "metadata": {
        "id": "xRugL1GQLV2w"
      },
      "source": [
        "dados_org_op = dados_agrupados.sort_values(by='Casos de Dengue')\n",
        "dados_org_op"
      ],
      "execution_count": null,
      "outputs": []
    },
    {
      "cell_type": "code",
      "metadata": {
        "id": "k-i9VqInLhdg"
      },
      "source": [
        "dados_org_op.plot('Casos de Dengue',figsize=(8,5) )"
      ],
      "execution_count": null,
      "outputs": []
    }
  ]
}