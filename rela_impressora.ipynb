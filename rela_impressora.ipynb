{
  "nbformat": 4,
  "nbformat_minor": 0,
  "metadata": {
    "colab": {
      "name": "rela_impressora.ipynb",
      "provenance": [],
      "collapsed_sections": [],
      "authorship_tag": "ABX9TyMbdcCUCwD6vHZi8lY6feLi",
      "include_colab_link": true
    },
    "kernelspec": {
      "name": "python3",
      "display_name": "Python 3"
    }
  },
  "cells": [
    {
      "cell_type": "markdown",
      "metadata": {
        "id": "view-in-github",
        "colab_type": "text"
      },
      "source": [
        "<a href=\"https://colab.research.google.com/github/antoniovitorio/Projetos/blob/master/rela_impressora.ipynb\" target=\"_parent\"><img src=\"https://colab.research.google.com/assets/colab-badge.svg\" alt=\"Open In Colab\"/></a>"
      ]
    },
    {
      "cell_type": "markdown",
      "metadata": {
        "id": "IG4ZAqUwbZp3",
        "colab_type": "text"
      },
      "source": [
        "# ***BIBLIOTECAS / INTEGRAÇÃO/ ORGANIZAÇÃO DOS DADOS***"
      ]
    },
    {
      "cell_type": "code",
      "metadata": {
        "id": "uYQFUD6WOKnS",
        "colab_type": "code",
        "colab": {}
      },
      "source": [
        "import pandas as pd\n",
        "import numpy as np\n",
        "import io\n",
        "import matplotlib.pyplot as plt\n",
        "import csv\n",
        "import plotly.graph_objects as go\n",
        "import plotly.express as px\n",
        "from matplotlib.axes import Subplot\n",
        "from matplotlib.figure import Figure"
      ],
      "execution_count": 1,
      "outputs": []
    },
    {
      "cell_type": "code",
      "metadata": {
        "id": "oCfCvweMOdZC",
        "colab_type": "code",
        "colab": {}
      },
      "source": [
        "%matplotlib inline"
      ],
      "execution_count": 3,
      "outputs": []
    },
    {
      "cell_type": "code",
      "metadata": {
        "id": "mYgrvLi7OgBN",
        "colab_type": "code",
        "colab": {}
      },
      "source": [
        "pip install pdf_reports -q"
      ],
      "execution_count": null,
      "outputs": []
    },
    {
      "cell_type": "code",
      "metadata": {
        "id": "tgW7YHbaOZ_7",
        "colab_type": "code",
        "colab": {}
      },
      "source": [
        "from datetime import datetime\n",
        "from pdf_reports import pug_to_html, write_report"
      ],
      "execution_count": 5,
      "outputs": []
    },
    {
      "cell_type": "code",
      "metadata": {
        "id": "bRTdq9s2Opmr",
        "colab_type": "code",
        "colab": {}
      },
      "source": [
        "DF_OPE = pd.read_excel(\"/content/sample_data/dados_ope.xlsx\")\n",
        "DF_OPE"
      ],
      "execution_count": null,
      "outputs": []
    },
    {
      "cell_type": "code",
      "metadata": {
        "id": "i8gxJHIbOurf",
        "colab_type": "code",
        "colab": {}
      },
      "source": [
        "DF_ADM = pd.read_excel(\"/content/sample_data/dados_adm_imp.xlsx\")\n",
        "DF_ADM"
      ],
      "execution_count": null,
      "outputs": []
    },
    {
      "cell_type": "code",
      "metadata": {
        "id": "alYO39UqO1RX",
        "colab_type": "code",
        "colab": {}
      },
      "source": [
        "DF_OPE.rename (columns= {\"User Name\": \"Usuario\",\n",
        "                        \"Type\": \"Processo\",\n",
        "                       \"Print Pages\": \"Total de Paginas\",\n",
        "                       \"Time\": \"Hora\",\n",
        "                       \"Date\": \"Data\",\n",
        "                       \"Job Name\": \"Nome do Arquivo\"\t},inplace = True)"
      ],
      "execution_count": 40,
      "outputs": []
    },
    {
      "cell_type": "code",
      "metadata": {
        "id": "QmwDDlFlO17e",
        "colab_type": "code",
        "colab": {}
      },
      "source": [
        "DF_ADM.rename (columns= {\"User Name\": \"Usuario\",\n",
        "                        \"Type\": \"Processo\",\n",
        "                       \"Print Pages\": \"Total de Paginas\",\n",
        "                       \"Time\": \"Hora\",\n",
        "                       \"Date\": \"Data\",\n",
        "                       \"Job Name\": \"Nome do Arquivo\"\t},inplace = True)"
      ],
      "execution_count": 41,
      "outputs": []
    },
    {
      "cell_type": "code",
      "metadata": {
        "id": "Ksbg4MyLPA7Q",
        "colab_type": "code",
        "colab": {}
      },
      "source": [
        "DF_OPE.head()"
      ],
      "execution_count": null,
      "outputs": []
    },
    {
      "cell_type": "code",
      "metadata": {
        "id": "CwRdgMErPC9X",
        "colab_type": "code",
        "colab": {}
      },
      "source": [
        "DF_ADM.head()"
      ],
      "execution_count": null,
      "outputs": []
    },
    {
      "cell_type": "code",
      "metadata": {
        "id": "jAMkIgE2PFTf",
        "colab_type": "code",
        "colab": {}
      },
      "source": [
        "DF_TOTAL = pd.concat([DF_OPE, DF_ADM], ignore_index=True)"
      ],
      "execution_count": 44,
      "outputs": []
    },
    {
      "cell_type": "code",
      "metadata": {
        "id": "IIWmJffCPHFn",
        "colab_type": "code",
        "colab": {}
      },
      "source": [
        "DF_TOTAL"
      ],
      "execution_count": null,
      "outputs": []
    },
    {
      "cell_type": "code",
      "metadata": {
        "id": "4A39LlD8Pcuo",
        "colab_type": "code",
        "colab": {}
      },
      "source": [
        "DADOS_TOTAL = DF_TOTAL [[\"Usuario\",\"Total de Paginas\"]]\n",
        "DADOS_TOTAL"
      ],
      "execution_count": null,
      "outputs": []
    },
    {
      "cell_type": "code",
      "metadata": {
        "id": "BlEMhReKPdW1",
        "colab_type": "code",
        "colab": {}
      },
      "source": [
        "dados_agrupados_total=DADOS_TOTAL.groupby(by=\"Usuario\").sum()\n",
        "dados_agrupados_total"
      ],
      "execution_count": null,
      "outputs": []
    },
    {
      "cell_type": "code",
      "metadata": {
        "id": "00ny3E0pZjtW",
        "colab_type": "code",
        "colab": {}
      },
      "source": [
        "coluna= ['Luis.Franca',\n",
        "         'Taliane.Lima',\n",
        "         'ascencao.ferreira',\n",
        "         'brendo.mendonca',\n",
        "         'Christian.Cutrim',\n",
        "         'damiao.silva',\n",
        "         'davisson.silva',\n",
        "         'graciele.gomes',\n",
        "         'jadna.pinheiro',\n",
        "         'jose.silva',\n",
        "         'marselle.ribeiro',\n",
        "         'pamela.silva',\n",
        "         'patricia.oliveira']"
      ],
      "execution_count": 54,
      "outputs": []
    },
    {
      "cell_type": "code",
      "metadata": {
        "id": "PpDGfRo6agp9",
        "colab_type": "code",
        "colab": {}
      },
      "source": [
        "dados_agrupados_total.insert(loc=0, column=\"Nome\",value= coluna)"
      ],
      "execution_count": 55,
      "outputs": []
    },
    {
      "cell_type": "code",
      "metadata": {
        "id": "6YOqorzDalGM",
        "colab_type": "code",
        "colab": {}
      },
      "source": [
        "dados_agrupados_total.head(10)"
      ],
      "execution_count": null,
      "outputs": []
    },
    {
      "cell_type": "code",
      "metadata": {
        "id": "03nN1HZ5ZR9W",
        "colab_type": "code",
        "colab": {}
      },
      "source": [
        "dados_org_total = dados_agrupados_total.sort_values(by='Total de Paginas')\n",
        "dados_org_total"
      ],
      "execution_count": null,
      "outputs": []
    },
    {
      "cell_type": "markdown",
      "metadata": {
        "id": "ECIbj3Y3bvE1",
        "colab_type": "text"
      },
      "source": [
        "# ***VISUALIZAÇÃO DOS DADOS (GRAFICOS)***"
      ]
    },
    {
      "cell_type": "markdown",
      "metadata": {
        "id": "MjnAWQB3enIJ",
        "colab_type": "text"
      },
      "source": [
        "**Grafico Pizza**"
      ]
    },
    {
      "cell_type": "code",
      "metadata": {
        "id": "DcT4R_N9b27h",
        "colab_type": "code",
        "colab": {}
      },
      "source": [
        "DF_GRAFICO = dados_org_total\n",
        "DF_GRAFICO"
      ],
      "execution_count": null,
      "outputs": []
    },
    {
      "cell_type": "code",
      "metadata": {
        "id": "8kR1C6C-eiGW",
        "colab_type": "code",
        "colab": {}
      },
      "source": [
        "print(DF_GRAFICO.to_string())"
      ],
      "execution_count": null,
      "outputs": []
    },
    {
      "cell_type": "code",
      "metadata": {
        "id": "I3qNanXYelYX",
        "colab_type": "code",
        "colab": {}
      },
      "source": [
        "fig_pizza = px.pie(DF_GRAFICO, values='Total de Paginas', names='Nome', title='Grafico usuario')\n",
        "fig_pizza.update_traces(textinfo='percent+label')\n",
        "fig_pizza.show()"
      ],
      "execution_count": null,
      "outputs": []
    },
    {
      "cell_type": "markdown",
      "metadata": {
        "id": "dkzt0YjTf227",
        "colab_type": "text"
      },
      "source": [
        "**Grafico Barras**"
      ]
    },
    {
      "cell_type": "code",
      "metadata": {
        "id": "qMbx8Dagf8xc",
        "colab_type": "code",
        "colab": {}
      },
      "source": [
        ""
      ],
      "execution_count": null,
      "outputs": []
    }
  ]
}