{
  "nbformat": 4,
  "nbformat_minor": 0,
  "metadata": {
    "colab": {
      "name": "Relatorio_IMP_ADM.ipynb",
      "provenance": [],
      "collapsed_sections": [],
      "authorship_tag": "ABX9TyMfHRDpI6aakDzsfsoFIwvO",
      "include_colab_link": true
    },
    "kernelspec": {
      "name": "python3",
      "display_name": "Python 3"
    }
  },
  "cells": [
    {
      "cell_type": "markdown",
      "metadata": {
        "id": "view-in-github",
        "colab_type": "text"
      },
      "source": [
        "<a href=\"https://colab.research.google.com/github/antoniovitorio/Projetos/blob/master/Relatorio_IMP_ADM.ipynb\" target=\"_parent\"><img src=\"https://colab.research.google.com/assets/colab-badge.svg\" alt=\"Open In Colab\"/></a>"
      ]
    },
    {
      "cell_type": "code",
      "metadata": {
        "id": "qOSyXqDlg4oT",
        "colab_type": "code",
        "colab": {}
      },
      "source": [
        "%matplotlib inline"
      ],
      "execution_count": 1,
      "outputs": []
    },
    {
      "cell_type": "code",
      "metadata": {
        "id": "Bu-LrcVkg7Cs",
        "colab_type": "code",
        "colab": {}
      },
      "source": [
        "import pandas as pd"
      ],
      "execution_count": 2,
      "outputs": []
    },
    {
      "cell_type": "code",
      "metadata": {
        "id": "GWu6c76Wg8m5",
        "colab_type": "code",
        "colab": {}
      },
      "source": [
        "import numpy as np"
      ],
      "execution_count": 3,
      "outputs": []
    },
    {
      "cell_type": "code",
      "metadata": {
        "id": "2W0pyFTSg_CG",
        "colab_type": "code",
        "colab": {}
      },
      "source": [
        "import io"
      ],
      "execution_count": 4,
      "outputs": []
    },
    {
      "cell_type": "code",
      "metadata": {
        "id": "Yj6IxcqbhBg5",
        "colab_type": "code",
        "colab": {}
      },
      "source": [
        "import matplotlib.pyplot as plt"
      ],
      "execution_count": 5,
      "outputs": []
    },
    {
      "cell_type": "code",
      "metadata": {
        "id": "rTdAXQWEhDLh",
        "colab_type": "code",
        "colab": {}
      },
      "source": [
        "import csv"
      ],
      "execution_count": 6,
      "outputs": []
    },
    {
      "cell_type": "code",
      "metadata": {
        "id": "WMTpuSPXhK_W",
        "colab_type": "code",
        "colab": {}
      },
      "source": [
        "pd.read_excel(\"/content/sample_data/ADM_IMPRESSOARA.xlsx\")"
      ],
      "execution_count": null,
      "outputs": []
    },
    {
      "cell_type": "code",
      "metadata": {
        "id": "OHPFxKwmin6E",
        "colab_type": "code",
        "colab": {}
      },
      "source": [
        "data = pd.read_excel(\"/content/sample_data/ADM_IMPRESSOARA.xlsx\")"
      ],
      "execution_count": 8,
      "outputs": []
    },
    {
      "cell_type": "code",
      "metadata": {
        "id": "FgTTx-Y8leUT",
        "colab_type": "code",
        "colab": {}
      },
      "source": [
        "data"
      ],
      "execution_count": null,
      "outputs": []
    },
    {
      "cell_type": "code",
      "metadata": {
        "id": "srVFLzVcjFZz",
        "colab_type": "code",
        "colab": {}
      },
      "source": [
        "data.rename (columns= {\"User Name\": \"Usuario\",\n",
        "                        \"Type\": \"Processo\",\n",
        "                       \"Print Pages\": \"Total de Paginas\",\n",
        "                       \"Time\": \"Hora\",\n",
        "                       \"Date\": \"Data\",\n",
        "                       \"Job Name\": \"Nome do Arquivo\"\t},inplace = True)"
      ],
      "execution_count": 10,
      "outputs": []
    },
    {
      "cell_type": "code",
      "metadata": {
        "id": "LSbmREtdjIGa",
        "colab_type": "code",
        "colab": {}
      },
      "source": [
        "data"
      ],
      "execution_count": null,
      "outputs": []
    },
    {
      "cell_type": "code",
      "metadata": {
        "id": "4lex4K7RjMSn",
        "colab_type": "code",
        "colab": {}
      },
      "source": [
        "# DADOS USUARIOS \n",
        "data [[\"Usuario\",\"Processo\",\"Total de Paginas\",\"Data\",\"Hora\"]]"
      ],
      "execution_count": null,
      "outputs": []
    },
    {
      "cell_type": "code",
      "metadata": {
        "id": "lm3mL8Jrn4bB",
        "colab_type": "code",
        "colab": {}
      },
      "source": [
        "# DADOS NOME DO AQRUIVO \n",
        "Npag= data [[\"Usuario\",\"Processo\",\"Nome do Arquivo\",\"Total de Paginas\"]]"
      ],
      "execution_count": 15,
      "outputs": []
    },
    {
      "cell_type": "code",
      "metadata": {
        "id": "aN5QOaIho10q",
        "colab_type": "code",
        "colab": {}
      },
      "source": [
        "# DADOS NOME DO AQRUIVO \n",
        "Npag"
      ],
      "execution_count": null,
      "outputs": []
    },
    {
      "cell_type": "code",
      "metadata": {
        "id": "Favh8VbpjPZ3",
        "colab_type": "code",
        "colab": {}
      },
      "source": [
        "# DADOS USUARIOS \n",
        "data [[\"Usuario\",\"Processo\",\"Total de Paginas\"]]"
      ],
      "execution_count": null,
      "outputs": []
    },
    {
      "cell_type": "code",
      "metadata": {
        "id": "dnTcE9v5pRSL",
        "colab_type": "code",
        "colab": {}
      },
      "source": [
        "# DADOS NOME DO AQRUIVO \n",
        "Npag[[\"Processo\",\"Nome do Arquivo\",\"Total de Paginas\"]]"
      ],
      "execution_count": null,
      "outputs": []
    },
    {
      "cell_type": "code",
      "metadata": {
        "id": "eWd_sczcjSy2",
        "colab_type": "code",
        "colab": {}
      },
      "source": [
        "# DADOS USUARIOS \n",
        "dados_grupos = data [[\"Usuario\",\"Processo\",\"Total de Paginas\"]]\n",
        "dados_grupos"
      ],
      "execution_count": null,
      "outputs": []
    },
    {
      "cell_type": "code",
      "metadata": {
        "id": "EGlP6QE-jX51",
        "colab_type": "code",
        "colab": {}
      },
      "source": [
        "# DADOS USUARIOS \n",
        "dados_teste=dados_grupos.groupby([\"Usuario\",\"Processo\"]).sum()"
      ],
      "execution_count": 176,
      "outputs": []
    },
    {
      "cell_type": "code",
      "metadata": {
        "id": "v7BoU4Cvjay-",
        "colab_type": "code",
        "colab": {}
      },
      "source": [
        "dados_teste"
      ],
      "execution_count": null,
      "outputs": []
    },
    {
      "cell_type": "code",
      "metadata": {
        "id": "WAwCUUAKp5-n",
        "colab_type": "code",
        "colab": {}
      },
      "source": [
        "# DADOS NOME DO AQRUIVO\n",
        "dados_npag=Npag[[\"Processo\",\"Nome do Arquivo\",\"Total de Paginas\"]]\n",
        "dados_npag"
      ],
      "execution_count": null,
      "outputs": []
    },
    {
      "cell_type": "code",
      "metadata": {
        "id": "BEFZ2TGsqzUo",
        "colab_type": "code",
        "colab": {}
      },
      "source": [
        "# DADOS NOME DO AQRUIVO\n",
        "DNpag = dados_npag[[\"Nome do Arquivo\",\"Total de Paginas\"]]\n",
        "DNpag"
      ],
      "execution_count": null,
      "outputs": []
    },
    {
      "cell_type": "code",
      "metadata": {
        "id": "3PGAXUx0jmhB",
        "colab_type": "code",
        "colab": {}
      },
      "source": [
        "# DADOS USUARIOS \n",
        "dados_user=dados_grupos.groupby([\"Usuario\"]).sum()\n",
        "dados_user"
      ],
      "execution_count": null,
      "outputs": []
    },
    {
      "cell_type": "code",
      "metadata": {
        "id": "ctkcG2Wru3MX",
        "colab_type": "code",
        "colab": {}
      },
      "source": [
        "dados_user.groupby('Usuario')\n",
        "dados_user"
      ],
      "execution_count": null,
      "outputs": []
    },
    {
      "cell_type": "code",
      "metadata": {
        "id": "FdyKIhOe0OnR",
        "colab_type": "code",
        "colab": {}
      },
      "source": [
        "#dados inteiro\n",
        "dados_user = dados_user.astype(int)"
      ],
      "execution_count": 60,
      "outputs": []
    },
    {
      "cell_type": "code",
      "metadata": {
        "id": "ewWsWD9MyM1U",
        "colab_type": "code",
        "colab": {
          "base_uri": "https://localhost:8080/",
          "height": 51
        },
        "outputId": "1fe09408-0e40-491b-d17a-fb41c0667c87"
      },
      "source": [
        "#total de paginas\n",
        "soma_total=dados_user.sum()\n",
        "soma_total"
      ],
      "execution_count": 136,
      "outputs": [
        {
          "output_type": "execute_result",
          "data": {
            "text/plain": [
              "Total de Paginas    672\n",
              "dtype: int64"
            ]
          },
          "metadata": {
            "tags": []
          },
          "execution_count": 136
        }
      ]
    },
    {
      "cell_type": "code",
      "metadata": {
        "id": "r0SoodLNqg8Z",
        "colab_type": "code",
        "colab": {}
      },
      "source": [
        "# DADOS NOME DO AQRUIVO\n",
        "Npag_data = DNpag.groupby([\"Nome do Arquivo\"]).sum()\n",
        "Npag_data"
      ],
      "execution_count": null,
      "outputs": []
    },
    {
      "cell_type": "code",
      "metadata": {
        "id": "cggxvFPZmrQl",
        "colab_type": "code",
        "colab": {}
      },
      "source": [
        "# DADOS USUARIOS \n",
        "dados_org = dados_user.sort_values(by='Total de Paginas')\n",
        "dados_org"
      ],
      "execution_count": null,
      "outputs": []
    },
    {
      "cell_type": "code",
      "metadata": {
        "id": "R1_LNXZir-KS",
        "colab_type": "code",
        "colab": {}
      },
      "source": [
        "# DADOS NOME DO AQRUIVO \n",
        "NPag_org = Npag_data.sort_values(by='Total de Paginas')\n",
        "NPag_org"
      ],
      "execution_count": null,
      "outputs": []
    },
    {
      "cell_type": "code",
      "metadata": {
        "id": "UXqCw4KQmxAE",
        "colab_type": "code",
        "colab": {}
      },
      "source": [
        "# GRAFICO DADOS USUARIOS\n",
        "dados= dados_org[[\"Total de Paginas\"]].plot(figsize=(15,8), kind = 'bar')\n",
        "plt.title(\"IMPRESSÃO POR USUÁRIO\", y=1.08, fontsize='20')\n",
        "plt.draw()"
      ],
      "execution_count": null,
      "outputs": []
    },
    {
      "cell_type": "code",
      "metadata": {
        "id": "3x6jPx5Jm_mL",
        "colab_type": "code",
        "colab": {}
      },
      "source": [
        "# GRAFICO DADOS USUARIOS\n",
        "dados= dados_org.plot(kind='pie',\n",
        "                      wedgeprops = {\"ec\": \"k\"},\n",
        "                      figsize=(17,8),\n",
        "                      labeldistance = 1.04,\n",
        "                      subplots=True,\n",
        "                      autopct='%1.1f%%',\n",
        "                      textprops = {\"fontsize\": 13})\n",
        "plt.axis('equal')\n",
        "plt.legend(title='Usuarios',loc='best')\n",
        "plt.tight_layout()\n",
        "plt.title(\"GRÁFICO 02\", y=5.08, fontsize='20')\n",
        "plt.draw()"
      ],
      "execution_count": null,
      "outputs": []
    },
    {
      "cell_type": "code",
      "metadata": {
        "id": "tkmmtSAZv9lF",
        "colab_type": "code",
        "colab": {}
      },
      "source": [
        "# DADOS NOME DO AQRUIVO\n",
        "NPpag_graf= NPag_org[[\"Total de Paginas\"]].plot(figsize=(15,8), kind = 'barh',color=\"firebrick\")\n",
        "plt.title(\"IMPRESSÃO DE ARQUIVO\", y=1.08, fontsize='20')\n",
        "plt.draw()"
      ],
      "execution_count": null,
      "outputs": []
    },
    {
      "cell_type": "code",
      "metadata": {
        "id": "WcgGlAW7JTtA",
        "colab_type": "code",
        "colab": {}
      },
      "source": [
        "soma_total[[\"Total de Paginas\"]].plot(figsize=(8,6), kind = 'bar')\n",
        "plt.title(\"IMPRESSÃO POR USUÁRIO\", y=1.08, fontsize='20')\n",
        "plt.draw()"
      ],
      "execution_count": null,
      "outputs": []
    },
    {
      "cell_type": "markdown",
      "metadata": {
        "id": "0TsmhgZtYAk2",
        "colab_type": "text"
      },
      "source": [
        "***AQUI COMEÇA POR DIA OU MES!***\n",
        "\n",
        "\n"
      ]
    },
    {
      "cell_type": "code",
      "metadata": {
        "id": "eikti88oK9Pp",
        "colab_type": "code",
        "colab": {}
      },
      "source": [
        "data"
      ],
      "execution_count": null,
      "outputs": []
    },
    {
      "cell_type": "code",
      "metadata": {
        "id": "lZUmSLG8LKwM",
        "colab_type": "code",
        "colab": {}
      },
      "source": [
        "data [[\"Usuario\",\"Processo\",\"Total de Paginas\",\"Data\",\"Hora\"]]"
      ],
      "execution_count": null,
      "outputs": []
    },
    {
      "cell_type": "code",
      "metadata": {
        "id": "3PjJ8C51Luzq",
        "colab_type": "code",
        "colab": {}
      },
      "source": [
        "por_dia = data [[\"Usuario\",\"Total de Paginas\",\"Data\"]]\n",
        "por_dia"
      ],
      "execution_count": null,
      "outputs": []
    },
    {
      "cell_type": "code",
      "metadata": {
        "id": "bLK4D63GP6Hh",
        "colab_type": "code",
        "colab": {}
      },
      "source": [
        "porteste = por_dia [[\"Usuario\",\"Total de Paginas\",\"Data\"]]\n",
        "porteste"
      ],
      "execution_count": null,
      "outputs": []
    },
    {
      "cell_type": "code",
      "metadata": {
        "id": "jJQonYWmSdVI",
        "colab_type": "code",
        "colab": {}
      },
      "source": [
        "#total por data sem usuario\n",
        "porteste.groupby(['Data']).sum()"
      ],
      "execution_count": null,
      "outputs": []
    },
    {
      "cell_type": "code",
      "metadata": {
        "id": "6U2Dbup1V9vy",
        "colab_type": "code",
        "colab": {}
      },
      "source": [
        "#total por dia\n",
        "porteste.groupby([data['Data'].dt.day, 'Usuario']).sum().rename(columns={'id': 'Total'})"
      ],
      "execution_count": null,
      "outputs": []
    },
    {
      "cell_type": "code",
      "metadata": {
        "id": "oylYxs2HXTZU",
        "colab_type": "code",
        "colab": {}
      },
      "source": [
        "#total por mes de cada usuario\n",
        "porteste.groupby([data['Data'].dt.month, 'Usuario']).sum().rename(columns={'id': 'Total'})"
      ],
      "execution_count": null,
      "outputs": []
    }
  ]
}